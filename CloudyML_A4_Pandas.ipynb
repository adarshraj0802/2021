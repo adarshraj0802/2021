{
  "nbformat": 4,
  "nbformat_minor": 5,
  "metadata": {
    "colab": {
      "name": "CloudyML_A4_Pandas.ipynb",
      "provenance": [],
      "collapsed_sections": []
    },
    "kernelspec": {
      "display_name": "Python 3",
      "language": "python",
      "name": "python3"
    },
    "language_info": {
      "codemirror_mode": {
        "name": "ipython",
        "version": 3
      },
      "file_extension": ".py",
      "mimetype": "text/x-python",
      "name": "python",
      "nbconvert_exporter": "python",
      "pygments_lexer": "ipython3",
      "version": "3.7.4"
    }
  },
  "cells": [
    {
      "cell_type": "markdown",
      "metadata": {
        "id": "direct-webmaster"
      },
      "source": [
        "# <center><u>Pandas <u> </center>"
      ],
      "id": "direct-webmaster"
    },
    {
      "cell_type": "markdown",
      "metadata": {
        "id": "living-vertical"
      },
      "source": [
        "## 1.[Pandas Series](https://pandas.pydata.org/pandas-docs/stable/reference/series.html)"
      ],
      "id": "living-vertical"
    },
    {
      "cell_type": "markdown",
      "metadata": {
        "id": "incorrect-excellence"
      },
      "source": [
        "resource - https://www.youtube.com/watch?v=m7gxnZx2vT4"
      ],
      "id": "incorrect-excellence"
    },
    {
      "cell_type": "markdown",
      "metadata": {
        "id": "forward-dylan"
      },
      "source": [
        "<p style='text-align: right;'> 1*4=4 points</p>\n"
      ],
      "id": "forward-dylan"
    },
    {
      "cell_type": "markdown",
      "metadata": {
        "id": "passing-blake"
      },
      "source": [
        "Import pandas and numpy with their aliases"
      ],
      "id": "passing-blake"
    },
    {
      "cell_type": "code",
      "metadata": {
        "id": "electrical-intro"
      },
      "source": [
        "import pandas as pd\n",
        "import numpy as np"
      ],
      "id": "electrical-intro",
      "execution_count": 2,
      "outputs": []
    },
    {
      "cell_type": "markdown",
      "metadata": {
        "id": "pleased-peoples"
      },
      "source": [
        "Create a variable a = pd.Series([ 100, 200, 300, 400])"
      ],
      "id": "pleased-peoples"
    },
    {
      "cell_type": "code",
      "metadata": {
        "id": "dried-hydrogen"
      },
      "source": [
        "a = pd.Series([100,200,300,400])"
      ],
      "id": "dried-hydrogen",
      "execution_count": 3,
      "outputs": []
    },
    {
      "cell_type": "markdown",
      "metadata": {
        "id": "upset-brother"
      },
      "source": [
        "Print a, and data type"
      ],
      "id": "upset-brother"
    },
    {
      "cell_type": "code",
      "metadata": {
        "id": "rapid-merit",
        "colab": {
          "base_uri": "https://localhost:8080/"
        },
        "outputId": "a7472deb-f2a3-4980-e39e-c6285131848a"
      },
      "source": [
        "print(a)\n",
        "print(a.dtypes)"
      ],
      "id": "rapid-merit",
      "execution_count": null,
      "outputs": [
        {
          "output_type": "stream",
          "text": [
            "0    100\n",
            "1    200\n",
            "2    300\n",
            "3    400\n",
            "dtype: int64\n",
            "int64\n"
          ],
          "name": "stdout"
        }
      ]
    },
    {
      "cell_type": "markdown",
      "metadata": {
        "id": "revolutionary-protocol"
      },
      "source": [
        "Using indexing access the element 300 from the series a."
      ],
      "id": "revolutionary-protocol"
    },
    {
      "cell_type": "code",
      "metadata": {
        "id": "continent-jungle",
        "colab": {
          "base_uri": "https://localhost:8080/"
        },
        "outputId": "d0ba9407-2a11-4682-95e2-1974cd3fc90b"
      },
      "source": [
        "a.iloc[2]"
      ],
      "id": "continent-jungle",
      "execution_count": null,
      "outputs": [
        {
          "output_type": "execute_result",
          "data": {
            "text/plain": [
              "300"
            ]
          },
          "metadata": {
            "tags": []
          },
          "execution_count": 9
        }
      ]
    },
    {
      "cell_type": "markdown",
      "metadata": {
        "id": "smoking-validation"
      },
      "source": [
        "What are the values of index for series a?"
      ],
      "id": "smoking-validation"
    },
    {
      "cell_type": "markdown",
      "metadata": {
        "id": "dangerous-marking"
      },
      "source": [
        "<p style='text-align: right;'> 2*4 = 8 points</p>\n"
      ],
      "id": "dangerous-marking"
    },
    {
      "cell_type": "code",
      "metadata": {
        "id": "flexible-massachusetts",
        "colab": {
          "base_uri": "https://localhost:8080/"
        },
        "outputId": "3f508b05-8177-4fbe-a567-af7d498dcb55"
      },
      "source": [
        "a.index"
      ],
      "id": "flexible-massachusetts",
      "execution_count": null,
      "outputs": [
        {
          "output_type": "execute_result",
          "data": {
            "text/plain": [
              "RangeIndex(start=0, stop=4, step=1)"
            ]
          },
          "metadata": {
            "tags": []
          },
          "execution_count": 9
        }
      ]
    },
    {
      "cell_type": "markdown",
      "metadata": {
        "id": "invisible-daily"
      },
      "source": [
        "Change the index to  ['c', 'a', 'b', 'd']"
      ],
      "id": "invisible-daily"
    },
    {
      "cell_type": "code",
      "metadata": {
        "colab": {
          "base_uri": "https://localhost:8080/"
        },
        "id": "jDIAe4pssc4H",
        "outputId": "c3556437-ed8c-4343-e2bd-897d10ab7471"
      },
      "source": [
        "a.index = ['c','a','b','d']\n",
        "print(a)"
      ],
      "id": "jDIAe4pssc4H",
      "execution_count": 4,
      "outputs": [
        {
          "output_type": "stream",
          "text": [
            "c    100\n",
            "a    200\n",
            "b    300\n",
            "d    400\n",
            "dtype: int64\n"
          ],
          "name": "stdout"
        }
      ]
    },
    {
      "cell_type": "markdown",
      "metadata": {
        "id": "negative-spectrum"
      },
      "source": [
        "Access the value in the series with index 'd'"
      ],
      "id": "negative-spectrum"
    },
    {
      "cell_type": "code",
      "metadata": {
        "colab": {
          "base_uri": "https://localhost:8080/"
        },
        "id": "jDl8jLNlsw8j",
        "outputId": "ac04721c-44c1-4512-edc3-417d9851f42a"
      },
      "source": [
        "a.loc['d']"
      ],
      "id": "jDl8jLNlsw8j",
      "execution_count": null,
      "outputs": [
        {
          "output_type": "execute_result",
          "data": {
            "text/plain": [
              "400"
            ]
          },
          "metadata": {
            "tags": []
          },
          "execution_count": 34
        }
      ]
    },
    {
      "cell_type": "markdown",
      "metadata": {
        "id": "smoking-force"
      },
      "source": [
        "Sort the values wrt to the index and print it"
      ],
      "id": "smoking-force"
    },
    {
      "cell_type": "code",
      "metadata": {
        "colab": {
          "base_uri": "https://localhost:8080/"
        },
        "id": "RXEm1Bges9v4",
        "outputId": "c417a557-1497-4be8-8a90-3e4c4cb919ca"
      },
      "source": [
        "a = a.sort_index(axis=0, ascending=True)\n",
        "print(a)"
      ],
      "id": "RXEm1Bges9v4",
      "execution_count": null,
      "outputs": [
        {
          "output_type": "stream",
          "text": [
            "0    100\n",
            "1    200\n",
            "2    300\n",
            "3    400\n",
            "dtype: int64\n"
          ],
          "name": "stdout"
        }
      ]
    },
    {
      "cell_type": "markdown",
      "metadata": {
        "id": "infrared-programmer"
      },
      "source": [
        "Create a new Pandas Series b having index as 'e', 'f', and 'g' and value 800,450,100 and print it"
      ],
      "id": "infrared-programmer"
    },
    {
      "cell_type": "markdown",
      "metadata": {
        "id": "representative-semiconductor"
      },
      "source": [
        "<p style='text-align: right;'> 4*2=8 points</p>\n"
      ],
      "id": "representative-semiconductor"
    },
    {
      "cell_type": "code",
      "metadata": {
        "colab": {
          "base_uri": "https://localhost:8080/"
        },
        "id": "gDgdunrOvX-2",
        "outputId": "2384331f-b70c-4f04-87ad-6078f8d52acb"
      },
      "source": [
        "b= pd.Series([800,450,100], index = ('e','f','g'))\n",
        "print(b)"
      ],
      "id": "gDgdunrOvX-2",
      "execution_count": 5,
      "outputs": [
        {
          "output_type": "stream",
          "text": [
            "e    800\n",
            "f    450\n",
            "g    100\n",
            "dtype: int64\n"
          ],
          "name": "stdout"
        }
      ]
    },
    {
      "cell_type": "markdown",
      "metadata": {
        "id": "higher-allocation"
      },
      "source": [
        "Append b series at the end of a series"
      ],
      "id": "higher-allocation"
    },
    {
      "cell_type": "code",
      "metadata": {
        "id": "incorporate-maine",
        "colab": {
          "base_uri": "https://localhost:8080/"
        },
        "outputId": "e35468c5-2e60-41ca-93ac-edc1ead4ff8d"
      },
      "source": [
        "#print a again after appending b into it\n",
        "a = pd.concat([a,b],axis=0)\n",
        "print(a)"
      ],
      "id": "incorporate-maine",
      "execution_count": 6,
      "outputs": [
        {
          "output_type": "stream",
          "text": [
            "c    100\n",
            "a    200\n",
            "b    300\n",
            "d    400\n",
            "e    800\n",
            "f    450\n",
            "g    100\n",
            "dtype: int64\n"
          ],
          "name": "stdout"
        }
      ]
    },
    {
      "cell_type": "markdown",
      "metadata": {
        "id": "upset-domestic"
      },
      "source": [
        "Sort the values in descending order of a and print the index of the sorted series"
      ],
      "id": "upset-domestic"
    },
    {
      "cell_type": "code",
      "metadata": {
        "id": "sunset-physiology"
      },
      "source": [
        "a= a.sort_index(ascending = False)"
      ],
      "id": "sunset-physiology",
      "execution_count": null,
      "outputs": []
    },
    {
      "cell_type": "code",
      "metadata": {
        "id": "confidential-blackberry",
        "colab": {
          "base_uri": "https://localhost:8080/"
        },
        "outputId": "2f9c72e8-177a-4938-b71e-fae40b66d6c2"
      },
      "source": [
        "# print index of a\n",
        "a.index"
      ],
      "id": "confidential-blackberry",
      "execution_count": null,
      "outputs": [
        {
          "output_type": "execute_result",
          "data": {
            "text/plain": [
              "Index(['g', 'f', 'e', 'd', 'c', 'b', 'a'], dtype='object')"
            ]
          },
          "metadata": {
            "tags": []
          },
          "execution_count": 48
        }
      ]
    },
    {
      "cell_type": "markdown",
      "metadata": {
        "id": "innovative-detroit"
      },
      "source": [
        "## 2. [Pandas DataFrame](https://pandas.pydata.org/pandas-docs/stable/reference/api/pandas.DataFrame.html)\n",
        "\n",
        "Reference:-https://www.youtube.com/watch?v=KB-19V-cSs4"
      ],
      "id": "innovative-detroit"
    },
    {
      "cell_type": "markdown",
      "metadata": {
        "id": "overhead-drive"
      },
      "source": [
        "<p style='text-align: right;'> 8*2 = 16 points</p>\n"
      ],
      "id": "overhead-drive"
    },
    {
      "cell_type": "markdown",
      "metadata": {
        "id": "nutritional-convert"
      },
      "source": [
        "### Part 1"
      ],
      "id": "nutritional-convert"
    },
    {
      "cell_type": "markdown",
      "metadata": {
        "id": "original-millennium"
      },
      "source": [
        "<p style='text-align: right;'> 5 points</p>\n"
      ],
      "id": "original-millennium"
    },
    {
      "cell_type": "markdown",
      "metadata": {
        "id": "killing-commitment"
      },
      "source": [
        "Create a pandas dataframe df from the series 'a' that we used in the last section, print the dataframe"
      ],
      "id": "killing-commitment"
    },
    {
      "cell_type": "code",
      "metadata": {
        "colab": {
          "base_uri": "https://localhost:8080/",
          "height": 254
        },
        "id": "qRTL1Ne0bfoR",
        "outputId": "97edc12d-2768-4443-f176-de1b0301a0d4"
      },
      "source": [
        "df = pd.DataFrame(a)\n",
        "df"
      ],
      "id": "qRTL1Ne0bfoR",
      "execution_count": 7,
      "outputs": [
        {
          "output_type": "execute_result",
          "data": {
            "text/html": [
              "<div>\n",
              "<style scoped>\n",
              "    .dataframe tbody tr th:only-of-type {\n",
              "        vertical-align: middle;\n",
              "    }\n",
              "\n",
              "    .dataframe tbody tr th {\n",
              "        vertical-align: top;\n",
              "    }\n",
              "\n",
              "    .dataframe thead th {\n",
              "        text-align: right;\n",
              "    }\n",
              "</style>\n",
              "<table border=\"1\" class=\"dataframe\">\n",
              "  <thead>\n",
              "    <tr style=\"text-align: right;\">\n",
              "      <th></th>\n",
              "      <th>0</th>\n",
              "    </tr>\n",
              "  </thead>\n",
              "  <tbody>\n",
              "    <tr>\n",
              "      <th>c</th>\n",
              "      <td>100</td>\n",
              "    </tr>\n",
              "    <tr>\n",
              "      <th>a</th>\n",
              "      <td>200</td>\n",
              "    </tr>\n",
              "    <tr>\n",
              "      <th>b</th>\n",
              "      <td>300</td>\n",
              "    </tr>\n",
              "    <tr>\n",
              "      <th>d</th>\n",
              "      <td>400</td>\n",
              "    </tr>\n",
              "    <tr>\n",
              "      <th>e</th>\n",
              "      <td>800</td>\n",
              "    </tr>\n",
              "    <tr>\n",
              "      <th>f</th>\n",
              "      <td>450</td>\n",
              "    </tr>\n",
              "    <tr>\n",
              "      <th>g</th>\n",
              "      <td>100</td>\n",
              "    </tr>\n",
              "  </tbody>\n",
              "</table>\n",
              "</div>"
            ],
            "text/plain": [
              "     0\n",
              "c  100\n",
              "a  200\n",
              "b  300\n",
              "d  400\n",
              "e  800\n",
              "f  450\n",
              "g  100"
            ]
          },
          "metadata": {
            "tags": []
          },
          "execution_count": 7
        }
      ]
    },
    {
      "cell_type": "markdown",
      "metadata": {
        "id": "legitimate-dubai"
      },
      "source": [
        "Point to ponder! Don't you think series a and dataframe df looks alike? But there must be some difference between them. \n",
        "Hey buddy think and write your thoughts below."
      ],
      "id": "legitimate-dubai"
    },
    {
      "cell_type": "code",
      "metadata": {
        "id": "quick-birmingham"
      },
      "source": [
        "# happy to know your comment\n",
        "\n",
        "# Series can only take one type of data at a time. whereas there is no such limitation when it comes to the dataframe."
      ],
      "id": "quick-birmingham",
      "execution_count": null,
      "outputs": []
    },
    {
      "cell_type": "markdown",
      "metadata": {
        "id": "bearing-collectible"
      },
      "source": [
        "<p style='text-align: right;'> 2 + 1*4 = 6 points</p>\n"
      ],
      "id": "bearing-collectible"
    },
    {
      "cell_type": "markdown",
      "metadata": {
        "id": "central-situation"
      },
      "source": [
        "What is the shape of the datafarme <br>\n"
      ],
      "id": "central-situation"
    },
    {
      "cell_type": "code",
      "metadata": {
        "colab": {
          "base_uri": "https://localhost:8080/"
        },
        "id": "BtHUrLUnxA5c",
        "outputId": "827f6985-8a9e-4009-eaf2-4e6a717aeab0"
      },
      "source": [
        "df.shape"
      ],
      "id": "BtHUrLUnxA5c",
      "execution_count": null,
      "outputs": [
        {
          "output_type": "execute_result",
          "data": {
            "text/plain": [
              "(7, 1)"
            ]
          },
          "metadata": {
            "tags": []
          },
          "execution_count": 47
        }
      ]
    },
    {
      "cell_type": "markdown",
      "metadata": {
        "id": "thrown-boring"
      },
      "source": [
        "Hey! remember shape (7,1) implies dataframe has 7 rows and 1 column. "
      ],
      "id": "thrown-boring"
    },
    {
      "cell_type": "markdown",
      "metadata": {
        "id": "eleven-intent"
      },
      "source": [
        "What is the index of the dataframe, is it same as the series 'a' ?"
      ],
      "id": "eleven-intent"
    },
    {
      "cell_type": "code",
      "metadata": {
        "colab": {
          "base_uri": "https://localhost:8080/"
        },
        "id": "iHPVh2RKxrsC",
        "outputId": "ebd1f8e7-7974-44cd-e108-62b5f3e089c8"
      },
      "source": [
        "df.index"
      ],
      "id": "iHPVh2RKxrsC",
      "execution_count": null,
      "outputs": [
        {
          "output_type": "execute_result",
          "data": {
            "text/plain": [
              "Index(['c', 'a', 'b', 'd', 'e', 'f', 'g'], dtype='object')"
            ]
          },
          "metadata": {
            "tags": []
          },
          "execution_count": 12
        }
      ]
    },
    {
      "cell_type": "markdown",
      "metadata": {
        "id": "respective-apollo"
      },
      "source": [
        "print the head and tail of the dataframe. <br>\n",
        "Additional - (what does head and tali represent?)"
      ],
      "id": "respective-apollo"
    },
    {
      "cell_type": "code",
      "metadata": {
        "id": "prescription-indie",
        "colab": {
          "base_uri": "https://localhost:8080/",
          "height": 195
        },
        "outputId": "5a4b5255-be57-48d6-9360-b305a11e07d1"
      },
      "source": [
        "#head\n",
        "df.head()"
      ],
      "id": "prescription-indie",
      "execution_count": null,
      "outputs": [
        {
          "output_type": "execute_result",
          "data": {
            "text/html": [
              "<div>\n",
              "<style scoped>\n",
              "    .dataframe tbody tr th:only-of-type {\n",
              "        vertical-align: middle;\n",
              "    }\n",
              "\n",
              "    .dataframe tbody tr th {\n",
              "        vertical-align: top;\n",
              "    }\n",
              "\n",
              "    .dataframe thead th {\n",
              "        text-align: right;\n",
              "    }\n",
              "</style>\n",
              "<table border=\"1\" class=\"dataframe\">\n",
              "  <thead>\n",
              "    <tr style=\"text-align: right;\">\n",
              "      <th></th>\n",
              "      <th>0</th>\n",
              "    </tr>\n",
              "  </thead>\n",
              "  <tbody>\n",
              "    <tr>\n",
              "      <th>c</th>\n",
              "      <td>100</td>\n",
              "    </tr>\n",
              "    <tr>\n",
              "      <th>a</th>\n",
              "      <td>200</td>\n",
              "    </tr>\n",
              "    <tr>\n",
              "      <th>b</th>\n",
              "      <td>300</td>\n",
              "    </tr>\n",
              "    <tr>\n",
              "      <th>d</th>\n",
              "      <td>400</td>\n",
              "    </tr>\n",
              "    <tr>\n",
              "      <th>e</th>\n",
              "      <td>800</td>\n",
              "    </tr>\n",
              "  </tbody>\n",
              "</table>\n",
              "</div>"
            ],
            "text/plain": [
              "     0\n",
              "c  100\n",
              "a  200\n",
              "b  300\n",
              "d  400\n",
              "e  800"
            ]
          },
          "metadata": {
            "tags": []
          },
          "execution_count": 20
        }
      ]
    },
    {
      "cell_type": "code",
      "metadata": {
        "id": "urban-depression",
        "colab": {
          "base_uri": "https://localhost:8080/",
          "height": 195
        },
        "outputId": "7cac071b-08e6-4c0e-94a3-4630093d671a"
      },
      "source": [
        "#tail\n",
        "df.tail()"
      ],
      "id": "urban-depression",
      "execution_count": null,
      "outputs": [
        {
          "output_type": "execute_result",
          "data": {
            "text/html": [
              "<div>\n",
              "<style scoped>\n",
              "    .dataframe tbody tr th:only-of-type {\n",
              "        vertical-align: middle;\n",
              "    }\n",
              "\n",
              "    .dataframe tbody tr th {\n",
              "        vertical-align: top;\n",
              "    }\n",
              "\n",
              "    .dataframe thead th {\n",
              "        text-align: right;\n",
              "    }\n",
              "</style>\n",
              "<table border=\"1\" class=\"dataframe\">\n",
              "  <thead>\n",
              "    <tr style=\"text-align: right;\">\n",
              "      <th></th>\n",
              "      <th>0</th>\n",
              "    </tr>\n",
              "  </thead>\n",
              "  <tbody>\n",
              "    <tr>\n",
              "      <th>b</th>\n",
              "      <td>300</td>\n",
              "    </tr>\n",
              "    <tr>\n",
              "      <th>d</th>\n",
              "      <td>400</td>\n",
              "    </tr>\n",
              "    <tr>\n",
              "      <th>e</th>\n",
              "      <td>800</td>\n",
              "    </tr>\n",
              "    <tr>\n",
              "      <th>f</th>\n",
              "      <td>450</td>\n",
              "    </tr>\n",
              "    <tr>\n",
              "      <th>g</th>\n",
              "      <td>100</td>\n",
              "    </tr>\n",
              "  </tbody>\n",
              "</table>\n",
              "</div>"
            ],
            "text/plain": [
              "     0\n",
              "b  300\n",
              "d  400\n",
              "e  800\n",
              "f  450\n",
              "g  100"
            ]
          },
          "metadata": {
            "tags": []
          },
          "execution_count": 21
        }
      ]
    },
    {
      "cell_type": "markdown",
      "metadata": {
        "id": "bigger-tumor"
      },
      "source": [
        "Rename the columns of the dataframe as 'points'"
      ],
      "id": "bigger-tumor"
    },
    {
      "cell_type": "markdown",
      "metadata": {
        "id": "digital-short"
      },
      "source": [
        "<p style='text-align: right;'> 2 points</p>\n"
      ],
      "id": "digital-short"
    },
    {
      "cell_type": "code",
      "metadata": {
        "colab": {
          "base_uri": "https://localhost:8080/",
          "height": 254
        },
        "id": "cXHV47r5zCfK",
        "outputId": "1d281830-672c-475d-8867-b4f9d4bd8cc0"
      },
      "source": [
        "df = df.rename(columns = {0: 'points'}, inplace = False)\n",
        "df"
      ],
      "id": "cXHV47r5zCfK",
      "execution_count": 8,
      "outputs": [
        {
          "output_type": "execute_result",
          "data": {
            "text/html": [
              "<div>\n",
              "<style scoped>\n",
              "    .dataframe tbody tr th:only-of-type {\n",
              "        vertical-align: middle;\n",
              "    }\n",
              "\n",
              "    .dataframe tbody tr th {\n",
              "        vertical-align: top;\n",
              "    }\n",
              "\n",
              "    .dataframe thead th {\n",
              "        text-align: right;\n",
              "    }\n",
              "</style>\n",
              "<table border=\"1\" class=\"dataframe\">\n",
              "  <thead>\n",
              "    <tr style=\"text-align: right;\">\n",
              "      <th></th>\n",
              "      <th>points</th>\n",
              "    </tr>\n",
              "  </thead>\n",
              "  <tbody>\n",
              "    <tr>\n",
              "      <th>c</th>\n",
              "      <td>100</td>\n",
              "    </tr>\n",
              "    <tr>\n",
              "      <th>a</th>\n",
              "      <td>200</td>\n",
              "    </tr>\n",
              "    <tr>\n",
              "      <th>b</th>\n",
              "      <td>300</td>\n",
              "    </tr>\n",
              "    <tr>\n",
              "      <th>d</th>\n",
              "      <td>400</td>\n",
              "    </tr>\n",
              "    <tr>\n",
              "      <th>e</th>\n",
              "      <td>800</td>\n",
              "    </tr>\n",
              "    <tr>\n",
              "      <th>f</th>\n",
              "      <td>450</td>\n",
              "    </tr>\n",
              "    <tr>\n",
              "      <th>g</th>\n",
              "      <td>100</td>\n",
              "    </tr>\n",
              "  </tbody>\n",
              "</table>\n",
              "</div>"
            ],
            "text/plain": [
              "   points\n",
              "c     100\n",
              "a     200\n",
              "b     300\n",
              "d     400\n",
              "e     800\n",
              "f     450\n",
              "g     100"
            ]
          },
          "metadata": {
            "tags": []
          },
          "execution_count": 8
        }
      ]
    },
    {
      "cell_type": "markdown",
      "metadata": {
        "id": "thrown-market"
      },
      "source": [
        "Create another Series 'fruits', which contains random names of fruits from ['orange','mango','apple']. The series should contain 7 elements, randomly selected from ['orange','mango','apple']"
      ],
      "id": "thrown-market"
    },
    {
      "cell_type": "markdown",
      "metadata": {
        "id": "behind-wales"
      },
      "source": [
        "<p style='text-align: right;'> 5 points</p>\n"
      ],
      "id": "behind-wales"
    },
    {
      "cell_type": "code",
      "metadata": {
        "id": "hidden-blade",
        "colab": {
          "base_uri": "https://localhost:8080/"
        },
        "outputId": "7a510d19-95bc-4397-a393-db23ed13933c"
      },
      "source": [
        "#Create fruits array\n",
        "fruits = ['orange','orange','mango','mango','mango','apple','apple']\n",
        "fruits"
      ],
      "id": "hidden-blade",
      "execution_count": 8,
      "outputs": [
        {
          "output_type": "execute_result",
          "data": {
            "text/plain": [
              "['orange', 'orange', 'mango', 'mango', 'mango', 'apple', 'apple']"
            ]
          },
          "metadata": {
            "tags": []
          },
          "execution_count": 8
        }
      ]
    },
    {
      "cell_type": "markdown",
      "metadata": {
        "id": "central-statement"
      },
      "source": [
        "The above output might vary based randomness"
      ],
      "id": "central-statement"
    },
    {
      "cell_type": "code",
      "metadata": {
        "id": "superb-marriage",
        "colab": {
          "base_uri": "https://localhost:8080/"
        },
        "outputId": "fd94a061-7d54-4663-dbae-6fc1c34351b0"
      },
      "source": [
        "#Create series fruits out of fruits array\n",
        "fruits = pd.Series(fruits)\n",
        "fruits"
      ],
      "id": "superb-marriage",
      "execution_count": 9,
      "outputs": [
        {
          "output_type": "execute_result",
          "data": {
            "text/plain": [
              "0    orange\n",
              "1    orange\n",
              "2     mango\n",
              "3     mango\n",
              "4     mango\n",
              "5     apple\n",
              "6     apple\n",
              "dtype: object"
            ]
          },
          "metadata": {
            "tags": []
          },
          "execution_count": 9
        }
      ]
    },
    {
      "cell_type": "markdown",
      "metadata": {
        "id": "suspected-convertible"
      },
      "source": [
        "Change the index of fruits to the index of dataframe df"
      ],
      "id": "suspected-convertible"
    },
    {
      "cell_type": "markdown",
      "metadata": {
        "id": "identical-hypothesis"
      },
      "source": [
        "<p style='text-align: right;'> 5 points</p>\n"
      ],
      "id": "identical-hypothesis"
    },
    {
      "cell_type": "code",
      "metadata": {
        "colab": {
          "base_uri": "https://localhost:8080/"
        },
        "id": "2nFjtw9g7t6k",
        "outputId": "871ad7c2-73c3-482b-cf85-abb8251c651a"
      },
      "source": [
        "fruits = ['orange','orange','mango','mango','mango','apple','apple']\n",
        "fruits = pd.Series(fruits, index = ['c','a','b','d','e','f','g'])\n",
        "fruits"
      ],
      "id": "2nFjtw9g7t6k",
      "execution_count": 10,
      "outputs": [
        {
          "output_type": "execute_result",
          "data": {
            "text/plain": [
              "c    orange\n",
              "a    orange\n",
              "b     mango\n",
              "d     mango\n",
              "e     mango\n",
              "f     apple\n",
              "g     apple\n",
              "dtype: object"
            ]
          },
          "metadata": {
            "tags": []
          },
          "execution_count": 10
        }
      ]
    },
    {
      "cell_type": "markdown",
      "metadata": {
        "id": "recorded-church"
      },
      "source": [
        "Add this fruits series as a new column to the dataframe df with its column name as 'fruits' <br> print the head of the dataframe to verify"
      ],
      "id": "recorded-church"
    },
    {
      "cell_type": "code",
      "metadata": {
        "colab": {
          "base_uri": "https://localhost:8080/",
          "height": 195
        },
        "id": "UmKm0hJD-Wcq",
        "outputId": "830b0fb7-eb46-452d-aed6-62f4f919e2b7"
      },
      "source": [
        "df1 = pd.concat([df,fruits], axis = 1)\n",
        "df1 = df1.rename(columns = {0:'fruits'}, inplace= False)\n",
        "df1.head()"
      ],
      "id": "UmKm0hJD-Wcq",
      "execution_count": 11,
      "outputs": [
        {
          "output_type": "execute_result",
          "data": {
            "text/html": [
              "<div>\n",
              "<style scoped>\n",
              "    .dataframe tbody tr th:only-of-type {\n",
              "        vertical-align: middle;\n",
              "    }\n",
              "\n",
              "    .dataframe tbody tr th {\n",
              "        vertical-align: top;\n",
              "    }\n",
              "\n",
              "    .dataframe thead th {\n",
              "        text-align: right;\n",
              "    }\n",
              "</style>\n",
              "<table border=\"1\" class=\"dataframe\">\n",
              "  <thead>\n",
              "    <tr style=\"text-align: right;\">\n",
              "      <th></th>\n",
              "      <th>points</th>\n",
              "      <th>fruits</th>\n",
              "    </tr>\n",
              "  </thead>\n",
              "  <tbody>\n",
              "    <tr>\n",
              "      <th>c</th>\n",
              "      <td>100</td>\n",
              "      <td>orange</td>\n",
              "    </tr>\n",
              "    <tr>\n",
              "      <th>a</th>\n",
              "      <td>200</td>\n",
              "      <td>orange</td>\n",
              "    </tr>\n",
              "    <tr>\n",
              "      <th>b</th>\n",
              "      <td>300</td>\n",
              "      <td>mango</td>\n",
              "    </tr>\n",
              "    <tr>\n",
              "      <th>d</th>\n",
              "      <td>400</td>\n",
              "      <td>mango</td>\n",
              "    </tr>\n",
              "    <tr>\n",
              "      <th>e</th>\n",
              "      <td>800</td>\n",
              "      <td>mango</td>\n",
              "    </tr>\n",
              "  </tbody>\n",
              "</table>\n",
              "</div>"
            ],
            "text/plain": [
              "   points  fruits\n",
              "c     100  orange\n",
              "a     200  orange\n",
              "b     300   mango\n",
              "d     400   mango\n",
              "e     800   mango"
            ]
          },
          "metadata": {
            "tags": []
          },
          "execution_count": 11
        }
      ]
    },
    {
      "cell_type": "markdown",
      "metadata": {
        "id": "prime-therapy"
      },
      "source": [
        "<u>Bonus optional question:</u> <br>\n",
        "What if we had to changed the index of the dataframe? <br>\n",
        "Try to add any series to the dataframe with the origianl index (when index of series is not same as to the index of dataframe)\n",
        "\n",
        "Use series as pd.Series([100,200,300,400,500,600,700]) and try to add it to df with column name Bonus_number.\n",
        "\n",
        "Bonus marks: 5 points"
      ],
      "id": "prime-therapy"
    },
    {
      "cell_type": "code",
      "metadata": {
        "id": "consecutive-musical",
        "colab": {
          "base_uri": "https://localhost:8080/",
          "height": 462
        },
        "outputId": "a339633a-6eb4-41c6-f878-dbc5129e52a2"
      },
      "source": [
        "#bonus code here\n",
        "number = pd.Series([100,200,300,400,500,600,700])\n",
        "number\n",
        "\n",
        "df1 = pd.concat([df1,number], axis = 1)\n",
        "df1"
      ],
      "id": "consecutive-musical",
      "execution_count": null,
      "outputs": [
        {
          "output_type": "execute_result",
          "data": {
            "text/html": [
              "<div>\n",
              "<style scoped>\n",
              "    .dataframe tbody tr th:only-of-type {\n",
              "        vertical-align: middle;\n",
              "    }\n",
              "\n",
              "    .dataframe tbody tr th {\n",
              "        vertical-align: top;\n",
              "    }\n",
              "\n",
              "    .dataframe thead th {\n",
              "        text-align: right;\n",
              "    }\n",
              "</style>\n",
              "<table border=\"1\" class=\"dataframe\">\n",
              "  <thead>\n",
              "    <tr style=\"text-align: right;\">\n",
              "      <th></th>\n",
              "      <th>points</th>\n",
              "      <th>fruits</th>\n",
              "      <th>0</th>\n",
              "    </tr>\n",
              "  </thead>\n",
              "  <tbody>\n",
              "    <tr>\n",
              "      <th>0</th>\n",
              "      <td>NaN</td>\n",
              "      <td>NaN</td>\n",
              "      <td>100.0</td>\n",
              "    </tr>\n",
              "    <tr>\n",
              "      <th>1</th>\n",
              "      <td>NaN</td>\n",
              "      <td>NaN</td>\n",
              "      <td>200.0</td>\n",
              "    </tr>\n",
              "    <tr>\n",
              "      <th>2</th>\n",
              "      <td>NaN</td>\n",
              "      <td>NaN</td>\n",
              "      <td>300.0</td>\n",
              "    </tr>\n",
              "    <tr>\n",
              "      <th>3</th>\n",
              "      <td>NaN</td>\n",
              "      <td>NaN</td>\n",
              "      <td>400.0</td>\n",
              "    </tr>\n",
              "    <tr>\n",
              "      <th>4</th>\n",
              "      <td>NaN</td>\n",
              "      <td>NaN</td>\n",
              "      <td>500.0</td>\n",
              "    </tr>\n",
              "    <tr>\n",
              "      <th>5</th>\n",
              "      <td>NaN</td>\n",
              "      <td>NaN</td>\n",
              "      <td>600.0</td>\n",
              "    </tr>\n",
              "    <tr>\n",
              "      <th>6</th>\n",
              "      <td>NaN</td>\n",
              "      <td>NaN</td>\n",
              "      <td>700.0</td>\n",
              "    </tr>\n",
              "    <tr>\n",
              "      <th>a</th>\n",
              "      <td>200.0</td>\n",
              "      <td>orange</td>\n",
              "      <td>NaN</td>\n",
              "    </tr>\n",
              "    <tr>\n",
              "      <th>b</th>\n",
              "      <td>300.0</td>\n",
              "      <td>mango</td>\n",
              "      <td>NaN</td>\n",
              "    </tr>\n",
              "    <tr>\n",
              "      <th>c</th>\n",
              "      <td>100.0</td>\n",
              "      <td>orange</td>\n",
              "      <td>NaN</td>\n",
              "    </tr>\n",
              "    <tr>\n",
              "      <th>d</th>\n",
              "      <td>400.0</td>\n",
              "      <td>mango</td>\n",
              "      <td>NaN</td>\n",
              "    </tr>\n",
              "    <tr>\n",
              "      <th>e</th>\n",
              "      <td>800.0</td>\n",
              "      <td>mango</td>\n",
              "      <td>NaN</td>\n",
              "    </tr>\n",
              "    <tr>\n",
              "      <th>f</th>\n",
              "      <td>450.0</td>\n",
              "      <td>apple</td>\n",
              "      <td>NaN</td>\n",
              "    </tr>\n",
              "    <tr>\n",
              "      <th>g</th>\n",
              "      <td>100.0</td>\n",
              "      <td>apple</td>\n",
              "      <td>NaN</td>\n",
              "    </tr>\n",
              "  </tbody>\n",
              "</table>\n",
              "</div>"
            ],
            "text/plain": [
              "   points  fruits      0\n",
              "0     NaN     NaN  100.0\n",
              "1     NaN     NaN  200.0\n",
              "2     NaN     NaN  300.0\n",
              "3     NaN     NaN  400.0\n",
              "4     NaN     NaN  500.0\n",
              "5     NaN     NaN  600.0\n",
              "6     NaN     NaN  700.0\n",
              "a   200.0  orange    NaN\n",
              "b   300.0   mango    NaN\n",
              "c   100.0  orange    NaN\n",
              "d   400.0   mango    NaN\n",
              "e   800.0   mango    NaN\n",
              "f   450.0   apple    NaN\n",
              "g   100.0   apple    NaN"
            ]
          },
          "metadata": {
            "tags": []
          },
          "execution_count": 57
        }
      ]
    },
    {
      "cell_type": "markdown",
      "metadata": {
        "id": "athletic-tournament"
      },
      "source": [
        "### Part 2\n",
        "Reference:- https://www.youtube.com/watch?v=yPVQZZmheCg"
      ],
      "id": "athletic-tournament"
    },
    {
      "cell_type": "markdown",
      "metadata": {
        "id": "suffering-involvement"
      },
      "source": [
        "Create a dataframe  d1 where the columns are  ‘city’ : [‘Chandigarh’, ‘Delhi’, ‘Kanpur’, ‘Chennai’, ‘Manali’ ] and ‘Temperature’ : [15, 22, 20, 26,-2] "
      ],
      "id": "suffering-involvement"
    },
    {
      "cell_type": "markdown",
      "metadata": {
        "id": "distributed-manitoba"
      },
      "source": [
        "<p style='text-align: right;'> 2*5=10 points</p>\n"
      ],
      "id": "distributed-manitoba"
    },
    {
      "cell_type": "code",
      "metadata": {
        "id": "wrong-primary"
      },
      "source": [
        "city = ['Chandigarh','Delhi','Kanpur','Chennai','Manali']\n",
        "city = pd.Series(city)\n",
        "temperature = [15,22,20,26,-2]\n",
        "temperature = pd.Series(temperature)\n",
        "\n",
        "d1 = pd.concat([city,temperature],  axis = 1)"
      ],
      "id": "wrong-primary",
      "execution_count": 9,
      "outputs": []
    },
    {
      "cell_type": "markdown",
      "metadata": {
        "id": "hydraulic-fabric"
      },
      "source": [
        "Print d1"
      ],
      "id": "hydraulic-fabric"
    },
    {
      "cell_type": "code",
      "metadata": {
        "id": "incoming-wiring",
        "colab": {
          "base_uri": "https://localhost:8080/",
          "height": 195
        },
        "outputId": "6d59f729-e207-4d98-d0db-c5567c5b492f"
      },
      "source": [
        "d1 = d1.rename(columns = {0:'city',1:'Temperature'}, inplace= False)\n",
        "d1"
      ],
      "id": "incoming-wiring",
      "execution_count": 10,
      "outputs": [
        {
          "output_type": "execute_result",
          "data": {
            "text/html": [
              "<div>\n",
              "<style scoped>\n",
              "    .dataframe tbody tr th:only-of-type {\n",
              "        vertical-align: middle;\n",
              "    }\n",
              "\n",
              "    .dataframe tbody tr th {\n",
              "        vertical-align: top;\n",
              "    }\n",
              "\n",
              "    .dataframe thead th {\n",
              "        text-align: right;\n",
              "    }\n",
              "</style>\n",
              "<table border=\"1\" class=\"dataframe\">\n",
              "  <thead>\n",
              "    <tr style=\"text-align: right;\">\n",
              "      <th></th>\n",
              "      <th>city</th>\n",
              "      <th>Temperature</th>\n",
              "    </tr>\n",
              "  </thead>\n",
              "  <tbody>\n",
              "    <tr>\n",
              "      <th>0</th>\n",
              "      <td>Chandigarh</td>\n",
              "      <td>15</td>\n",
              "    </tr>\n",
              "    <tr>\n",
              "      <th>1</th>\n",
              "      <td>Delhi</td>\n",
              "      <td>22</td>\n",
              "    </tr>\n",
              "    <tr>\n",
              "      <th>2</th>\n",
              "      <td>Kanpur</td>\n",
              "      <td>20</td>\n",
              "    </tr>\n",
              "    <tr>\n",
              "      <th>3</th>\n",
              "      <td>Chennai</td>\n",
              "      <td>26</td>\n",
              "    </tr>\n",
              "    <tr>\n",
              "      <th>4</th>\n",
              "      <td>Manali</td>\n",
              "      <td>-2</td>\n",
              "    </tr>\n",
              "  </tbody>\n",
              "</table>\n",
              "</div>"
            ],
            "text/plain": [
              "         city  Temperature\n",
              "0  Chandigarh           15\n",
              "1       Delhi           22\n",
              "2      Kanpur           20\n",
              "3     Chennai           26\n",
              "4      Manali           -2"
            ]
          },
          "metadata": {
            "tags": []
          },
          "execution_count": 10
        }
      ]
    },
    {
      "cell_type": "markdown",
      "metadata": {
        "id": "human-stanford"
      },
      "source": [
        "What is the shape of d1."
      ],
      "id": "human-stanford"
    },
    {
      "cell_type": "code",
      "metadata": {
        "id": "pointed-grove",
        "colab": {
          "base_uri": "https://localhost:8080/"
        },
        "outputId": "ecf1c088-740a-4b00-dc17-eb3990e7ddf9"
      },
      "source": [
        "d1.shape"
      ],
      "id": "pointed-grove",
      "execution_count": 21,
      "outputs": [
        {
          "output_type": "execute_result",
          "data": {
            "text/plain": [
              "(5, 2)"
            ]
          },
          "metadata": {
            "tags": []
          },
          "execution_count": 21
        }
      ]
    },
    {
      "cell_type": "markdown",
      "metadata": {
        "id": "modern-japan"
      },
      "source": [
        "Set city = d1['city']"
      ],
      "id": "modern-japan"
    },
    {
      "cell_type": "code",
      "metadata": {
        "id": "concrete-warner"
      },
      "source": [
        "city = d1['city']"
      ],
      "id": "concrete-warner",
      "execution_count": 11,
      "outputs": []
    },
    {
      "cell_type": "markdown",
      "metadata": {
        "id": "vertical-traffic"
      },
      "source": [
        "print city <br>\n",
        "What is the type of city."
      ],
      "id": "vertical-traffic"
    },
    {
      "cell_type": "code",
      "metadata": {
        "id": "polish-night",
        "colab": {
          "base_uri": "https://localhost:8080/"
        },
        "outputId": "84c5f0f4-e39e-428b-f968-d9b1d7f9ee4a"
      },
      "source": [
        "print(city)"
      ],
      "id": "polish-night",
      "execution_count": 23,
      "outputs": [
        {
          "output_type": "stream",
          "text": [
            "0    Chandigarh\n",
            "1         Delhi\n",
            "2        Kanpur\n",
            "3       Chennai\n",
            "4        Manali\n",
            "Name: city, dtype: object\n"
          ],
          "name": "stdout"
        }
      ]
    },
    {
      "cell_type": "markdown",
      "metadata": {
        "id": "contained-society"
      },
      "source": [
        "Create another dataframe d2 where the columns are <br>\n",
        "'city' - ['Bengalaru','Coimbatore','Srirangam','Pondicherry'] <br>\n",
        "'Temperature' - [24,35,36,39]"
      ],
      "id": "contained-society"
    },
    {
      "cell_type": "markdown",
      "metadata": {
        "id": "actual-cycling"
      },
      "source": [
        "<p style='text-align: right;'> 3+2+5 = 10 points</p>\n"
      ],
      "id": "actual-cycling"
    },
    {
      "cell_type": "code",
      "metadata": {
        "id": "broken-night",
        "colab": {
          "base_uri": "https://localhost:8080/",
          "height": 166
        },
        "outputId": "2484be91-5c90-465d-ece4-99c1f04193dd"
      },
      "source": [
        "city = ['Bengaluru','Coimbatore','Srirangam','Pondicherry']\n",
        "city = pd.Series(city)\n",
        "temperature = [24,35,36,39]\n",
        "temperature = pd.Series(temperature)\n",
        "\n",
        "d2 = pd.concat([city,temperature],  axis = 1)\n",
        "d2 = d2.rename(columns = {0:'city',1:'Temperature'}, inplace= False)\n",
        "d2"
      ],
      "id": "broken-night",
      "execution_count": 12,
      "outputs": [
        {
          "output_type": "execute_result",
          "data": {
            "text/html": [
              "<div>\n",
              "<style scoped>\n",
              "    .dataframe tbody tr th:only-of-type {\n",
              "        vertical-align: middle;\n",
              "    }\n",
              "\n",
              "    .dataframe tbody tr th {\n",
              "        vertical-align: top;\n",
              "    }\n",
              "\n",
              "    .dataframe thead th {\n",
              "        text-align: right;\n",
              "    }\n",
              "</style>\n",
              "<table border=\"1\" class=\"dataframe\">\n",
              "  <thead>\n",
              "    <tr style=\"text-align: right;\">\n",
              "      <th></th>\n",
              "      <th>city</th>\n",
              "      <th>Temperature</th>\n",
              "    </tr>\n",
              "  </thead>\n",
              "  <tbody>\n",
              "    <tr>\n",
              "      <th>0</th>\n",
              "      <td>Bengaluru</td>\n",
              "      <td>24</td>\n",
              "    </tr>\n",
              "    <tr>\n",
              "      <th>1</th>\n",
              "      <td>Coimbatore</td>\n",
              "      <td>35</td>\n",
              "    </tr>\n",
              "    <tr>\n",
              "      <th>2</th>\n",
              "      <td>Srirangam</td>\n",
              "      <td>36</td>\n",
              "    </tr>\n",
              "    <tr>\n",
              "      <th>3</th>\n",
              "      <td>Pondicherry</td>\n",
              "      <td>39</td>\n",
              "    </tr>\n",
              "  </tbody>\n",
              "</table>\n",
              "</div>"
            ],
            "text/plain": [
              "          city  Temperature\n",
              "0    Bengaluru           24\n",
              "1   Coimbatore           35\n",
              "2    Srirangam           36\n",
              "3  Pondicherry           39"
            ]
          },
          "metadata": {
            "tags": []
          },
          "execution_count": 12
        }
      ]
    },
    {
      "cell_type": "markdown",
      "metadata": {
        "id": "chronic-creek"
      },
      "source": [
        "print the shape of this dataframe"
      ],
      "id": "chronic-creek"
    },
    {
      "cell_type": "code",
      "metadata": {
        "id": "found-shooting",
        "colab": {
          "base_uri": "https://localhost:8080/"
        },
        "outputId": "718f30e1-a72e-4a25-da08-a6c6e52050b5"
      },
      "source": [
        "d2.shape"
      ],
      "id": "found-shooting",
      "execution_count": 26,
      "outputs": [
        {
          "output_type": "execute_result",
          "data": {
            "text/plain": [
              "(4, 2)"
            ]
          },
          "metadata": {
            "tags": []
          },
          "execution_count": 26
        }
      ]
    },
    {
      "cell_type": "markdown",
      "metadata": {
        "id": "foreign-requirement"
      },
      "source": [
        "merge the two dataframes together, save it in a new dataframe named 'd3'\n"
      ],
      "id": "foreign-requirement"
    },
    {
      "cell_type": "code",
      "metadata": {
        "id": "bored-premiere",
        "colab": {
          "base_uri": "https://localhost:8080/",
          "height": 314
        },
        "outputId": "f57fd0be-a1d3-4d56-d4ec-9d34e1408bb9"
      },
      "source": [
        "d3 = pd.concat([d1,d2], axis = 0)\n",
        "d3"
      ],
      "id": "bored-premiere",
      "execution_count": 13,
      "outputs": [
        {
          "output_type": "execute_result",
          "data": {
            "text/html": [
              "<div>\n",
              "<style scoped>\n",
              "    .dataframe tbody tr th:only-of-type {\n",
              "        vertical-align: middle;\n",
              "    }\n",
              "\n",
              "    .dataframe tbody tr th {\n",
              "        vertical-align: top;\n",
              "    }\n",
              "\n",
              "    .dataframe thead th {\n",
              "        text-align: right;\n",
              "    }\n",
              "</style>\n",
              "<table border=\"1\" class=\"dataframe\">\n",
              "  <thead>\n",
              "    <tr style=\"text-align: right;\">\n",
              "      <th></th>\n",
              "      <th>city</th>\n",
              "      <th>Temperature</th>\n",
              "    </tr>\n",
              "  </thead>\n",
              "  <tbody>\n",
              "    <tr>\n",
              "      <th>0</th>\n",
              "      <td>Chandigarh</td>\n",
              "      <td>15</td>\n",
              "    </tr>\n",
              "    <tr>\n",
              "      <th>1</th>\n",
              "      <td>Delhi</td>\n",
              "      <td>22</td>\n",
              "    </tr>\n",
              "    <tr>\n",
              "      <th>2</th>\n",
              "      <td>Kanpur</td>\n",
              "      <td>20</td>\n",
              "    </tr>\n",
              "    <tr>\n",
              "      <th>3</th>\n",
              "      <td>Chennai</td>\n",
              "      <td>26</td>\n",
              "    </tr>\n",
              "    <tr>\n",
              "      <th>4</th>\n",
              "      <td>Manali</td>\n",
              "      <td>-2</td>\n",
              "    </tr>\n",
              "    <tr>\n",
              "      <th>0</th>\n",
              "      <td>Bengaluru</td>\n",
              "      <td>24</td>\n",
              "    </tr>\n",
              "    <tr>\n",
              "      <th>1</th>\n",
              "      <td>Coimbatore</td>\n",
              "      <td>35</td>\n",
              "    </tr>\n",
              "    <tr>\n",
              "      <th>2</th>\n",
              "      <td>Srirangam</td>\n",
              "      <td>36</td>\n",
              "    </tr>\n",
              "    <tr>\n",
              "      <th>3</th>\n",
              "      <td>Pondicherry</td>\n",
              "      <td>39</td>\n",
              "    </tr>\n",
              "  </tbody>\n",
              "</table>\n",
              "</div>"
            ],
            "text/plain": [
              "          city  Temperature\n",
              "0   Chandigarh           15\n",
              "1        Delhi           22\n",
              "2       Kanpur           20\n",
              "3      Chennai           26\n",
              "4       Manali           -2\n",
              "0    Bengaluru           24\n",
              "1   Coimbatore           35\n",
              "2    Srirangam           36\n",
              "3  Pondicherry           39"
            ]
          },
          "metadata": {
            "tags": []
          },
          "execution_count": 13
        }
      ]
    },
    {
      "cell_type": "markdown",
      "metadata": {
        "id": "excited-enhancement"
      },
      "source": [
        "# fun fact at high level\n",
        "\n",
        "1. .concat() simply stacks multiple DataFrame together either vertically, or stitches horizontally after aligning on index\n",
        "2. .merge() first aligns two DataFrame' selected common column(s) or index, and then pick up the remaining columns from the aligned rows of each DataFrame\n",
        "\n",
        "Do you know about join function? This interesting quest we give to you to find. "
      ],
      "id": "excited-enhancement"
    },
    {
      "cell_type": "markdown",
      "metadata": {
        "id": "stunning-school"
      },
      "source": [
        "Select the part of the dataframe such that it contains cities where temp is less then or equal to 20 <br>\n",
        "How many cities are there? "
      ],
      "id": "stunning-school"
    },
    {
      "cell_type": "markdown",
      "metadata": {
        "id": "precise-allocation"
      },
      "source": [
        "<p style='text-align: right;'> 5+5=10 points</p>\n"
      ],
      "id": "precise-allocation"
    },
    {
      "cell_type": "code",
      "metadata": {
        "id": "gorgeous-instrumentation",
        "colab": {
          "base_uri": "https://localhost:8080/",
          "height": 136
        },
        "outputId": "c914e178-90b1-46d5-946c-20115206b6c5"
      },
      "source": [
        "d3[d3['Temperature']<=20]"
      ],
      "id": "gorgeous-instrumentation",
      "execution_count": 30,
      "outputs": [
        {
          "output_type": "execute_result",
          "data": {
            "text/html": [
              "<div>\n",
              "<style scoped>\n",
              "    .dataframe tbody tr th:only-of-type {\n",
              "        vertical-align: middle;\n",
              "    }\n",
              "\n",
              "    .dataframe tbody tr th {\n",
              "        vertical-align: top;\n",
              "    }\n",
              "\n",
              "    .dataframe thead th {\n",
              "        text-align: right;\n",
              "    }\n",
              "</style>\n",
              "<table border=\"1\" class=\"dataframe\">\n",
              "  <thead>\n",
              "    <tr style=\"text-align: right;\">\n",
              "      <th></th>\n",
              "      <th>city</th>\n",
              "      <th>Temperature</th>\n",
              "    </tr>\n",
              "  </thead>\n",
              "  <tbody>\n",
              "    <tr>\n",
              "      <th>0</th>\n",
              "      <td>Chandigarh</td>\n",
              "      <td>15</td>\n",
              "    </tr>\n",
              "    <tr>\n",
              "      <th>2</th>\n",
              "      <td>Kanpur</td>\n",
              "      <td>20</td>\n",
              "    </tr>\n",
              "    <tr>\n",
              "      <th>4</th>\n",
              "      <td>Manali</td>\n",
              "      <td>-2</td>\n",
              "    </tr>\n",
              "  </tbody>\n",
              "</table>\n",
              "</div>"
            ],
            "text/plain": [
              "         city  Temperature\n",
              "0  Chandigarh           15\n",
              "2      Kanpur           20\n",
              "4      Manali           -2"
            ]
          },
          "metadata": {
            "tags": []
          },
          "execution_count": 30
        }
      ]
    },
    {
      "cell_type": "markdown",
      "metadata": {
        "id": "divided-dublin"
      },
      "source": [
        "Select the part of the dataframe such that it contains the cities where tempearature greater than or equal to 35"
      ],
      "id": "divided-dublin"
    },
    {
      "cell_type": "code",
      "metadata": {
        "id": "hazardous-extraction",
        "colab": {
          "base_uri": "https://localhost:8080/",
          "height": 136
        },
        "outputId": "520e8781-e570-4f5a-a12b-a55d340cb1f8"
      },
      "source": [
        "d3[d3['Temperature']>=35]"
      ],
      "id": "hazardous-extraction",
      "execution_count": 31,
      "outputs": [
        {
          "output_type": "execute_result",
          "data": {
            "text/html": [
              "<div>\n",
              "<style scoped>\n",
              "    .dataframe tbody tr th:only-of-type {\n",
              "        vertical-align: middle;\n",
              "    }\n",
              "\n",
              "    .dataframe tbody tr th {\n",
              "        vertical-align: top;\n",
              "    }\n",
              "\n",
              "    .dataframe thead th {\n",
              "        text-align: right;\n",
              "    }\n",
              "</style>\n",
              "<table border=\"1\" class=\"dataframe\">\n",
              "  <thead>\n",
              "    <tr style=\"text-align: right;\">\n",
              "      <th></th>\n",
              "      <th>city</th>\n",
              "      <th>Temperature</th>\n",
              "    </tr>\n",
              "  </thead>\n",
              "  <tbody>\n",
              "    <tr>\n",
              "      <th>1</th>\n",
              "      <td>Coimbatore</td>\n",
              "      <td>35</td>\n",
              "    </tr>\n",
              "    <tr>\n",
              "      <th>2</th>\n",
              "      <td>Srirangam</td>\n",
              "      <td>36</td>\n",
              "    </tr>\n",
              "    <tr>\n",
              "      <th>3</th>\n",
              "      <td>Pondicherry</td>\n",
              "      <td>39</td>\n",
              "    </tr>\n",
              "  </tbody>\n",
              "</table>\n",
              "</div>"
            ],
            "text/plain": [
              "          city  Temperature\n",
              "1   Coimbatore           35\n",
              "2    Srirangam           36\n",
              "3  Pondicherry           39"
            ]
          },
          "metadata": {
            "tags": []
          },
          "execution_count": 31
        }
      ]
    },
    {
      "cell_type": "markdown",
      "metadata": {
        "id": "close-bahamas"
      },
      "source": [
        "## 3. Applying functions to columns and creating new columns\n",
        "\n",
        "Reference: https://www.youtube.com/watch?v=L0wMml__Gow"
      ],
      "id": "close-bahamas"
    },
    {
      "cell_type": "markdown",
      "metadata": {
        "id": "convertible-allen"
      },
      "source": [
        "<p style='text-align: right;'> 20 points</p>\n"
      ],
      "id": "convertible-allen"
    },
    {
      "cell_type": "markdown",
      "metadata": {
        "id": "infrared-appendix"
      },
      "source": [
        "We need to create another column in d3, which contains  a boolean value for each city to indicate whether it's a union territory or not. \n",
        "- HINT: Chandigarh, Pondicherry and Delhi are only 3 union territories here. \n"
      ],
      "id": "infrared-appendix"
    },
    {
      "cell_type": "code",
      "metadata": {
        "id": "Rk_XX_KSR8wX"
      },
      "source": [
        "d3['is_ut'] = d3['city'].apply(lambda x: 'True' if x in (\"Chandigarh\",\"Delhi\",\"Pondicherry\") else 'False')"
      ],
      "id": "Rk_XX_KSR8wX",
      "execution_count": 14,
      "outputs": []
    },
    {
      "cell_type": "code",
      "metadata": {
        "id": "signed-underground",
        "colab": {
          "base_uri": "https://localhost:8080/",
          "height": 314
        },
        "outputId": "36c7594e-0f06-4a49-9182-ca25c1d5fc96"
      },
      "source": [
        "#print d3\n",
        "d3"
      ],
      "id": "signed-underground",
      "execution_count": 43,
      "outputs": [
        {
          "output_type": "execute_result",
          "data": {
            "text/html": [
              "<div>\n",
              "<style scoped>\n",
              "    .dataframe tbody tr th:only-of-type {\n",
              "        vertical-align: middle;\n",
              "    }\n",
              "\n",
              "    .dataframe tbody tr th {\n",
              "        vertical-align: top;\n",
              "    }\n",
              "\n",
              "    .dataframe thead th {\n",
              "        text-align: right;\n",
              "    }\n",
              "</style>\n",
              "<table border=\"1\" class=\"dataframe\">\n",
              "  <thead>\n",
              "    <tr style=\"text-align: right;\">\n",
              "      <th></th>\n",
              "      <th>city</th>\n",
              "      <th>Temperature</th>\n",
              "      <th>is_ut</th>\n",
              "    </tr>\n",
              "  </thead>\n",
              "  <tbody>\n",
              "    <tr>\n",
              "      <th>0</th>\n",
              "      <td>Chandigarh</td>\n",
              "      <td>15</td>\n",
              "      <td>True</td>\n",
              "    </tr>\n",
              "    <tr>\n",
              "      <th>1</th>\n",
              "      <td>Delhi</td>\n",
              "      <td>22</td>\n",
              "      <td>True</td>\n",
              "    </tr>\n",
              "    <tr>\n",
              "      <th>2</th>\n",
              "      <td>Kanpur</td>\n",
              "      <td>20</td>\n",
              "      <td>False</td>\n",
              "    </tr>\n",
              "    <tr>\n",
              "      <th>3</th>\n",
              "      <td>Chennai</td>\n",
              "      <td>26</td>\n",
              "      <td>False</td>\n",
              "    </tr>\n",
              "    <tr>\n",
              "      <th>4</th>\n",
              "      <td>Manali</td>\n",
              "      <td>-2</td>\n",
              "      <td>False</td>\n",
              "    </tr>\n",
              "    <tr>\n",
              "      <th>0</th>\n",
              "      <td>Bengaluru</td>\n",
              "      <td>24</td>\n",
              "      <td>False</td>\n",
              "    </tr>\n",
              "    <tr>\n",
              "      <th>1</th>\n",
              "      <td>Coimbatore</td>\n",
              "      <td>35</td>\n",
              "      <td>False</td>\n",
              "    </tr>\n",
              "    <tr>\n",
              "      <th>2</th>\n",
              "      <td>Srirangam</td>\n",
              "      <td>36</td>\n",
              "      <td>False</td>\n",
              "    </tr>\n",
              "    <tr>\n",
              "      <th>3</th>\n",
              "      <td>Pondicherry</td>\n",
              "      <td>39</td>\n",
              "      <td>True</td>\n",
              "    </tr>\n",
              "  </tbody>\n",
              "</table>\n",
              "</div>"
            ],
            "text/plain": [
              "          city  Temperature  is_ut\n",
              "0   Chandigarh           15   True\n",
              "1        Delhi           22   True\n",
              "2       Kanpur           20  False\n",
              "3      Chennai           26  False\n",
              "4       Manali           -2  False\n",
              "0    Bengaluru           24  False\n",
              "1   Coimbatore           35  False\n",
              "2    Srirangam           36  False\n",
              "3  Pondicherry           39   True"
            ]
          },
          "metadata": {
            "tags": []
          },
          "execution_count": 43
        }
      ]
    },
    {
      "cell_type": "markdown",
      "metadata": {
        "id": "banned-scroll"
      },
      "source": [
        "The temperatures mentioned in ‘Temperature’ column are mentioned in Celsius, we need another column which contains the same in Fahrenheit. "
      ],
      "id": "banned-scroll"
    },
    {
      "cell_type": "markdown",
      "metadata": {
        "id": "latest-fields"
      },
      "source": [
        "HINT - \n",
        "- Define a function c_to_f which takes input temp in celsius and returns a value with temperature in Fahrenheit.\n",
        "- To check: c_to_f(10) should return 50. \n"
      ],
      "id": "latest-fields"
    },
    {
      "cell_type": "code",
      "metadata": {
        "id": "composed-taiwan"
      },
      "source": [
        "# write function here\n",
        "def c_to_f(x):\n",
        "  y = (x*9/5) + 32\n",
        "  return y\n"
      ],
      "id": "composed-taiwan",
      "execution_count": 16,
      "outputs": []
    },
    {
      "cell_type": "code",
      "metadata": {
        "id": "joined-military",
        "colab": {
          "base_uri": "https://localhost:8080/"
        },
        "outputId": "b4d60e16-bdcf-4ea1-bc63-4ad444f7099a"
      },
      "source": [
        "# check  function c_to_f(10)\n",
        "c_to_f(10)"
      ],
      "id": "joined-military",
      "execution_count": 17,
      "outputs": [
        {
          "output_type": "execute_result",
          "data": {
            "text/plain": [
              "50.0"
            ]
          },
          "metadata": {
            "tags": []
          },
          "execution_count": 17
        }
      ]
    },
    {
      "cell_type": "code",
      "metadata": {
        "colab": {
          "base_uri": "https://localhost:8080/",
          "height": 314
        },
        "id": "Z4676fzhTusb",
        "outputId": "42664616-9d37-4a71-8788-39fb8bad964c"
      },
      "source": [
        "# apply function c_to_f to d3 to create a column 'temp_farenhiet'\n",
        "d3['temp_farenhiet'] = d3['Temperature'].apply(c_to_f)\n",
        "d3"
      ],
      "id": "Z4676fzhTusb",
      "execution_count": 18,
      "outputs": [
        {
          "output_type": "execute_result",
          "data": {
            "text/html": [
              "<div>\n",
              "<style scoped>\n",
              "    .dataframe tbody tr th:only-of-type {\n",
              "        vertical-align: middle;\n",
              "    }\n",
              "\n",
              "    .dataframe tbody tr th {\n",
              "        vertical-align: top;\n",
              "    }\n",
              "\n",
              "    .dataframe thead th {\n",
              "        text-align: right;\n",
              "    }\n",
              "</style>\n",
              "<table border=\"1\" class=\"dataframe\">\n",
              "  <thead>\n",
              "    <tr style=\"text-align: right;\">\n",
              "      <th></th>\n",
              "      <th>city</th>\n",
              "      <th>Temperature</th>\n",
              "      <th>is_ut</th>\n",
              "      <th>temp_farenhiet</th>\n",
              "    </tr>\n",
              "  </thead>\n",
              "  <tbody>\n",
              "    <tr>\n",
              "      <th>0</th>\n",
              "      <td>Chandigarh</td>\n",
              "      <td>15</td>\n",
              "      <td>True</td>\n",
              "      <td>59.0</td>\n",
              "    </tr>\n",
              "    <tr>\n",
              "      <th>1</th>\n",
              "      <td>Delhi</td>\n",
              "      <td>22</td>\n",
              "      <td>True</td>\n",
              "      <td>71.6</td>\n",
              "    </tr>\n",
              "    <tr>\n",
              "      <th>2</th>\n",
              "      <td>Kanpur</td>\n",
              "      <td>20</td>\n",
              "      <td>False</td>\n",
              "      <td>68.0</td>\n",
              "    </tr>\n",
              "    <tr>\n",
              "      <th>3</th>\n",
              "      <td>Chennai</td>\n",
              "      <td>26</td>\n",
              "      <td>False</td>\n",
              "      <td>78.8</td>\n",
              "    </tr>\n",
              "    <tr>\n",
              "      <th>4</th>\n",
              "      <td>Manali</td>\n",
              "      <td>-2</td>\n",
              "      <td>False</td>\n",
              "      <td>28.4</td>\n",
              "    </tr>\n",
              "    <tr>\n",
              "      <th>0</th>\n",
              "      <td>Bengaluru</td>\n",
              "      <td>24</td>\n",
              "      <td>False</td>\n",
              "      <td>75.2</td>\n",
              "    </tr>\n",
              "    <tr>\n",
              "      <th>1</th>\n",
              "      <td>Coimbatore</td>\n",
              "      <td>35</td>\n",
              "      <td>False</td>\n",
              "      <td>95.0</td>\n",
              "    </tr>\n",
              "    <tr>\n",
              "      <th>2</th>\n",
              "      <td>Srirangam</td>\n",
              "      <td>36</td>\n",
              "      <td>False</td>\n",
              "      <td>96.8</td>\n",
              "    </tr>\n",
              "    <tr>\n",
              "      <th>3</th>\n",
              "      <td>Pondicherry</td>\n",
              "      <td>39</td>\n",
              "      <td>True</td>\n",
              "      <td>102.2</td>\n",
              "    </tr>\n",
              "  </tbody>\n",
              "</table>\n",
              "</div>"
            ],
            "text/plain": [
              "          city  Temperature  is_ut  temp_farenhiet\n",
              "0   Chandigarh           15   True            59.0\n",
              "1        Delhi           22   True            71.6\n",
              "2       Kanpur           20  False            68.0\n",
              "3      Chennai           26  False            78.8\n",
              "4       Manali           -2  False            28.4\n",
              "0    Bengaluru           24  False            75.2\n",
              "1   Coimbatore           35  False            95.0\n",
              "2    Srirangam           36  False            96.8\n",
              "3  Pondicherry           39   True           102.2"
            ]
          },
          "metadata": {
            "tags": []
          },
          "execution_count": 18
        }
      ]
    },
    {
      "cell_type": "markdown",
      "metadata": {
        "id": "extensive-breed"
      },
      "source": [
        "## 4. Indexing and selecting rows in DataFrame\n",
        "\n",
        "Reference:-https://www.youtube.com/watch?v=XKFRFDgA7ZY"
      ],
      "id": "extensive-breed"
    },
    {
      "cell_type": "markdown",
      "metadata": {
        "id": "comfortable-winter"
      },
      "source": [
        "<p style='text-align: right;'> 20 points</p>\n"
      ],
      "id": "comfortable-winter"
    },
    {
      "cell_type": "markdown",
      "metadata": {
        "id": "preliminary-killing"
      },
      "source": [
        "Select subset of the dataframe d1 such that it contains the cities which are union territories."
      ],
      "id": "preliminary-killing"
    },
    {
      "cell_type": "code",
      "metadata": {
        "id": "chief-receptor",
        "colab": {
          "base_uri": "https://localhost:8080/",
          "height": 136
        },
        "outputId": "82989b0e-e87a-4546-d8d6-5debdcfd68f9"
      },
      "source": [
        "d3[d3['is_ut'] == \"True\"]"
      ],
      "id": "chief-receptor",
      "execution_count": 57,
      "outputs": [
        {
          "output_type": "execute_result",
          "data": {
            "text/html": [
              "<div>\n",
              "<style scoped>\n",
              "    .dataframe tbody tr th:only-of-type {\n",
              "        vertical-align: middle;\n",
              "    }\n",
              "\n",
              "    .dataframe tbody tr th {\n",
              "        vertical-align: top;\n",
              "    }\n",
              "\n",
              "    .dataframe thead th {\n",
              "        text-align: right;\n",
              "    }\n",
              "</style>\n",
              "<table border=\"1\" class=\"dataframe\">\n",
              "  <thead>\n",
              "    <tr style=\"text-align: right;\">\n",
              "      <th></th>\n",
              "      <th>city</th>\n",
              "      <th>Temperature</th>\n",
              "      <th>is_ut</th>\n",
              "      <th>temp_farenhiet</th>\n",
              "    </tr>\n",
              "  </thead>\n",
              "  <tbody>\n",
              "    <tr>\n",
              "      <th>0</th>\n",
              "      <td>Chandigarh</td>\n",
              "      <td>15</td>\n",
              "      <td>True</td>\n",
              "      <td>59.0</td>\n",
              "    </tr>\n",
              "    <tr>\n",
              "      <th>1</th>\n",
              "      <td>Delhi</td>\n",
              "      <td>22</td>\n",
              "      <td>True</td>\n",
              "      <td>71.6</td>\n",
              "    </tr>\n",
              "    <tr>\n",
              "      <th>3</th>\n",
              "      <td>Pondicherry</td>\n",
              "      <td>39</td>\n",
              "      <td>True</td>\n",
              "      <td>102.2</td>\n",
              "    </tr>\n",
              "  </tbody>\n",
              "</table>\n",
              "</div>"
            ],
            "text/plain": [
              "          city  Temperature is_ut  temp_farenhiet\n",
              "0   Chandigarh           15  True            59.0\n",
              "1        Delhi           22  True            71.6\n",
              "3  Pondicherry           39  True           102.2"
            ]
          },
          "metadata": {
            "tags": []
          },
          "execution_count": 57
        }
      ]
    },
    {
      "cell_type": "markdown",
      "metadata": {
        "id": "informational-volleyball"
      },
      "source": [
        "Select a subset of the dataframe d1 such that it contains the cities which only have temperature above 90 Farenhiet."
      ],
      "id": "informational-volleyball"
    },
    {
      "cell_type": "code",
      "metadata": {
        "id": "cardiovascular-hunter",
        "colab": {
          "base_uri": "https://localhost:8080/",
          "height": 136
        },
        "outputId": "f9c0c060-2869-45e2-d1a3-c84ba7a03269"
      },
      "source": [
        "d3[d3['temp_farenhiet']>90]"
      ],
      "id": "cardiovascular-hunter",
      "execution_count": 58,
      "outputs": [
        {
          "output_type": "execute_result",
          "data": {
            "text/html": [
              "<div>\n",
              "<style scoped>\n",
              "    .dataframe tbody tr th:only-of-type {\n",
              "        vertical-align: middle;\n",
              "    }\n",
              "\n",
              "    .dataframe tbody tr th {\n",
              "        vertical-align: top;\n",
              "    }\n",
              "\n",
              "    .dataframe thead th {\n",
              "        text-align: right;\n",
              "    }\n",
              "</style>\n",
              "<table border=\"1\" class=\"dataframe\">\n",
              "  <thead>\n",
              "    <tr style=\"text-align: right;\">\n",
              "      <th></th>\n",
              "      <th>city</th>\n",
              "      <th>Temperature</th>\n",
              "      <th>is_ut</th>\n",
              "      <th>temp_farenhiet</th>\n",
              "    </tr>\n",
              "  </thead>\n",
              "  <tbody>\n",
              "    <tr>\n",
              "      <th>1</th>\n",
              "      <td>Coimbatore</td>\n",
              "      <td>35</td>\n",
              "      <td>False</td>\n",
              "      <td>95.0</td>\n",
              "    </tr>\n",
              "    <tr>\n",
              "      <th>2</th>\n",
              "      <td>Srirangam</td>\n",
              "      <td>36</td>\n",
              "      <td>False</td>\n",
              "      <td>96.8</td>\n",
              "    </tr>\n",
              "    <tr>\n",
              "      <th>3</th>\n",
              "      <td>Pondicherry</td>\n",
              "      <td>39</td>\n",
              "      <td>True</td>\n",
              "      <td>102.2</td>\n",
              "    </tr>\n",
              "  </tbody>\n",
              "</table>\n",
              "</div>"
            ],
            "text/plain": [
              "          city  Temperature  is_ut  temp_farenhiet\n",
              "1   Coimbatore           35  False            95.0\n",
              "2    Srirangam           36  False            96.8\n",
              "3  Pondicherry           39   True           102.2"
            ]
          },
          "metadata": {
            "tags": []
          },
          "execution_count": 58
        }
      ]
    },
    {
      "cell_type": "markdown",
      "metadata": {
        "id": "after-monitoring"
      },
      "source": [
        "Select only the first three rows of the dataframe d1. \n"
      ],
      "id": "after-monitoring"
    },
    {
      "cell_type": "code",
      "metadata": {
        "id": "greatest-engagement",
        "colab": {
          "base_uri": "https://localhost:8080/",
          "height": 136
        },
        "outputId": "67c6451d-bc31-4613-d3d0-b717dac6dab3"
      },
      "source": [
        "d3.head(3)"
      ],
      "id": "greatest-engagement",
      "execution_count": 59,
      "outputs": [
        {
          "output_type": "execute_result",
          "data": {
            "text/html": [
              "<div>\n",
              "<style scoped>\n",
              "    .dataframe tbody tr th:only-of-type {\n",
              "        vertical-align: middle;\n",
              "    }\n",
              "\n",
              "    .dataframe tbody tr th {\n",
              "        vertical-align: top;\n",
              "    }\n",
              "\n",
              "    .dataframe thead th {\n",
              "        text-align: right;\n",
              "    }\n",
              "</style>\n",
              "<table border=\"1\" class=\"dataframe\">\n",
              "  <thead>\n",
              "    <tr style=\"text-align: right;\">\n",
              "      <th></th>\n",
              "      <th>city</th>\n",
              "      <th>Temperature</th>\n",
              "      <th>is_ut</th>\n",
              "      <th>temp_farenhiet</th>\n",
              "    </tr>\n",
              "  </thead>\n",
              "  <tbody>\n",
              "    <tr>\n",
              "      <th>0</th>\n",
              "      <td>Chandigarh</td>\n",
              "      <td>15</td>\n",
              "      <td>True</td>\n",
              "      <td>59.0</td>\n",
              "    </tr>\n",
              "    <tr>\n",
              "      <th>1</th>\n",
              "      <td>Delhi</td>\n",
              "      <td>22</td>\n",
              "      <td>True</td>\n",
              "      <td>71.6</td>\n",
              "    </tr>\n",
              "    <tr>\n",
              "      <th>2</th>\n",
              "      <td>Kanpur</td>\n",
              "      <td>20</td>\n",
              "      <td>False</td>\n",
              "      <td>68.0</td>\n",
              "    </tr>\n",
              "  </tbody>\n",
              "</table>\n",
              "</div>"
            ],
            "text/plain": [
              "         city  Temperature  is_ut  temp_farenhiet\n",
              "0  Chandigarh           15   True            59.0\n",
              "1       Delhi           22   True            71.6\n",
              "2      Kanpur           20  False            68.0"
            ]
          },
          "metadata": {
            "tags": []
          },
          "execution_count": 59
        }
      ]
    },
    {
      "cell_type": "markdown",
      "metadata": {
        "id": "established-cement"
      },
      "source": [
        "Select all the rows and last two columns in the dataframe.\n",
        "\n",
        "\n"
      ],
      "id": "established-cement"
    },
    {
      "cell_type": "code",
      "metadata": {
        "colab": {
          "base_uri": "https://localhost:8080/",
          "height": 314
        },
        "id": "edGQI168WJXI",
        "outputId": "b28ab2d2-dac1-4640-c0a4-b06a48cd4410"
      },
      "source": [
        "d3.iloc[:,-2:]"
      ],
      "id": "edGQI168WJXI",
      "execution_count": 67,
      "outputs": [
        {
          "output_type": "execute_result",
          "data": {
            "text/html": [
              "<div>\n",
              "<style scoped>\n",
              "    .dataframe tbody tr th:only-of-type {\n",
              "        vertical-align: middle;\n",
              "    }\n",
              "\n",
              "    .dataframe tbody tr th {\n",
              "        vertical-align: top;\n",
              "    }\n",
              "\n",
              "    .dataframe thead th {\n",
              "        text-align: right;\n",
              "    }\n",
              "</style>\n",
              "<table border=\"1\" class=\"dataframe\">\n",
              "  <thead>\n",
              "    <tr style=\"text-align: right;\">\n",
              "      <th></th>\n",
              "      <th>is_ut</th>\n",
              "      <th>temp_farenhiet</th>\n",
              "    </tr>\n",
              "  </thead>\n",
              "  <tbody>\n",
              "    <tr>\n",
              "      <th>0</th>\n",
              "      <td>True</td>\n",
              "      <td>59.0</td>\n",
              "    </tr>\n",
              "    <tr>\n",
              "      <th>1</th>\n",
              "      <td>True</td>\n",
              "      <td>71.6</td>\n",
              "    </tr>\n",
              "    <tr>\n",
              "      <th>2</th>\n",
              "      <td>False</td>\n",
              "      <td>68.0</td>\n",
              "    </tr>\n",
              "    <tr>\n",
              "      <th>3</th>\n",
              "      <td>False</td>\n",
              "      <td>78.8</td>\n",
              "    </tr>\n",
              "    <tr>\n",
              "      <th>4</th>\n",
              "      <td>False</td>\n",
              "      <td>28.4</td>\n",
              "    </tr>\n",
              "    <tr>\n",
              "      <th>0</th>\n",
              "      <td>False</td>\n",
              "      <td>75.2</td>\n",
              "    </tr>\n",
              "    <tr>\n",
              "      <th>1</th>\n",
              "      <td>False</td>\n",
              "      <td>95.0</td>\n",
              "    </tr>\n",
              "    <tr>\n",
              "      <th>2</th>\n",
              "      <td>False</td>\n",
              "      <td>96.8</td>\n",
              "    </tr>\n",
              "    <tr>\n",
              "      <th>3</th>\n",
              "      <td>True</td>\n",
              "      <td>102.2</td>\n",
              "    </tr>\n",
              "  </tbody>\n",
              "</table>\n",
              "</div>"
            ],
            "text/plain": [
              "   is_ut  temp_farenhiet\n",
              "0   True            59.0\n",
              "1   True            71.6\n",
              "2  False            68.0\n",
              "3  False            78.8\n",
              "4  False            28.4\n",
              "0  False            75.2\n",
              "1  False            95.0\n",
              "2  False            96.8\n",
              "3   True           102.2"
            ]
          },
          "metadata": {
            "tags": []
          },
          "execution_count": 67
        }
      ]
    },
    {
      "cell_type": "markdown",
      "metadata": {
        "id": "thirty-bailey"
      },
      "source": [
        "## 5. Reading csv file and group by\n",
        "\n",
        "Reference: https://www.youtube.com/watch?v=ENhGz1HkzvY <br>\n",
        "https://www.youtube.com/watch?v=nulx_VmV7dE"
      ],
      "id": "thirty-bailey"
    },
    {
      "cell_type": "markdown",
      "metadata": {
        "id": "controlling-world"
      },
      "source": [
        "<p style='text-align: right;'> 2*2=4 points</p>\n"
      ],
      "id": "controlling-world"
    },
    {
      "cell_type": "markdown",
      "metadata": {
        "id": "OOI8xs_B8dlY"
      },
      "source": [
        "Tutorial for how to load csv file in colab - https://www.youtube.com/watch?v=6HFlwqK3oeo"
      ],
      "id": "OOI8xs_B8dlY"
    },
    {
      "cell_type": "markdown",
      "metadata": {
        "id": "distant-therapy"
      },
      "source": [
        "Read the file 'weather_data.csv' and store it in a pandas dataframe 'df' "
      ],
      "id": "distant-therapy"
    },
    {
      "cell_type": "code",
      "metadata": {
        "id": "scientific-broadway"
      },
      "source": [
        "import pandas as pd\n",
        "df = pd.read_csv(\"/content/sample_data/Weather_Data.csv\")"
      ],
      "id": "scientific-broadway",
      "execution_count": 27,
      "outputs": []
    },
    {
      "cell_type": "markdown",
      "metadata": {
        "id": "norman-gossip"
      },
      "source": [
        "print the shape and head of the dataframe"
      ],
      "id": "norman-gossip"
    },
    {
      "cell_type": "code",
      "metadata": {
        "id": "bearing-fellow",
        "colab": {
          "base_uri": "https://localhost:8080/"
        },
        "outputId": "5d553755-8132-46df-c6e2-d35fdfea3ae8"
      },
      "source": [
        "print(df.shape)\n",
        "print(df)"
      ],
      "id": "bearing-fellow",
      "execution_count": 28,
      "outputs": [
        {
          "output_type": "stream",
          "text": [
            "(7, 4)\n",
            "        day  temperature  windspeed  event\n",
            "0  1/1/2017           32          6   Rain\n",
            "1  1/2/2017       -99999          7  Sunny\n",
            "2  1/3/2017           28     -99999   Snow\n",
            "3  1/4/2017       -99999          7      0\n",
            "4  1/5/2017           32     -99999   Rain\n",
            "5  1/6/2017           31          2  Sunny\n",
            "6  1/6/2017           34          5      0\n"
          ],
          "name": "stdout"
        }
      ]
    },
    {
      "cell_type": "markdown",
      "metadata": {
        "id": "adolescent-storm"
      },
      "source": [
        "Group the dataframe wrt to 'event' and save the resulting output in a variable named 'g'"
      ],
      "id": "adolescent-storm"
    },
    {
      "cell_type": "markdown",
      "metadata": {
        "id": "statistical-beach"
      },
      "source": [
        "<p style='text-align: right;'> 5*3 = 15 points</p>\n"
      ],
      "id": "statistical-beach"
    },
    {
      "cell_type": "code",
      "metadata": {
        "id": "robust-girlfriend"
      },
      "source": [
        "#df1['event']\n",
        "g = df.groupby(by = 'event')"
      ],
      "id": "robust-girlfriend",
      "execution_count": 29,
      "outputs": []
    },
    {
      "cell_type": "markdown",
      "metadata": {
        "id": "rotary-maria"
      },
      "source": [
        "Print g and  type(g)"
      ],
      "id": "rotary-maria"
    },
    {
      "cell_type": "code",
      "metadata": {
        "colab": {
          "base_uri": "https://localhost:8080/"
        },
        "id": "CuXJHfqvdmF9",
        "outputId": "ab61754a-a3c6-4a90-f907-eda1feb35263"
      },
      "source": [
        "print(g)\n",
        "type(g)"
      ],
      "id": "CuXJHfqvdmF9",
      "execution_count": 88,
      "outputs": [
        {
          "output_type": "stream",
          "text": [
            "<pandas.core.groupby.generic.DataFrameGroupBy object at 0x7fccf1829690>\n"
          ],
          "name": "stdout"
        },
        {
          "output_type": "execute_result",
          "data": {
            "text/plain": [
              "pandas.core.groupby.generic.DataFrameGroupBy"
            ]
          },
          "metadata": {
            "tags": []
          },
          "execution_count": 88
        }
      ]
    },
    {
      "cell_type": "markdown",
      "metadata": {
        "id": "stretch-processing"
      },
      "source": [
        "Iterate over all the events in g and print them "
      ],
      "id": "stretch-processing"
    },
    {
      "cell_type": "code",
      "metadata": {
        "id": "mighty-agreement",
        "colab": {
          "base_uri": "https://localhost:8080/"
        },
        "outputId": "58ba11c0-d21a-42be-a544-f2f7932c083b"
      },
      "source": [
        "for i in g:\n",
        "  print(i)"
      ],
      "id": "mighty-agreement",
      "execution_count": 38,
      "outputs": [
        {
          "output_type": "stream",
          "text": [
            "('0',         day  temperature  windspeed event  hot_temp\n",
            "3  1/4/2017       -99999          7     0     False\n",
            "6  1/6/2017           34          5     0      True)\n",
            "('Rain',         day  temperature  windspeed event  hot_temp\n",
            "0  1/1/2017           32          6  Rain      True\n",
            "4  1/5/2017           32     -99999  Rain      True)\n",
            "('Snow',         day  temperature  windspeed event  hot_temp\n",
            "2  1/3/2017           28     -99999  Snow     False)\n",
            "('Sunny',         day  temperature  windspeed  event  hot_temp\n",
            "1  1/2/2017       -99999          7  Sunny     False\n",
            "5  1/6/2017           31          2  Sunny      True)\n"
          ],
          "name": "stdout"
        }
      ]
    },
    {
      "cell_type": "markdown",
      "metadata": {
        "id": "focused-cycling"
      },
      "source": [
        "Use the describle method on g to get the complete description on it."
      ],
      "id": "focused-cycling"
    },
    {
      "cell_type": "code",
      "metadata": {
        "id": "broke-queens",
        "colab": {
          "base_uri": "https://localhost:8080/",
          "height": 225
        },
        "outputId": "f7214fbc-4242-4241-f7f3-f561bab5b41f"
      },
      "source": [
        "g.describe()"
      ],
      "id": "broke-queens",
      "execution_count": 23,
      "outputs": [
        {
          "output_type": "execute_result",
          "data": {
            "text/html": [
              "<div>\n",
              "<style scoped>\n",
              "    .dataframe tbody tr th:only-of-type {\n",
              "        vertical-align: middle;\n",
              "    }\n",
              "\n",
              "    .dataframe tbody tr th {\n",
              "        vertical-align: top;\n",
              "    }\n",
              "\n",
              "    .dataframe thead tr th {\n",
              "        text-align: left;\n",
              "    }\n",
              "\n",
              "    .dataframe thead tr:last-of-type th {\n",
              "        text-align: right;\n",
              "    }\n",
              "</style>\n",
              "<table border=\"1\" class=\"dataframe\">\n",
              "  <thead>\n",
              "    <tr>\n",
              "      <th></th>\n",
              "      <th colspan=\"8\" halign=\"left\">temperature</th>\n",
              "      <th colspan=\"8\" halign=\"left\">windspeed</th>\n",
              "    </tr>\n",
              "    <tr>\n",
              "      <th></th>\n",
              "      <th>count</th>\n",
              "      <th>mean</th>\n",
              "      <th>std</th>\n",
              "      <th>min</th>\n",
              "      <th>25%</th>\n",
              "      <th>50%</th>\n",
              "      <th>75%</th>\n",
              "      <th>max</th>\n",
              "      <th>count</th>\n",
              "      <th>mean</th>\n",
              "      <th>std</th>\n",
              "      <th>min</th>\n",
              "      <th>25%</th>\n",
              "      <th>50%</th>\n",
              "      <th>75%</th>\n",
              "      <th>max</th>\n",
              "    </tr>\n",
              "    <tr>\n",
              "      <th>event</th>\n",
              "      <th></th>\n",
              "      <th></th>\n",
              "      <th></th>\n",
              "      <th></th>\n",
              "      <th></th>\n",
              "      <th></th>\n",
              "      <th></th>\n",
              "      <th></th>\n",
              "      <th></th>\n",
              "      <th></th>\n",
              "      <th></th>\n",
              "      <th></th>\n",
              "      <th></th>\n",
              "      <th></th>\n",
              "      <th></th>\n",
              "      <th></th>\n",
              "    </tr>\n",
              "  </thead>\n",
              "  <tbody>\n",
              "    <tr>\n",
              "      <th>0</th>\n",
              "      <td>2.0</td>\n",
              "      <td>-49982.5</td>\n",
              "      <td>70734.012642</td>\n",
              "      <td>-99999.0</td>\n",
              "      <td>-74990.75</td>\n",
              "      <td>-49982.5</td>\n",
              "      <td>-24974.25</td>\n",
              "      <td>34.0</td>\n",
              "      <td>2.0</td>\n",
              "      <td>6.0</td>\n",
              "      <td>1.414214</td>\n",
              "      <td>5.0</td>\n",
              "      <td>5.50</td>\n",
              "      <td>6.0</td>\n",
              "      <td>6.50</td>\n",
              "      <td>7.0</td>\n",
              "    </tr>\n",
              "    <tr>\n",
              "      <th>Rain</th>\n",
              "      <td>2.0</td>\n",
              "      <td>32.0</td>\n",
              "      <td>0.000000</td>\n",
              "      <td>32.0</td>\n",
              "      <td>32.00</td>\n",
              "      <td>32.0</td>\n",
              "      <td>32.00</td>\n",
              "      <td>32.0</td>\n",
              "      <td>2.0</td>\n",
              "      <td>-49996.5</td>\n",
              "      <td>70714.213653</td>\n",
              "      <td>-99999.0</td>\n",
              "      <td>-74997.75</td>\n",
              "      <td>-49996.5</td>\n",
              "      <td>-24995.25</td>\n",
              "      <td>6.0</td>\n",
              "    </tr>\n",
              "    <tr>\n",
              "      <th>Snow</th>\n",
              "      <td>1.0</td>\n",
              "      <td>28.0</td>\n",
              "      <td>NaN</td>\n",
              "      <td>28.0</td>\n",
              "      <td>28.00</td>\n",
              "      <td>28.0</td>\n",
              "      <td>28.00</td>\n",
              "      <td>28.0</td>\n",
              "      <td>1.0</td>\n",
              "      <td>-99999.0</td>\n",
              "      <td>NaN</td>\n",
              "      <td>-99999.0</td>\n",
              "      <td>-99999.00</td>\n",
              "      <td>-99999.0</td>\n",
              "      <td>-99999.00</td>\n",
              "      <td>-99999.0</td>\n",
              "    </tr>\n",
              "    <tr>\n",
              "      <th>Sunny</th>\n",
              "      <td>2.0</td>\n",
              "      <td>-49984.0</td>\n",
              "      <td>70731.891322</td>\n",
              "      <td>-99999.0</td>\n",
              "      <td>-74991.50</td>\n",
              "      <td>-49984.0</td>\n",
              "      <td>-24976.50</td>\n",
              "      <td>31.0</td>\n",
              "      <td>2.0</td>\n",
              "      <td>4.5</td>\n",
              "      <td>3.535534</td>\n",
              "      <td>2.0</td>\n",
              "      <td>3.25</td>\n",
              "      <td>4.5</td>\n",
              "      <td>5.75</td>\n",
              "      <td>7.0</td>\n",
              "    </tr>\n",
              "  </tbody>\n",
              "</table>\n",
              "</div>"
            ],
            "text/plain": [
              "      temperature                         ... windspeed                   \n",
              "            count     mean           std  ...       50%       75%      max\n",
              "event                                     ...                             \n",
              "0             2.0 -49982.5  70734.012642  ...       6.0      6.50      7.0\n",
              "Rain          2.0     32.0      0.000000  ...  -49996.5 -24995.25      6.0\n",
              "Snow          1.0     28.0           NaN  ...  -99999.0 -99999.00 -99999.0\n",
              "Sunny         2.0 -49984.0  70731.891322  ...       4.5      5.75      7.0\n",
              "\n",
              "[4 rows x 16 columns]"
            ]
          },
          "metadata": {
            "tags": []
          },
          "execution_count": 23
        }
      ]
    },
    {
      "cell_type": "markdown",
      "metadata": {
        "id": "legislative-parcel"
      },
      "source": [
        "Create a new column in the dataframe df, named 'hot_temp' which contains True if temp is above 30, else False"
      ],
      "id": "legislative-parcel"
    },
    {
      "cell_type": "markdown",
      "metadata": {
        "id": "directed-intranet"
      },
      "source": [
        "<p style='text-align: right;'> 5 points</p>\n"
      ],
      "id": "directed-intranet"
    },
    {
      "cell_type": "code",
      "metadata": {
        "id": "floppy-logistics"
      },
      "source": [
        "#code here to filter df with above condition\n",
        "df['hot_temp'] = df['temperature'].apply(lambda x: True if x > 30 else False)"
      ],
      "id": "floppy-logistics",
      "execution_count": 30,
      "outputs": []
    },
    {
      "cell_type": "code",
      "metadata": {
        "id": "higher-gibraltar",
        "colab": {
          "base_uri": "https://localhost:8080/",
          "height": 166
        },
        "outputId": "2b78fd88-12f0-43e3-ac71-399f79381c54"
      },
      "source": [
        "# print df\n",
        "df[df.hot_temp == True]"
      ],
      "id": "higher-gibraltar",
      "execution_count": 36,
      "outputs": [
        {
          "output_type": "execute_result",
          "data": {
            "text/html": [
              "<div>\n",
              "<style scoped>\n",
              "    .dataframe tbody tr th:only-of-type {\n",
              "        vertical-align: middle;\n",
              "    }\n",
              "\n",
              "    .dataframe tbody tr th {\n",
              "        vertical-align: top;\n",
              "    }\n",
              "\n",
              "    .dataframe thead th {\n",
              "        text-align: right;\n",
              "    }\n",
              "</style>\n",
              "<table border=\"1\" class=\"dataframe\">\n",
              "  <thead>\n",
              "    <tr style=\"text-align: right;\">\n",
              "      <th></th>\n",
              "      <th>day</th>\n",
              "      <th>temperature</th>\n",
              "      <th>windspeed</th>\n",
              "      <th>event</th>\n",
              "      <th>hot_temp</th>\n",
              "    </tr>\n",
              "  </thead>\n",
              "  <tbody>\n",
              "    <tr>\n",
              "      <th>0</th>\n",
              "      <td>1/1/2017</td>\n",
              "      <td>32</td>\n",
              "      <td>6</td>\n",
              "      <td>Rain</td>\n",
              "      <td>True</td>\n",
              "    </tr>\n",
              "    <tr>\n",
              "      <th>4</th>\n",
              "      <td>1/5/2017</td>\n",
              "      <td>32</td>\n",
              "      <td>-99999</td>\n",
              "      <td>Rain</td>\n",
              "      <td>True</td>\n",
              "    </tr>\n",
              "    <tr>\n",
              "      <th>5</th>\n",
              "      <td>1/6/2017</td>\n",
              "      <td>31</td>\n",
              "      <td>2</td>\n",
              "      <td>Sunny</td>\n",
              "      <td>True</td>\n",
              "    </tr>\n",
              "    <tr>\n",
              "      <th>6</th>\n",
              "      <td>1/6/2017</td>\n",
              "      <td>34</td>\n",
              "      <td>5</td>\n",
              "      <td>0</td>\n",
              "      <td>True</td>\n",
              "    </tr>\n",
              "  </tbody>\n",
              "</table>\n",
              "</div>"
            ],
            "text/plain": [
              "        day  temperature  windspeed  event  hot_temp\n",
              "0  1/1/2017           32          6   Rain      True\n",
              "4  1/5/2017           32     -99999   Rain      True\n",
              "5  1/6/2017           31          2  Sunny      True\n",
              "6  1/6/2017           34          5      0      True"
            ]
          },
          "metadata": {
            "tags": []
          },
          "execution_count": 36
        }
      ]
    },
    {
      "cell_type": "markdown",
      "metadata": {
        "id": "naughty-nancy"
      },
      "source": [
        "## Data Range\n",
        "\n",
        "Reference:-https://www.youtube.com/watch?v=dRxCvSbMEto"
      ],
      "id": "naughty-nancy"
    },
    {
      "cell_type": "markdown",
      "metadata": {
        "id": "dramatic-circular"
      },
      "source": [
        "<p style='text-align: right;'> 5*3 = 15 points</p>\n"
      ],
      "id": "dramatic-circular"
    },
    {
      "cell_type": "markdown",
      "metadata": {
        "id": "structural-consistency"
      },
      "source": [
        "Create a pandas daterange where starting date is 1st of January,2020 and end date is 1st of April 2021, store it in a new variable named 'a'"
      ],
      "id": "structural-consistency"
    },
    {
      "cell_type": "code",
      "metadata": {
        "id": "hidden-grade"
      },
      "source": [
        "a = pd.date_range('1/1/2020','1/4/2021')"
      ],
      "id": "hidden-grade",
      "execution_count": 90,
      "outputs": []
    },
    {
      "cell_type": "markdown",
      "metadata": {
        "id": "respiratory-phase"
      },
      "source": [
        "print a"
      ],
      "id": "respiratory-phase"
    },
    {
      "cell_type": "code",
      "metadata": {
        "id": "final-easter",
        "colab": {
          "base_uri": "https://localhost:8080/"
        },
        "outputId": "f40df864-c445-4204-9864-dbe7737f9d76"
      },
      "source": [
        "print(a)"
      ],
      "id": "final-easter",
      "execution_count": 91,
      "outputs": [
        {
          "output_type": "stream",
          "text": [
            "DatetimeIndex(['2020-01-01', '2020-01-02', '2020-01-03', '2020-01-04',\n",
            "               '2020-01-05', '2020-01-06', '2020-01-07', '2020-01-08',\n",
            "               '2020-01-09', '2020-01-10',\n",
            "               ...\n",
            "               '2020-12-26', '2020-12-27', '2020-12-28', '2020-12-29',\n",
            "               '2020-12-30', '2020-12-31', '2021-01-01', '2021-01-02',\n",
            "               '2021-01-03', '2021-01-04'],\n",
            "              dtype='datetime64[ns]', length=370, freq='D')\n"
          ],
          "name": "stdout"
        }
      ]
    },
    {
      "cell_type": "markdown",
      "metadata": {
        "id": "opened-broadcast"
      },
      "source": [
        "What is the len of a?"
      ],
      "id": "opened-broadcast"
    },
    {
      "cell_type": "code",
      "metadata": {
        "id": "liquid-spending",
        "colab": {
          "base_uri": "https://localhost:8080/"
        },
        "outputId": "b63d1360-2609-4c98-93eb-c1f89cfb7f4a"
      },
      "source": [
        "len(a)"
      ],
      "id": "liquid-spending",
      "execution_count": 92,
      "outputs": [
        {
          "output_type": "execute_result",
          "data": {
            "text/plain": [
              "370"
            ]
          },
          "metadata": {
            "tags": []
          },
          "execution_count": 92
        }
      ]
    },
    {
      "cell_type": "markdown",
      "metadata": {
        "id": "involved-netscape"
      },
      "source": [
        "What is the type of a?"
      ],
      "id": "involved-netscape"
    },
    {
      "cell_type": "code",
      "metadata": {
        "id": "reflected-winning",
        "colab": {
          "base_uri": "https://localhost:8080/"
        },
        "outputId": "8d6b3435-fd3c-4ddb-eb46-0bc294d73f59"
      },
      "source": [
        "type(a)"
      ],
      "id": "reflected-winning",
      "execution_count": 93,
      "outputs": [
        {
          "output_type": "execute_result",
          "data": {
            "text/plain": [
              "pandas.core.indexes.datetimes.DatetimeIndex"
            ]
          },
          "metadata": {
            "tags": []
          },
          "execution_count": 93
        }
      ]
    },
    {
      "cell_type": "markdown",
      "metadata": {
        "id": "useful-liver"
      },
      "source": [
        "________________\n",
        "# Hey high five! You solved the 4th milestone challenge too! Pawri to banti hai ;)\n",
        "________________"
      ],
      "id": "useful-liver"
    },
    {
      "cell_type": "markdown",
      "metadata": {
        "id": "CG6h_jBBkqhy"
      },
      "source": [
        "# FeedBack\n",
        "We hope you’ve enjoyed this course so far. We’re committed to help you use \"AI for All\" course to its full potential, so that you have a great learning experience. And that’s why we need your help in form of a feedback here.\n",
        "\n",
        "**Please fill this feedback form**\n",
        "https://docs.google.com/forms/d/e/1FAIpQLSfjBmH0yJSSA34IhSVx4h2eDMgOAeG4Dk-yHid__NMTk3Hq5g/viewform"
      ],
      "id": "CG6h_jBBkqhy"
    },
    {
      "cell_type": "code",
      "metadata": {
        "id": "DeXK0u9bIMlX"
      },
      "source": [
        ""
      ],
      "id": "DeXK0u9bIMlX",
      "execution_count": null,
      "outputs": []
    }
  ]
}