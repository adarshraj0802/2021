{
  "nbformat": 4,
  "nbformat_minor": 5,
  "metadata": {
    "kernelspec": {
      "display_name": "Python 3",
      "language": "python",
      "name": "python3"
    },
    "language_info": {
      "codemirror_mode": {
        "name": "ipython",
        "version": 3
      },
      "file_extension": ".py",
      "mimetype": "text/x-python",
      "name": "python",
      "nbconvert_exporter": "python",
      "pygments_lexer": "ipython3",
      "version": "3.7.4"
    },
    "colab": {
      "name": "Data Structure_A2.ipynb",
      "provenance": [],
      "collapsed_sections": []
    }
  },
  "cells": [
    {
      "cell_type": "markdown",
      "metadata": {
        "id": "1dBUtuAXCaSf"
      },
      "source": [
        "# <center> <u>Data Structures <u> </center>"
      ],
      "id": "1dBUtuAXCaSf"
    },
    {
      "cell_type": "markdown",
      "metadata": {
        "id": "x_AVcjCRCaSk"
      },
      "source": [
        "## 1. Lists\n",
        "\n",
        "Reference:- https://www.youtube.com/watch?v=ohCDWZgNIU0\n"
      ],
      "id": "x_AVcjCRCaSk"
    },
    {
      "cell_type": "markdown",
      "metadata": {
        "id": "Lkuu0yvTCaSl"
      },
      "source": [
        "<p style='text-align: right;'> 1+1+1 = 3 points</p>\n"
      ],
      "id": "Lkuu0yvTCaSl"
    },
    {
      "cell_type": "code",
      "metadata": {
        "id": "2VKwe3tNCrf_"
      },
      "source": [
        ""
      ],
      "id": "2VKwe3tNCrf_",
      "execution_count": null,
      "outputs": []
    },
    {
      "cell_type": "markdown",
      "metadata": {
        "id": "8LUWaNY_CaSm"
      },
      "source": [
        "#### 1.1 Create an empty list with the name ‘a’, print the value of a and type(a).\n"
      ],
      "id": "8LUWaNY_CaSm"
    },
    {
      "cell_type": "code",
      "metadata": {
        "id": "MLi3ywh6CaSn"
      },
      "source": [
        "# create empty list, name it 'a'\n",
        "a = []\n"
      ],
      "id": "MLi3ywh6CaSn",
      "execution_count": null,
      "outputs": []
    },
    {
      "cell_type": "code",
      "metadata": {
        "id": "h6RCSXZ5CaSo",
        "colab": {
          "base_uri": "https://localhost:8080/"
        },
        "outputId": "2da56634-504f-4a8c-aa03-2eae249639b6"
      },
      "source": [
        "# print the value of a\n",
        "\n",
        "a"
      ],
      "id": "h6RCSXZ5CaSo",
      "execution_count": null,
      "outputs": [
        {
          "output_type": "execute_result",
          "data": {
            "text/plain": [
              "[]"
            ]
          },
          "metadata": {
            "tags": []
          },
          "execution_count": 2
        }
      ]
    },
    {
      "cell_type": "code",
      "metadata": {
        "id": "Ia99E6BfCaSq",
        "colab": {
          "base_uri": "https://localhost:8080/"
        },
        "outputId": "66cdf1c0-d8aa-40ae-8416-db40bd14aef8"
      },
      "source": [
        "# print the type of a\n",
        "\n",
        "type(a)"
      ],
      "id": "Ia99E6BfCaSq",
      "execution_count": null,
      "outputs": [
        {
          "output_type": "execute_result",
          "data": {
            "text/plain": [
              "list"
            ]
          },
          "metadata": {
            "tags": []
          },
          "execution_count": 3
        }
      ]
    },
    {
      "cell_type": "markdown",
      "metadata": {
        "id": "epJEfqfQCaSr"
      },
      "source": [
        "#### 1.2.Create a list , languages = ['R','Python', 'SAS', 'Scala', 42], "
      ],
      "id": "epJEfqfQCaSr"
    },
    {
      "cell_type": "markdown",
      "metadata": {
        "id": "guRiojWyCaSs"
      },
      "source": [
        "<p style='text-align: right;'> 1+1+1+1+1+1+1+1 = 7 points</p>\n"
      ],
      "id": "guRiojWyCaSs"
    },
    {
      "cell_type": "code",
      "metadata": {
        "id": "1afv77oZCaSs"
      },
      "source": [
        "#code here\n",
        "languages = ['R','Python','SAS','Scala',42]"
      ],
      "id": "1afv77oZCaSs",
      "execution_count": null,
      "outputs": []
    },
    {
      "cell_type": "markdown",
      "metadata": {
        "id": "_mrnNq27CaSt"
      },
      "source": [
        "Print the number of elements in the list"
      ],
      "id": "_mrnNq27CaSt"
    },
    {
      "cell_type": "code",
      "metadata": {
        "id": "SRFf7HtECaSt",
        "colab": {
          "base_uri": "https://localhost:8080/"
        },
        "outputId": "1f40cf1f-39f5-441f-a551-2c610a8bec40"
      },
      "source": [
        "len(languages)"
      ],
      "id": "SRFf7HtECaSt",
      "execution_count": null,
      "outputs": [
        {
          "output_type": "execute_result",
          "data": {
            "text/plain": [
              "5"
            ]
          },
          "metadata": {
            "tags": []
          },
          "execution_count": 5
        }
      ]
    },
    {
      "cell_type": "markdown",
      "metadata": {
        "id": "6SXZebDZCaSu"
      },
      "source": [
        "Using for loop iterate and print all the elements in the list"
      ],
      "id": "6SXZebDZCaSu"
    },
    {
      "cell_type": "code",
      "metadata": {
        "id": "rA746PVoCaSv",
        "colab": {
          "base_uri": "https://localhost:8080/"
        },
        "outputId": "0bb661bc-a1e5-436e-80f1-6ec0fb808254"
      },
      "source": [
        "#code here\n",
        "for x in languages:\n",
        "  print(x)\n"
      ],
      "id": "rA746PVoCaSv",
      "execution_count": null,
      "outputs": [
        {
          "output_type": "stream",
          "text": [
            "R\n",
            "Python\n",
            "SAS\n",
            "Scala\n",
            "42\n"
          ],
          "name": "stdout"
        }
      ]
    },
    {
      "cell_type": "markdown",
      "metadata": {
        "id": "sZwgom3lCaSw"
      },
      "source": [
        "Select the second item, 'Python' and store it in a new variable named 'temp'"
      ],
      "id": "sZwgom3lCaSw"
    },
    {
      "cell_type": "code",
      "metadata": {
        "id": "9yXUKxkmCaSw"
      },
      "source": [
        "temp = languages[1]"
      ],
      "id": "9yXUKxkmCaSw",
      "execution_count": null,
      "outputs": []
    },
    {
      "cell_type": "markdown",
      "metadata": {
        "id": "oc0o3YwKCaSw"
      },
      "source": [
        "Print the value of temp and type(temp)"
      ],
      "id": "oc0o3YwKCaSw"
    },
    {
      "cell_type": "code",
      "metadata": {
        "id": "KCVgAsGsCaSx",
        "colab": {
          "base_uri": "https://localhost:8080/"
        },
        "outputId": "d560e63b-0b8d-4f47-c711-b8b8e09e8751"
      },
      "source": [
        "#code here\n",
        "print(temp)\n",
        "print(type(temp))\n"
      ],
      "id": "KCVgAsGsCaSx",
      "execution_count": null,
      "outputs": [
        {
          "output_type": "stream",
          "text": [
            "Python\n",
            "<class 'str'>\n"
          ],
          "name": "stdout"
        }
      ]
    },
    {
      "cell_type": "markdown",
      "metadata": {
        "id": "p9IN7rzMCaSy"
      },
      "source": [
        "Using list comprehension, print the last two elemets of list"
      ],
      "id": "p9IN7rzMCaSy"
    },
    {
      "cell_type": "code",
      "metadata": {
        "id": "Kf8Yj4ueCaSy",
        "colab": {
          "base_uri": "https://localhost:8080/"
        },
        "outputId": "3ab363a9-9c28-4156-9539-c382f7db0003"
      },
      "source": [
        "languages[3:5]"
      ],
      "id": "Kf8Yj4ueCaSy",
      "execution_count": null,
      "outputs": [
        {
          "output_type": "execute_result",
          "data": {
            "text/plain": [
              "['Scala', 42]"
            ]
          },
          "metadata": {
            "tags": []
          },
          "execution_count": 2
        }
      ]
    },
    {
      "cell_type": "markdown",
      "metadata": {
        "id": "h0_XcJhzCaSz"
      },
      "source": [
        "Append the element 'Java' in the list"
      ],
      "id": "h0_XcJhzCaSz"
    },
    {
      "cell_type": "code",
      "metadata": {
        "id": "o6N3w3JJCaSz"
      },
      "source": [
        "languages.append(\"Java\")"
      ],
      "id": "o6N3w3JJCaSz",
      "execution_count": null,
      "outputs": []
    },
    {
      "cell_type": "code",
      "metadata": {
        "colab": {
          "base_uri": "https://localhost:8080/"
        },
        "id": "y5_GL-pjrfOI",
        "outputId": "82b1bf34-c686-4ed0-d459-2a1585df20d3"
      },
      "source": [
        "languages"
      ],
      "id": "y5_GL-pjrfOI",
      "execution_count": null,
      "outputs": [
        {
          "output_type": "execute_result",
          "data": {
            "text/plain": [
              "['R', 'Python', 'SAS', 'Scala', 42, 'Java']"
            ]
          },
          "metadata": {
            "tags": []
          },
          "execution_count": 4
        }
      ]
    },
    {
      "cell_type": "markdown",
      "metadata": {
        "id": "oF_1RfwHCaS0"
      },
      "source": [
        "Remove the element 42 from the list and print the list"
      ],
      "id": "oF_1RfwHCaS0"
    },
    {
      "cell_type": "code",
      "metadata": {
        "id": "dO-EtTw3CaS0"
      },
      "source": [
        "languages.remove(42)"
      ],
      "id": "dO-EtTw3CaS0",
      "execution_count": null,
      "outputs": []
    },
    {
      "cell_type": "code",
      "metadata": {
        "colab": {
          "base_uri": "https://localhost:8080/"
        },
        "id": "PjT1vuTtsAD9",
        "outputId": "44ab7740-1c7d-4530-bd61-7748353b6384"
      },
      "source": [
        "languages"
      ],
      "id": "PjT1vuTtsAD9",
      "execution_count": null,
      "outputs": [
        {
          "output_type": "execute_result",
          "data": {
            "text/plain": [
              "['R', 'Python', 'SAS', 'Scala', 'Java']"
            ]
          },
          "metadata": {
            "tags": []
          },
          "execution_count": 6
        }
      ]
    },
    {
      "cell_type": "markdown",
      "metadata": {
        "id": "4-R0DOQ3CaS1"
      },
      "source": [
        "#### 1.3. Create a list, colors = [‘Red’, ‘Blue’, ‘White’]"
      ],
      "id": "4-R0DOQ3CaS1"
    },
    {
      "cell_type": "markdown",
      "metadata": {
        "id": "r3061exDCaS1"
      },
      "source": [
        "<p style='text-align: right;'> 1+1+1+1+1+1+1 = 6 points</p>\n"
      ],
      "id": "r3061exDCaS1"
    },
    {
      "cell_type": "code",
      "metadata": {
        "id": "z8rc9nBfCaS2"
      },
      "source": [
        "#code here\n",
        "colors = ['Red','Blue','White']"
      ],
      "id": "z8rc9nBfCaS2",
      "execution_count": null,
      "outputs": []
    },
    {
      "cell_type": "markdown",
      "metadata": {
        "id": "mDQRYATWCaS2"
      },
      "source": [
        "Append the element 'Black' to colors"
      ],
      "id": "mDQRYATWCaS2"
    },
    {
      "cell_type": "code",
      "metadata": {
        "id": "5uY9XB5LCaS2"
      },
      "source": [
        "colors.append('Black')"
      ],
      "id": "5uY9XB5LCaS2",
      "execution_count": null,
      "outputs": []
    },
    {
      "cell_type": "markdown",
      "metadata": {
        "id": "GvWFHGreCaS3"
      },
      "source": [
        "Append the color 'Orange' to second position (index=1) and print the list"
      ],
      "id": "GvWFHGreCaS3"
    },
    {
      "cell_type": "code",
      "metadata": {
        "id": "6NH3QQfICaS3"
      },
      "source": [
        "colors.insert(1,'Orange')"
      ],
      "id": "6NH3QQfICaS3",
      "execution_count": null,
      "outputs": []
    },
    {
      "cell_type": "markdown",
      "metadata": {
        "id": "sygcdQ4nCaS4"
      },
      "source": [
        "Print the list\n"
      ],
      "id": "sygcdQ4nCaS4"
    },
    {
      "cell_type": "code",
      "metadata": {
        "id": "xnlegvHBCaS4",
        "colab": {
          "base_uri": "https://localhost:8080/"
        },
        "outputId": "c661cf3c-8c95-4ea6-d7ad-7b82b45d6b98"
      },
      "source": [
        "colors"
      ],
      "id": "xnlegvHBCaS4",
      "execution_count": null,
      "outputs": [
        {
          "output_type": "execute_result",
          "data": {
            "text/plain": [
              "['Red', 'Orange', 'Blue', 'White', 'Black']"
            ]
          },
          "metadata": {
            "tags": []
          },
          "execution_count": 21
        }
      ]
    },
    {
      "cell_type": "markdown",
      "metadata": {
        "id": "4DL8d-HBCaS5"
      },
      "source": [
        "Create another list, colors2 = [‘Grey’, ‘Sky Blue’]"
      ],
      "id": "4DL8d-HBCaS5"
    },
    {
      "cell_type": "code",
      "metadata": {
        "id": "VDMCs8ECCaS5"
      },
      "source": [
        "colors2 = ['Grey','Sky Blue']"
      ],
      "id": "VDMCs8ECCaS5",
      "execution_count": null,
      "outputs": []
    },
    {
      "cell_type": "markdown",
      "metadata": {
        "id": "b2521WkNCaS5"
      },
      "source": [
        "Add the elements of colors2 to colors using extend function in the list"
      ],
      "id": "b2521WkNCaS5"
    },
    {
      "cell_type": "code",
      "metadata": {
        "id": "nfdUEapaCaS6",
        "colab": {
          "base_uri": "https://localhost:8080/"
        },
        "outputId": "51325185-2329-44e7-a43c-d2ba24413211"
      },
      "source": [
        "colors.extend(colors2)\n",
        "colors"
      ],
      "id": "nfdUEapaCaS6",
      "execution_count": null,
      "outputs": [
        {
          "output_type": "execute_result",
          "data": {
            "text/plain": [
              "['Red', 'Orange', 'Blue', 'White', 'Black', 'Grey', 'Sky Blue']"
            ]
          },
          "metadata": {
            "tags": []
          },
          "execution_count": 23
        }
      ]
    },
    {
      "cell_type": "markdown",
      "metadata": {
        "id": "bqAl5GewCaS6"
      },
      "source": [
        "Print len of colors and its elements"
      ],
      "id": "bqAl5GewCaS6"
    },
    {
      "cell_type": "code",
      "metadata": {
        "id": "9uZC36q5CaS6",
        "colab": {
          "base_uri": "https://localhost:8080/"
        },
        "outputId": "291a70a3-464e-4898-c3e4-88018c38f6e7"
      },
      "source": [
        "# code here\n",
        "print(\"length of list colors is\",len(colors))\n",
        "print(colors)\n"
      ],
      "id": "9uZC36q5CaS6",
      "execution_count": null,
      "outputs": [
        {
          "output_type": "stream",
          "text": [
            "length of list colors is 7\n",
            "['Red', 'Orange', 'Blue', 'White', 'Black', 'Grey', 'Sky Blue']\n"
          ],
          "name": "stdout"
        }
      ]
    },
    {
      "cell_type": "markdown",
      "metadata": {
        "id": "c0uCOe_lCaS7"
      },
      "source": [
        "Sort the list and print it."
      ],
      "id": "c0uCOe_lCaS7"
    },
    {
      "cell_type": "code",
      "metadata": {
        "id": "nNCGIrOQCaS7",
        "colab": {
          "base_uri": "https://localhost:8080/"
        },
        "outputId": "94f64186-68dd-4fc5-b993-75d9e7eeff3a"
      },
      "source": [
        "# code here\n",
        "colors.sort()\n",
        "print(colors)"
      ],
      "id": "nNCGIrOQCaS7",
      "execution_count": null,
      "outputs": [
        {
          "output_type": "stream",
          "text": [
            "['Black', 'Blue', 'Grey', 'Orange', 'Red', 'Sky Blue', 'White']\n"
          ],
          "name": "stdout"
        }
      ]
    },
    {
      "cell_type": "markdown",
      "metadata": {
        "id": "Rwjar051CaS8"
      },
      "source": [
        "#### 1.4. Create a string, sent = ‘Coronavirus Caused Lockdowns Around The World.”"
      ],
      "id": "Rwjar051CaS8"
    },
    {
      "cell_type": "markdown",
      "metadata": {
        "id": "nVRUpjaQCaS8"
      },
      "source": [
        "<p style='text-align: right;'> 7 points</p>\n"
      ],
      "id": "nVRUpjaQCaS8"
    },
    {
      "cell_type": "code",
      "metadata": {
        "id": "Pya55ORRCaS9"
      },
      "source": [
        "sent =  \"Coronavirus Caused Lockdowns Around The World.\""
      ],
      "id": "Pya55ORRCaS9",
      "execution_count": null,
      "outputs": []
    },
    {
      "cell_type": "markdown",
      "metadata": {
        "id": "BuKa8nELCaS9"
      },
      "source": [
        "Use split function to convert the string into a list of words and save it in variable words and print the same"
      ],
      "id": "BuKa8nELCaS9"
    },
    {
      "cell_type": "code",
      "metadata": {
        "id": "pqa7guIICaS9",
        "colab": {
          "base_uri": "https://localhost:8080/"
        },
        "outputId": "73a6958a-ae3c-4f98-e9a2-ab5dd05edc35"
      },
      "source": [
        "list_sent = sent.split(sep = \" \")\n",
        "list_sent"
      ],
      "id": "pqa7guIICaS9",
      "execution_count": null,
      "outputs": [
        {
          "output_type": "execute_result",
          "data": {
            "text/plain": [
              "['Coronavirus', 'Caused', 'Lockdowns', 'Around', 'The', 'World.']"
            ]
          },
          "metadata": {
            "tags": []
          },
          "execution_count": 2
        }
      ]
    },
    {
      "cell_type": "markdown",
      "metadata": {
        "id": "tIC1W79DCaS-"
      },
      "source": [
        "Using list comprehensions, convert each word in the list to lower case and store it in variable words_lower. \n",
        "Print words_lower"
      ],
      "id": "tIC1W79DCaS-"
    },
    {
      "cell_type": "code",
      "metadata": {
        "id": "UIorIyqsCaS-",
        "colab": {
          "base_uri": "https://localhost:8080/"
        },
        "outputId": "0868f0d6-461b-40c8-f111-7c546b29abe0"
      },
      "source": [
        "list_lower = [x.lower() for x in list_sent]\n",
        "list_lower"
      ],
      "id": "UIorIyqsCaS-",
      "execution_count": null,
      "outputs": [
        {
          "output_type": "execute_result",
          "data": {
            "text/plain": [
              "['coronavirus', 'caused', 'lockdowns', 'around', 'the', 'world.']"
            ]
          },
          "metadata": {
            "tags": []
          },
          "execution_count": 3
        }
      ]
    },
    {
      "cell_type": "markdown",
      "metadata": {
        "id": "2RXyN5wZCaS_"
      },
      "source": [
        "Check whether ‘country’ is in the list"
      ],
      "id": "2RXyN5wZCaS_"
    },
    {
      "cell_type": "code",
      "metadata": {
        "id": "jzyfP-oqCaS_",
        "colab": {
          "base_uri": "https://localhost:8080/"
        },
        "outputId": "9796dd19-fbf8-4209-d3ef-050135a646b3"
      },
      "source": [
        "str = 'country'\n",
        "str in list_sent"
      ],
      "id": "jzyfP-oqCaS_",
      "execution_count": null,
      "outputs": [
        {
          "output_type": "execute_result",
          "data": {
            "text/plain": [
              "False"
            ]
          },
          "metadata": {
            "tags": []
          },
          "execution_count": 34
        }
      ]
    },
    {
      "cell_type": "markdown",
      "metadata": {
        "id": "tkNBV99SCaTA"
      },
      "source": [
        "Remove the element ‘the’ from the list and print the list."
      ],
      "id": "tkNBV99SCaTA"
    },
    {
      "cell_type": "code",
      "metadata": {
        "id": "yebPdVdmCaTA",
        "colab": {
          "base_uri": "https://localhost:8080/"
        },
        "outputId": "44ee9599-22b6-4aa3-b4d9-8d4fac6ee204"
      },
      "source": [
        "list_sent.remove(\"The\")\n",
        "print(list_sent)"
      ],
      "id": "yebPdVdmCaTA",
      "execution_count": null,
      "outputs": [
        {
          "output_type": "stream",
          "text": [
            "['Coronavirus', 'Caused', 'Lockdowns', 'Around', 'World.']\n"
          ],
          "name": "stdout"
        }
      ]
    },
    {
      "cell_type": "markdown",
      "metadata": {
        "id": "6NtGBKq2CaTB"
      },
      "source": [
        "Select the first 4 words from the list words_lower using slicing and store them in a new variable x4"
      ],
      "id": "6NtGBKq2CaTB"
    },
    {
      "cell_type": "code",
      "metadata": {
        "id": "IJYfXIsMCaTB"
      },
      "source": [
        "x4 = list_sent[0:4]"
      ],
      "id": "IJYfXIsMCaTB",
      "execution_count": null,
      "outputs": []
    },
    {
      "cell_type": "code",
      "metadata": {
        "id": "FOePYFfiCaTB",
        "colab": {
          "base_uri": "https://localhost:8080/"
        },
        "outputId": "97147060-7d73-4a74-8691-2f5a887ca10d"
      },
      "source": [
        "# print x4\n",
        "print(x4)"
      ],
      "id": "FOePYFfiCaTB",
      "execution_count": null,
      "outputs": [
        {
          "output_type": "stream",
          "text": [
            "['Coronavirus', 'Caused', 'Lockdowns', 'Around']\n"
          ],
          "name": "stdout"
        }
      ]
    },
    {
      "cell_type": "markdown",
      "metadata": {
        "id": "XlZoShdMCaTC"
      },
      "source": [
        "Convert the list of elements to single string using join function and print it"
      ],
      "id": "XlZoShdMCaTC"
    },
    {
      "cell_type": "code",
      "metadata": {
        "id": "0OOfjCujCaTC"
      },
      "source": [
        "string_lower = \" \".join(list_lower)"
      ],
      "id": "0OOfjCujCaTC",
      "execution_count": null,
      "outputs": []
    },
    {
      "cell_type": "code",
      "metadata": {
        "colab": {
          "base_uri": "https://localhost:8080/",
          "height": 35
        },
        "id": "rzOzPwnvtPvw",
        "outputId": "3298be1b-db8c-483c-d0ce-0558c5912856"
      },
      "source": [
        "string_lower"
      ],
      "id": "rzOzPwnvtPvw",
      "execution_count": null,
      "outputs": [
        {
          "output_type": "execute_result",
          "data": {
            "application/vnd.google.colaboratory.intrinsic+json": {
              "type": "string"
            },
            "text/plain": [
              "'coronavirus caused lockdowns around the world.'"
            ]
          },
          "metadata": {
            "tags": []
          },
          "execution_count": 6
        }
      ]
    },
    {
      "cell_type": "markdown",
      "metadata": {
        "id": "1gw-9PT_CaTD"
      },
      "source": [
        "## 2. Sets\n",
        "\n",
        "Reference:-https://www.youtube.com/watch?v=sBvaPopWOmQ"
      ],
      "id": "1gw-9PT_CaTD"
    },
    {
      "cell_type": "markdown",
      "metadata": {
        "id": "51pCNJgqCaTD"
      },
      "source": [
        "#### 2.1. Create stud_grades = ['A','A','B','C','C','F']"
      ],
      "id": "51pCNJgqCaTD"
    },
    {
      "cell_type": "markdown",
      "metadata": {
        "id": "h3aU1OkSCaTE"
      },
      "source": [
        "<p style='text-align: right;'> 7 points</p>\n"
      ],
      "id": "h3aU1OkSCaTE"
    },
    {
      "cell_type": "code",
      "metadata": {
        "id": "QmBmViWwCaTE"
      },
      "source": [
        "#code here\n",
        "stud_grades = ['A','A','B','C','C','F']"
      ],
      "id": "QmBmViWwCaTE",
      "execution_count": null,
      "outputs": []
    },
    {
      "cell_type": "markdown",
      "metadata": {
        "id": "XIxdcBDXCaTE"
      },
      "source": [
        "Print the len of stud_grades"
      ],
      "id": "XIxdcBDXCaTE"
    },
    {
      "cell_type": "code",
      "metadata": {
        "id": "bNtk7lwNCaTF",
        "colab": {
          "base_uri": "https://localhost:8080/"
        },
        "outputId": "550f5b44-17ad-420b-d608-d94a11ad142c"
      },
      "source": [
        "len(stud_grades)"
      ],
      "id": "bNtk7lwNCaTF",
      "execution_count": null,
      "outputs": [
        {
          "output_type": "execute_result",
          "data": {
            "text/plain": [
              "6"
            ]
          },
          "metadata": {
            "tags": []
          },
          "execution_count": 8
        }
      ]
    },
    {
      "cell_type": "markdown",
      "metadata": {
        "id": "QxLtjPvECaTF"
      },
      "source": [
        "Create a new variable, stud_grades_set = set(stud_grades)"
      ],
      "id": "QxLtjPvECaTF"
    },
    {
      "cell_type": "code",
      "metadata": {
        "id": "itmaaZQnCaTG"
      },
      "source": [
        "#code here\n",
        "stud_grades_set = set(stud_grades)"
      ],
      "id": "itmaaZQnCaTG",
      "execution_count": null,
      "outputs": []
    },
    {
      "cell_type": "markdown",
      "metadata": {
        "id": "B03vqmHJCaTG"
      },
      "source": [
        "Print stud_grades_set. "
      ],
      "id": "B03vqmHJCaTG"
    },
    {
      "cell_type": "code",
      "metadata": {
        "id": "qGaNAUi2CaTG",
        "colab": {
          "base_uri": "https://localhost:8080/"
        },
        "outputId": "82a02fbe-8c6b-4eb5-df1a-3e7cf944a79c"
      },
      "source": [
        "#code here\n",
        "stud_grades_set"
      ],
      "id": "qGaNAUi2CaTG",
      "execution_count": null,
      "outputs": [
        {
          "output_type": "execute_result",
          "data": {
            "text/plain": [
              "{'A', 'B', 'C', 'F'}"
            ]
          },
          "metadata": {
            "tags": []
          },
          "execution_count": 10
        }
      ]
    },
    {
      "cell_type": "markdown",
      "metadata": {
        "id": "oVDiEo0bCaTH"
      },
      "source": [
        "print the type of stud_grades and stud_grades_set and print their corresponding elements. Try to understand the difference between them."
      ],
      "id": "oVDiEo0bCaTH"
    },
    {
      "cell_type": "code",
      "metadata": {
        "id": "4G-cPg8CCaTH",
        "colab": {
          "base_uri": "https://localhost:8080/"
        },
        "outputId": "23ea480a-a2a3-4903-999e-0c92d22099c1"
      },
      "source": [
        "#code here\n",
        "print(type(stud_grades), stud_grades)\n",
        "print(type(stud_grades_set), stud_grades_set)"
      ],
      "id": "4G-cPg8CCaTH",
      "execution_count": null,
      "outputs": [
        {
          "output_type": "stream",
          "text": [
            "<class 'list'> ['A', 'A', 'B', 'C', 'C', 'F']\n",
            "<class 'set'> {'B', 'A', 'C', 'F'}\n"
          ],
          "name": "stdout"
        }
      ]
    },
    {
      "cell_type": "markdown",
      "metadata": {
        "id": "28eItOqYCaTH"
      },
      "source": [
        "Add a new element ‘G’ to stud_grades_set"
      ],
      "id": "28eItOqYCaTH"
    },
    {
      "cell_type": "code",
      "metadata": {
        "id": "bnUnC5Y-CaTH"
      },
      "source": [
        "#code here\n",
        "stud_grades_set.add('G')\n"
      ],
      "id": "bnUnC5Y-CaTH",
      "execution_count": null,
      "outputs": []
    },
    {
      "cell_type": "markdown",
      "metadata": {
        "id": "82kDV5BTCaTI"
      },
      "source": [
        "Add element 'F' to stud_grades_set. and print it."
      ],
      "id": "82kDV5BTCaTI"
    },
    {
      "cell_type": "code",
      "metadata": {
        "id": "pA-5r0OHCaTI",
        "colab": {
          "base_uri": "https://localhost:8080/"
        },
        "outputId": "e8dca7d7-a0b5-47ae-bc71-e1b5617165a5"
      },
      "source": [
        "#code here\n",
        "stud_grades_set.add('F')\n",
        "print(stud_grades_set)"
      ],
      "id": "pA-5r0OHCaTI",
      "execution_count": null,
      "outputs": [
        {
          "output_type": "stream",
          "text": [
            "{'A', 'G', 'B', 'C', 'F'}\n"
          ],
          "name": "stdout"
        }
      ]
    },
    {
      "cell_type": "markdown",
      "metadata": {
        "id": "GzbdjhkECaTI"
      },
      "source": [
        "!!Did you notice? set doesn't add an element if it's already present in it, unlike lists."
      ],
      "id": "GzbdjhkECaTI"
    },
    {
      "cell_type": "markdown",
      "metadata": {
        "id": "yKZqqbVzCaTI"
      },
      "source": [
        "Remove ‘F’ from stud_grades_set"
      ],
      "id": "yKZqqbVzCaTI"
    },
    {
      "cell_type": "code",
      "metadata": {
        "id": "Ti0_PO0FCaTI"
      },
      "source": [
        "#code here\n",
        "stud_grades_set.remove('F')\n"
      ],
      "id": "Ti0_PO0FCaTI",
      "execution_count": null,
      "outputs": []
    },
    {
      "cell_type": "markdown",
      "metadata": {
        "id": "kuwhknaNCaTJ"
      },
      "source": [
        "Print the elements and the length of stud_grades_set"
      ],
      "id": "kuwhknaNCaTJ"
    },
    {
      "cell_type": "code",
      "metadata": {
        "id": "03lsIVcJCaTJ",
        "colab": {
          "base_uri": "https://localhost:8080/"
        },
        "outputId": "445791b0-bf71-4f90-ef9f-2fbb23b48382"
      },
      "source": [
        "#code here\n",
        "print(stud_grades_set)\n",
        "print(len(stud_grades_set))\n"
      ],
      "id": "03lsIVcJCaTJ",
      "execution_count": null,
      "outputs": [
        {
          "output_type": "stream",
          "text": [
            "{'A', 'G', 'B', 'C'}\n",
            "4\n"
          ],
          "name": "stdout"
        }
      ]
    },
    {
      "cell_type": "markdown",
      "metadata": {
        "id": "Py6Z0P9OCaTJ"
      },
      "source": [
        "#### 2.2. Create colors = [‘red’,’blue’,’orange’], and fruits = [‘orange’,’grapes’,’apples’] "
      ],
      "id": "Py6Z0P9OCaTJ"
    },
    {
      "cell_type": "markdown",
      "metadata": {
        "id": "L5Xiy7ujCaTJ"
      },
      "source": [
        "<p style='text-align: right;'> 6 points</p>\n"
      ],
      "id": "L5Xiy7ujCaTJ"
    },
    {
      "cell_type": "code",
      "metadata": {
        "id": "Rf9wTOlZCaTK"
      },
      "source": [
        "#code here\n",
        "colors = ['red','blue','orange']\n",
        "fruits = ['orange','grapes','apples']\n"
      ],
      "id": "Rf9wTOlZCaTK",
      "execution_count": null,
      "outputs": []
    },
    {
      "cell_type": "markdown",
      "metadata": {
        "id": "0umIps0lCaTK"
      },
      "source": [
        "Print color and fruits"
      ],
      "id": "0umIps0lCaTK"
    },
    {
      "cell_type": "code",
      "metadata": {
        "id": "lB-O_C4eCaTK",
        "colab": {
          "base_uri": "https://localhost:8080/"
        },
        "outputId": "31f631f7-a2b3-4744-beff-ffc273e40600"
      },
      "source": [
        "#code here\n",
        "print(colors)\n",
        "print(fruits)"
      ],
      "id": "lB-O_C4eCaTK",
      "execution_count": null,
      "outputs": [
        {
          "output_type": "stream",
          "text": [
            "['red', 'blue', 'orange']\n",
            "['orange', 'grapes', 'apples']\n"
          ],
          "name": "stdout"
        }
      ]
    },
    {
      "cell_type": "markdown",
      "metadata": {
        "id": "gwqcjPmYCaTK"
      },
      "source": [
        "Create colors_set, and fruits_set. (using set() ) and print them"
      ],
      "id": "gwqcjPmYCaTK"
    },
    {
      "cell_type": "code",
      "metadata": {
        "id": "gk508C8TCaTL",
        "colab": {
          "base_uri": "https://localhost:8080/"
        },
        "outputId": "af2caaf7-7ae4-4607-dd97-d2c5691f7410"
      },
      "source": [
        "#code here\n",
        "colors_set = set(colors)\n",
        "fruits_set = set(fruits)\n",
        "print(colors_set)\n",
        "print(fruits_set)"
      ],
      "id": "gk508C8TCaTL",
      "execution_count": null,
      "outputs": [
        {
          "output_type": "stream",
          "text": [
            "{'orange', 'blue', 'red'}\n",
            "{'grapes', 'apples', 'orange'}\n"
          ],
          "name": "stdout"
        }
      ]
    },
    {
      "cell_type": "markdown",
      "metadata": {
        "id": "BUhHXGXDCaTL"
      },
      "source": [
        "Find the union of both the sets."
      ],
      "id": "BUhHXGXDCaTL"
    },
    {
      "cell_type": "code",
      "metadata": {
        "id": "z5cQ8koeCaTL",
        "colab": {
          "base_uri": "https://localhost:8080/"
        },
        "outputId": "25a16649-9a88-485a-c472-a08d10b48430"
      },
      "source": [
        "#code here\n",
        "fruits_union = colors_set.union(fruits_set)\n",
        "print(fruits_union)"
      ],
      "id": "z5cQ8koeCaTL",
      "execution_count": null,
      "outputs": [
        {
          "output_type": "stream",
          "text": [
            "{'grapes', 'apples', 'red', 'orange', 'blue'}\n"
          ],
          "name": "stdout"
        }
      ]
    },
    {
      "cell_type": "markdown",
      "metadata": {
        "id": "-XG3Xw8sCaTL"
      },
      "source": [
        "Find the intersection of both the sets "
      ],
      "id": "-XG3Xw8sCaTL"
    },
    {
      "cell_type": "code",
      "metadata": {
        "id": "O35L5jP5CaTM",
        "colab": {
          "base_uri": "https://localhost:8080/"
        },
        "outputId": "937d8ea8-3f1c-47c6-82d7-a57356808688"
      },
      "source": [
        "#code here\n",
        "fruits_intersection = colors_set.intersection(fruits_set)\n",
        "fruits_intersection\n"
      ],
      "id": "O35L5jP5CaTM",
      "execution_count": null,
      "outputs": [
        {
          "output_type": "execute_result",
          "data": {
            "text/plain": [
              "{'orange'}"
            ]
          },
          "metadata": {
            "tags": []
          },
          "execution_count": 25
        }
      ]
    },
    {
      "cell_type": "markdown",
      "metadata": {
        "id": "hQoLTlLSCaTM"
      },
      "source": [
        "Find the elements which are Fruits but not colors (using set.difference() )"
      ],
      "id": "hQoLTlLSCaTM"
    },
    {
      "cell_type": "code",
      "metadata": {
        "id": "vCGtAVwnCaTM",
        "colab": {
          "base_uri": "https://localhost:8080/"
        },
        "outputId": "d70e5c22-c314-4b8e-811f-fff719c6baf6"
      },
      "source": [
        "#code here\n",
        "fruits_difference = set.difference(fruits_set, colors_set)\n",
        "fruits_difference"
      ],
      "id": "vCGtAVwnCaTM",
      "execution_count": null,
      "outputs": [
        {
          "output_type": "execute_result",
          "data": {
            "text/plain": [
              "{'apples', 'grapes'}"
            ]
          },
          "metadata": {
            "tags": []
          },
          "execution_count": 26
        }
      ]
    },
    {
      "cell_type": "markdown",
      "metadata": {
        "id": "fVBMUXcVCaTM"
      },
      "source": [
        "## 3. TUPLES\n",
        "\n",
        "Reference:-https://www.youtube.com/watch?v=NI26dqhs2Rk"
      ],
      "id": "fVBMUXcVCaTM"
    },
    {
      "cell_type": "markdown",
      "metadata": {
        "id": "mSNFM_FpCaTN"
      },
      "source": [
        "#### 3.1 . Create temp = [17, ’Virat’, 50.0]"
      ],
      "id": "mSNFM_FpCaTN"
    },
    {
      "cell_type": "markdown",
      "metadata": {
        "id": "hav6EA7MCaTN"
      },
      "source": [
        "<p style='text-align: right;'> 7 points</p>\n"
      ],
      "id": "hav6EA7MCaTN"
    },
    {
      "cell_type": "code",
      "metadata": {
        "id": "8c3txgh9CaTN"
      },
      "source": [
        "#code here\n",
        "temp = [17, 'Virat', 50.0]\n",
        "\n"
      ],
      "id": "8c3txgh9CaTN",
      "execution_count": null,
      "outputs": []
    },
    {
      "cell_type": "markdown",
      "metadata": {
        "id": "SE2zwIFCCaTN"
      },
      "source": [
        "Iterate through temp and print all the items in temp"
      ],
      "id": "SE2zwIFCCaTN"
    },
    {
      "cell_type": "code",
      "metadata": {
        "id": "xUTEqmjpCaTO",
        "colab": {
          "base_uri": "https://localhost:8080/"
        },
        "outputId": "3e4cb386-5a1d-402d-f5ee-e85bf47ee9bd"
      },
      "source": [
        "for i in temp:\n",
        "  print(i)"
      ],
      "id": "xUTEqmjpCaTO",
      "execution_count": null,
      "outputs": [
        {
          "output_type": "stream",
          "text": [
            "17\n",
            "Virat\n",
            "50.0\n"
          ],
          "name": "stdout"
        }
      ]
    },
    {
      "cell_type": "markdown",
      "metadata": {
        "id": "MmSlg1gRCaTO"
      },
      "source": [
        "replace first element with 11 in temp"
      ],
      "id": "MmSlg1gRCaTO"
    },
    {
      "cell_type": "code",
      "metadata": {
        "id": "ITAl0ob1CaTO"
      },
      "source": [
        "#code here\n",
        "temp[0] = 11\n"
      ],
      "id": "ITAl0ob1CaTO",
      "execution_count": null,
      "outputs": []
    },
    {
      "cell_type": "markdown",
      "metadata": {
        "id": "dgOLZwOZCaTO"
      },
      "source": [
        "Set temp1 = tuple(temp)"
      ],
      "id": "dgOLZwOZCaTO"
    },
    {
      "cell_type": "code",
      "metadata": {
        "id": "3BmDssz2CaTO"
      },
      "source": [
        "#code here\n",
        "temp1 = tuple(temp)\n"
      ],
      "id": "3BmDssz2CaTO",
      "execution_count": null,
      "outputs": []
    },
    {
      "cell_type": "markdown",
      "metadata": {
        "id": "8m8YqsKzCaTP"
      },
      "source": [
        "Iterate through temp1 and print all the items in temp1. "
      ],
      "id": "8m8YqsKzCaTP"
    },
    {
      "cell_type": "code",
      "metadata": {
        "id": "nQVQ_v-UCaTP",
        "colab": {
          "base_uri": "https://localhost:8080/"
        },
        "outputId": "57111980-5092-4c04-f1ef-e16f50aa4c90"
      },
      "source": [
        "#code here\n",
        "for i in temp1:\n",
        "  print(i)\n"
      ],
      "id": "nQVQ_v-UCaTP",
      "execution_count": null,
      "outputs": [
        {
          "output_type": "stream",
          "text": [
            "11\n",
            "Virat\n",
            "50.0\n"
          ],
          "name": "stdout"
        }
      ]
    },
    {
      "cell_type": "markdown",
      "metadata": {
        "id": "umSoLWr-CaTP"
      },
      "source": [
        "replace first element with 17 in temp1"
      ],
      "id": "umSoLWr-CaTP"
    },
    {
      "cell_type": "code",
      "metadata": {
        "id": "emoqex7-CaTP",
        "colab": {
          "base_uri": "https://localhost:8080/",
          "height": 195
        },
        "outputId": "73abbec7-8d37-4985-dbc6-64a8bcfb6d27"
      },
      "source": [
        "#code here\n",
        "temp1[0] = 17\n",
        "temp1\n"
      ],
      "id": "emoqex7-CaTP",
      "execution_count": null,
      "outputs": [
        {
          "output_type": "error",
          "ename": "TypeError",
          "evalue": "ignored",
          "traceback": [
            "\u001b[0;31m---------------------------------------------------------------------------\u001b[0m",
            "\u001b[0;31mTypeError\u001b[0m                                 Traceback (most recent call last)",
            "\u001b[0;32m<ipython-input-37-61f04bd54a22>\u001b[0m in \u001b[0;36m<module>\u001b[0;34m()\u001b[0m\n\u001b[1;32m      1\u001b[0m \u001b[0;31m#code here\u001b[0m\u001b[0;34m\u001b[0m\u001b[0;34m\u001b[0m\u001b[0;34m\u001b[0m\u001b[0m\n\u001b[0;32m----> 2\u001b[0;31m \u001b[0mtemp1\u001b[0m\u001b[0;34m[\u001b[0m\u001b[0;36m0\u001b[0m\u001b[0;34m]\u001b[0m \u001b[0;34m=\u001b[0m \u001b[0;36m17\u001b[0m\u001b[0;34m\u001b[0m\u001b[0;34m\u001b[0m\u001b[0m\n\u001b[0m\u001b[1;32m      3\u001b[0m \u001b[0mtemp1\u001b[0m\u001b[0;34m\u001b[0m\u001b[0;34m\u001b[0m\u001b[0m\n",
            "\u001b[0;31mTypeError\u001b[0m: 'tuple' object does not support item assignment"
          ]
        }
      ]
    },
    {
      "cell_type": "markdown",
      "metadata": {
        "id": "PvMgaoaCCaTQ"
      },
      "source": [
        "<b>Oops!! You got an error. Hey Don't worry! Its because Once a tuple is created, you cannot change its values unlike list.</b>"
      ],
      "id": "PvMgaoaCCaTQ"
    },
    {
      "cell_type": "markdown",
      "metadata": {
        "id": "ssZbuCucCaTQ"
      },
      "source": [
        "#### 3.2 . Create city = (\"Bangalore\", 28.9949521, 72)"
      ],
      "id": "ssZbuCucCaTQ"
    },
    {
      "cell_type": "markdown",
      "metadata": {
        "id": "sERHL_ZZCaTQ"
      },
      "source": [
        "<p style='text-align: right;'> 6 points</p>\n"
      ],
      "id": "sERHL_ZZCaTQ"
    },
    {
      "cell_type": "code",
      "metadata": {
        "id": "rfcTmwLqCaTQ"
      },
      "source": [
        "#code here\n",
        "city = (\"Bangalore\", 28.9949521, 72)"
      ],
      "id": "rfcTmwLqCaTQ",
      "execution_count": 39,
      "outputs": []
    },
    {
      "cell_type": "markdown",
      "metadata": {
        "id": "7jN-v8ecCaTR"
      },
      "source": [
        "Print first element of city"
      ],
      "id": "7jN-v8ecCaTR"
    },
    {
      "cell_type": "code",
      "metadata": {
        "id": "kiXdqsbvCaTR",
        "colab": {
          "base_uri": "https://localhost:8080/",
          "height": 35
        },
        "outputId": "e2587082-8ecc-4543-e8d5-25c67c95b299"
      },
      "source": [
        "#code here\n",
        "city[0]\n"
      ],
      "id": "kiXdqsbvCaTR",
      "execution_count": 40,
      "outputs": [
        {
          "output_type": "execute_result",
          "data": {
            "application/vnd.google.colaboratory.intrinsic+json": {
              "type": "string"
            },
            "text/plain": [
              "'Bangalore'"
            ]
          },
          "metadata": {
            "tags": []
          },
          "execution_count": 40
        }
      ]
    },
    {
      "cell_type": "markdown",
      "metadata": {
        "id": "KLuXVfn_CaTR"
      },
      "source": [
        "Create city2 = (‘Chennai’, 30.01, 74)"
      ],
      "id": "KLuXVfn_CaTR"
    },
    {
      "cell_type": "code",
      "metadata": {
        "id": "TDINfgbdCaTR"
      },
      "source": [
        "#code here\n",
        "city2 = ('Chennai',30.01,74)\n"
      ],
      "id": "TDINfgbdCaTR",
      "execution_count": 41,
      "outputs": []
    },
    {
      "cell_type": "markdown",
      "metadata": {
        "id": "E9m-j0ZoCaTS"
      },
      "source": [
        "Create cities which consist of city and city2"
      ],
      "id": "E9m-j0ZoCaTS"
    },
    {
      "cell_type": "code",
      "metadata": {
        "id": "tpCF2XpPCaTT"
      },
      "source": [
        "#code here\n",
        "cities = (city,city2)\n"
      ],
      "id": "tpCF2XpPCaTT",
      "execution_count": 49,
      "outputs": []
    },
    {
      "cell_type": "markdown",
      "metadata": {
        "id": "T07-cBfxCaTU"
      },
      "source": [
        "Print cities"
      ],
      "id": "T07-cBfxCaTU"
    },
    {
      "cell_type": "code",
      "metadata": {
        "id": "xtHYsbEmCaTU",
        "colab": {
          "base_uri": "https://localhost:8080/"
        },
        "outputId": "ecc74291-4ef2-46a7-f9cf-983ecadc4181"
      },
      "source": [
        "#code here\n",
        "cities"
      ],
      "id": "xtHYsbEmCaTU",
      "execution_count": 51,
      "outputs": [
        {
          "output_type": "execute_result",
          "data": {
            "text/plain": [
              "(('Bangalore', 28.9949521, 72), ('Chennai', 30.01, 74))"
            ]
          },
          "metadata": {
            "tags": []
          },
          "execution_count": 51
        }
      ]
    },
    {
      "cell_type": "markdown",
      "metadata": {
        "id": "iefh3LtPCaTU"
      },
      "source": [
        "Print type of first element in cities"
      ],
      "id": "iefh3LtPCaTU"
    },
    {
      "cell_type": "code",
      "metadata": {
        "id": "YfQfopudCaTV",
        "colab": {
          "base_uri": "https://localhost:8080/"
        },
        "outputId": "42101077-6e5e-432b-a0db-465b5ceff0ba"
      },
      "source": [
        "#code here\n",
        "print(type(cities[0]))"
      ],
      "id": "YfQfopudCaTV",
      "execution_count": 53,
      "outputs": [
        {
          "output_type": "stream",
          "text": [
            "<class 'tuple'>\n"
          ],
          "name": "stdout"
        }
      ]
    },
    {
      "cell_type": "markdown",
      "metadata": {
        "id": "eqAOGDB4CaTV"
      },
      "source": [
        "print the type of cities\n"
      ],
      "id": "eqAOGDB4CaTV"
    },
    {
      "cell_type": "code",
      "metadata": {
        "id": "h0pvR2gcCaTV",
        "colab": {
          "base_uri": "https://localhost:8080/"
        },
        "outputId": "6dd6a220-3b74-47de-d749-5c011eb8fde0"
      },
      "source": [
        "#code here\n",
        "print(type(cities))"
      ],
      "id": "h0pvR2gcCaTV",
      "execution_count": 54,
      "outputs": [
        {
          "output_type": "stream",
          "text": [
            "<class 'tuple'>\n"
          ],
          "name": "stdout"
        }
      ]
    },
    {
      "cell_type": "markdown",
      "metadata": {
        "id": "lwqIDd4FCaTV"
      },
      "source": [
        "Hey that implies you made a nested tuples!!"
      ],
      "id": "lwqIDd4FCaTV"
    },
    {
      "cell_type": "markdown",
      "metadata": {
        "id": "fea_8KNoCaTW"
      },
      "source": [
        "## 4. DICT\n",
        "\n",
        "Reference:-https://www.youtube.com/watch?v=XCcpzWs-CI4"
      ],
      "id": "fea_8KNoCaTW"
    },
    {
      "cell_type": "markdown",
      "metadata": {
        "id": "bX2sKEBHCaTW"
      },
      "source": [
        "<p style='text-align: right;'> 11 points</p>\n"
      ],
      "id": "bX2sKEBHCaTW"
    },
    {
      "cell_type": "markdown",
      "metadata": {
        "id": "rx_fTGLbCaTW"
      },
      "source": [
        "#### 4.1 Create a dictionary d = {\"actor\":\"amir\",\"animal\":\"cat\",\"earth\":2,\"list\":[23,32,12]}"
      ],
      "id": "rx_fTGLbCaTW"
    },
    {
      "cell_type": "code",
      "metadata": {
        "id": "qNElc1cQCaTW"
      },
      "source": [
        "#code here\n",
        "d = {\"actor\":\"amir\",\"animal\":\"cat\",\"earth\":2,\"list\":[23,32,12]}\n"
      ],
      "id": "qNElc1cQCaTW",
      "execution_count": 79,
      "outputs": []
    },
    {
      "cell_type": "markdown",
      "metadata": {
        "id": "N4WC2pA3CaTX"
      },
      "source": [
        "Print the value of d[0]"
      ],
      "id": "N4WC2pA3CaTX"
    },
    {
      "cell_type": "code",
      "metadata": {
        "id": "fNalno_TCaTX",
        "colab": {
          "base_uri": "https://localhost:8080/",
          "height": 178
        },
        "outputId": "6a85c1a1-5570-41df-c460-6ce417f2c50a"
      },
      "source": [
        "#code here\n",
        "d[0]\n"
      ],
      "id": "fNalno_TCaTX",
      "execution_count": 56,
      "outputs": [
        {
          "output_type": "error",
          "ename": "KeyError",
          "evalue": "ignored",
          "traceback": [
            "\u001b[0;31m---------------------------------------------------------------------------\u001b[0m",
            "\u001b[0;31mKeyError\u001b[0m                                  Traceback (most recent call last)",
            "\u001b[0;32m<ipython-input-56-a306cefea1b5>\u001b[0m in \u001b[0;36m<module>\u001b[0;34m()\u001b[0m\n\u001b[1;32m      1\u001b[0m \u001b[0;31m#code here\u001b[0m\u001b[0;34m\u001b[0m\u001b[0;34m\u001b[0m\u001b[0;34m\u001b[0m\u001b[0m\n\u001b[0;32m----> 2\u001b[0;31m \u001b[0md\u001b[0m\u001b[0;34m[\u001b[0m\u001b[0;36m0\u001b[0m\u001b[0;34m]\u001b[0m\u001b[0;34m\u001b[0m\u001b[0;34m\u001b[0m\u001b[0m\n\u001b[0m",
            "\u001b[0;31mKeyError\u001b[0m: 0"
          ]
        }
      ]
    },
    {
      "cell_type": "markdown",
      "metadata": {
        "id": "xKqP2HqkCaTX"
      },
      "source": [
        "<b>Oops!! again an error. again a fun fact. Dictionary return the value for key if key is in the dictionary, else throws KeyError\n",
        "and we don't have key 0 here :( </b>"
      ],
      "id": "xKqP2HqkCaTX"
    },
    {
      "cell_type": "markdown",
      "metadata": {
        "id": "OxoNENtICaTX"
      },
      "source": [
        "Store the value of d[‘actor’] to a new variable actor."
      ],
      "id": "OxoNENtICaTX"
    },
    {
      "cell_type": "code",
      "metadata": {
        "id": "hgykBC0DCaTX"
      },
      "source": [
        "#code here\n",
        "actor = d[\"actor\"]\n"
      ],
      "id": "hgykBC0DCaTX",
      "execution_count": 57,
      "outputs": []
    },
    {
      "cell_type": "markdown",
      "metadata": {
        "id": "Gyd7UiUKCaTY"
      },
      "source": [
        "Print the type of actor"
      ],
      "id": "Gyd7UiUKCaTY"
    },
    {
      "cell_type": "code",
      "metadata": {
        "id": "hIVE49XNCaTY",
        "colab": {
          "base_uri": "https://localhost:8080/"
        },
        "outputId": "830c43f1-4836-4633-b86d-8eba2ac4243f"
      },
      "source": [
        "#code here\n",
        "print(type(actor))\n"
      ],
      "id": "hIVE49XNCaTY",
      "execution_count": 58,
      "outputs": [
        {
          "output_type": "stream",
          "text": [
            "<class 'str'>\n"
          ],
          "name": "stdout"
        }
      ]
    },
    {
      "cell_type": "markdown",
      "metadata": {
        "id": "9Cdfdbp9CaTY"
      },
      "source": [
        "Store the value of d[‘list’] in new variable l. "
      ],
      "id": "9Cdfdbp9CaTY"
    },
    {
      "cell_type": "code",
      "metadata": {
        "id": "RHDv8c8dCaTY"
      },
      "source": [
        "#code here\n",
        "l = d[\"list\"]\n"
      ],
      "id": "RHDv8c8dCaTY",
      "execution_count": 59,
      "outputs": []
    },
    {
      "cell_type": "markdown",
      "metadata": {
        "id": "XLko0zEYCaTZ"
      },
      "source": [
        "Print the type of l. "
      ],
      "id": "XLko0zEYCaTZ"
    },
    {
      "cell_type": "code",
      "metadata": {
        "id": "iICjjTWwCaTZ",
        "colab": {
          "base_uri": "https://localhost:8080/"
        },
        "outputId": "3a493080-ec80-48ad-e9e7-6f6646885413"
      },
      "source": [
        "#code here\n",
        "print(type(l))\n"
      ],
      "id": "iICjjTWwCaTZ",
      "execution_count": 60,
      "outputs": [
        {
          "output_type": "stream",
          "text": [
            "<class 'list'>\n"
          ],
          "name": "stdout"
        }
      ]
    },
    {
      "cell_type": "markdown",
      "metadata": {
        "id": "Ve5eu1cLCaTZ"
      },
      "source": [
        "Create d1 = { ‘singer’ : ‘Kr$na’ , ‘album’: ‘Still here’, ‘genre’ : ‘hip-hop’}"
      ],
      "id": "Ve5eu1cLCaTZ"
    },
    {
      "cell_type": "code",
      "metadata": {
        "id": "tSmfaIohCaTZ"
      },
      "source": [
        "#code here\n",
        "d1 = { 'singer' : 'Kr$na' , 'album': 'Still here', 'genre' : 'hip-hop'}\n"
      ],
      "id": "tSmfaIohCaTZ",
      "execution_count": 81,
      "outputs": []
    },
    {
      "cell_type": "markdown",
      "metadata": {
        "id": "raGkIGtgCaTZ"
      },
      "source": [
        "Merge d1 into d."
      ],
      "id": "raGkIGtgCaTZ"
    },
    {
      "cell_type": "code",
      "metadata": {
        "id": "1NXHvfgUCaTa"
      },
      "source": [
        "#code here\n",
        "def Merge(x1, x2):\n",
        "  return (x1.update(x2))\n",
        "\n",
        "Merge(d,d1)"
      ],
      "id": "1NXHvfgUCaTa",
      "execution_count": 82,
      "outputs": []
    },
    {
      "cell_type": "markdown",
      "metadata": {
        "id": "hCRGGA97CaTa"
      },
      "source": [
        "print d"
      ],
      "id": "hCRGGA97CaTa"
    },
    {
      "cell_type": "code",
      "metadata": {
        "id": "Cz3hZctWCaTa",
        "colab": {
          "base_uri": "https://localhost:8080/"
        },
        "outputId": "78700145-46ce-4c9a-ad10-434ee58385a7"
      },
      "source": [
        "#code here\n",
        "\n",
        "print(d)"
      ],
      "id": "Cz3hZctWCaTa",
      "execution_count": 83,
      "outputs": [
        {
          "output_type": "stream",
          "text": [
            "{'actor': 'amir', 'animal': 'cat', 'earth': 2, 'list': [23, 32, 12], 'singer': 'Kr$na', 'album': 'Still here', 'genre': 'hip-hop'}\n"
          ],
          "name": "stdout"
        }
      ]
    },
    {
      "cell_type": "markdown",
      "metadata": {
        "id": "uxU0-4HbCaTa"
      },
      "source": [
        "Print all the keys in d"
      ],
      "id": "uxU0-4HbCaTa"
    },
    {
      "cell_type": "code",
      "metadata": {
        "id": "_Z0Ag3r5CaTa",
        "colab": {
          "base_uri": "https://localhost:8080/"
        },
        "outputId": "ea2ada4f-a78b-44e4-bd18-f2c8b7b451a7"
      },
      "source": [
        "#code here\n",
        "dict_keys = d.keys()\n",
        "print(dict_keys)"
      ],
      "id": "_Z0Ag3r5CaTa",
      "execution_count": 66,
      "outputs": [
        {
          "output_type": "stream",
          "text": [
            "dict_keys(['actor', 'animal', 'earth', 'list', 'singer', 'album', 'genre'])\n"
          ],
          "name": "stdout"
        }
      ]
    },
    {
      "cell_type": "markdown",
      "metadata": {
        "id": "7azVifa8CaTb"
      },
      "source": [
        "Print all the values in d"
      ],
      "id": "7azVifa8CaTb"
    },
    {
      "cell_type": "code",
      "metadata": {
        "id": "WWt3qM61CaTb",
        "colab": {
          "base_uri": "https://localhost:8080/"
        },
        "outputId": "f3ffe9e4-d373-4896-ce51-e36a8703ede6"
      },
      "source": [
        "#code here\n",
        "dict_values = d.values()\n",
        "dict_values"
      ],
      "id": "WWt3qM61CaTb",
      "execution_count": 67,
      "outputs": [
        {
          "output_type": "execute_result",
          "data": {
            "text/plain": [
              "dict_values(['amir', 'cat', 2, [23, 32, 12], 'Kr$na', 'Still here', 'hip-hop'])"
            ]
          },
          "metadata": {
            "tags": []
          },
          "execution_count": 67
        }
      ]
    },
    {
      "cell_type": "markdown",
      "metadata": {
        "id": "_8ulfftQCaTc"
      },
      "source": [
        "Iterate over d, and print each key, value pair as given in output"
      ],
      "id": "_8ulfftQCaTc"
    },
    {
      "cell_type": "code",
      "metadata": {
        "id": "9GA7n2L4mmd2"
      },
      "source": [
        "d"
      ],
      "id": "9GA7n2L4mmd2",
      "execution_count": null,
      "outputs": []
    },
    {
      "cell_type": "code",
      "metadata": {
        "id": "cVr_YGrBCaTc",
        "colab": {
          "base_uri": "https://localhost:8080/"
        },
        "outputId": "13918ff7-d13e-4bad-90dd-508621673524"
      },
      "source": [
        "#code here\n",
        "for x in d.keys():\n",
        "  print(x,\"----->\",d[x])\n"
      ],
      "id": "cVr_YGrBCaTc",
      "execution_count": 86,
      "outputs": [
        {
          "output_type": "stream",
          "text": [
            "actor -----> amir\n",
            "animal -----> cat\n",
            "earth -----> 2\n",
            "list -----> [23, 32, 12]\n",
            "singer -----> Kr$na\n",
            "album -----> Still here\n",
            "genre -----> hip-hop\n"
          ],
          "name": "stdout"
        }
      ]
    },
    {
      "cell_type": "markdown",
      "metadata": {
        "id": "IrRisZpDCaTc"
      },
      "source": [
        "count the number of occurences of charachters in string named \"sent\" using dictionary and print the same.\n"
      ],
      "id": "IrRisZpDCaTc"
    },
    {
      "cell_type": "code",
      "metadata": {
        "id": "i848Rcoh8DUv"
      },
      "source": [
        "sent = sent.lower()"
      ],
      "id": "i848Rcoh8DUv",
      "execution_count": 91,
      "outputs": []
    },
    {
      "cell_type": "code",
      "metadata": {
        "id": "SrjjFHykCaTc",
        "colab": {
          "base_uri": "https://localhost:8080/"
        },
        "outputId": "6f12c24c-1eb9-440f-b5d3-46508fbae4d2"
      },
      "source": [
        "#code here\n",
        "all_freq = {}\n",
        "  \n",
        "for i in sent:\n",
        "    if i in all_freq:\n",
        "        all_freq[i] += 1\n",
        "    else:\n",
        "        all_freq[i] = 1\n",
        "\n",
        "print(all_freq)\n"
      ],
      "id": "SrjjFHykCaTc",
      "execution_count": 93,
      "outputs": [
        {
          "output_type": "stream",
          "text": [
            "{'c': 3, 'o': 6, 'r': 4, 'n': 3, 'a': 3, 'v': 1, 'i': 1, 'u': 3, 's': 3, ' ': 5, 'e': 2, 'd': 4, 'l': 2, 'k': 1, 'w': 2, 't': 1, 'h': 1, '.': 1}\n"
          ],
          "name": "stdout"
        }
      ]
    },
    {
      "cell_type": "markdown",
      "metadata": {
        "id": "ohFhJK0oCaTd"
      },
      "source": [
        "# --------------------------------------------------------------------"
      ],
      "id": "ohFhJK0oCaTd"
    },
    {
      "cell_type": "markdown",
      "metadata": {
        "id": "HlyRYQSuCaTd"
      },
      "source": [
        "# Hurray!! Second milestone completed. The next challenge is waiting for you :)\n",
        "\n",
        "# --------------------------------------------------------------------"
      ],
      "id": "HlyRYQSuCaTd"
    },
    {
      "cell_type": "markdown",
      "metadata": {
        "id": "CG6h_jBBkqhy"
      },
      "source": [
        "# FeedBack\n",
        "We hope you’ve enjoyed this course so far. We’re committed to help you use \"AI for All\" course to its full potential, so that you have a great learning experience. And that’s why we need your help in form of a feedback here.\n",
        "\n",
        "**Please fill this feedback form**\n",
        "https://docs.google.com/forms/d/e/1FAIpQLSfjBmH0yJSSA34IhSVx4h2eDMgOAeG4Dk-yHid__NMTk3Hq5g/viewform"
      ],
      "id": "CG6h_jBBkqhy"
    },
    {
      "cell_type": "code",
      "metadata": {
        "id": "y-YbW-_LCaTd"
      },
      "source": [
        ""
      ],
      "id": "y-YbW-_LCaTd",
      "execution_count": null,
      "outputs": []
    }
  ]
}