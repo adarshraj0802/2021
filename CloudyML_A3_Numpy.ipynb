{
  "nbformat": 4,
  "nbformat_minor": 5,
  "metadata": {
    "colab": {
      "name": "CloudyML_A3_Numpy.ipynb",
      "provenance": [],
      "collapsed_sections": []
    },
    "kernelspec": {
      "display_name": "Python 3",
      "language": "python",
      "name": "python3"
    },
    "language_info": {
      "codemirror_mode": {
        "name": "ipython",
        "version": 3
      },
      "file_extension": ".py",
      "mimetype": "text/x-python",
      "name": "python",
      "nbconvert_exporter": "python",
      "pygments_lexer": "ipython3",
      "version": "3.7.4"
    }
  },
  "cells": [
    {
      "cell_type": "markdown",
      "metadata": {
        "id": "fro_DHmGSWN9"
      },
      "source": [
        "# <center><u>Numpy</u></center>"
      ],
      "id": "fro_DHmGSWN9"
    },
    {
      "cell_type": "markdown",
      "metadata": {
        "id": "ieFqGOBDSWOB"
      },
      "source": [
        "# Numpy Basics\n",
        "Welcome to section of Numpy. This is the one of the most used Python libraries for data science. NumPy consists of a powerful data structure called multidimensional arrays.\n",
        "\n",
        "NumPy is a library written for scientific computing and data analysis. It stands for numerical python and also known as array oriented computing.\n",
        "\n",
        "The most basic object in NumPy is the ndarray, or simply an array which is an n-dimensional, homogeneous array. By homogenous, we mean that all the elements in a NumPy array have to be of the same data type, which is commonly numeric (float or integer).\n",
        "\n",
        "\n",
        " # Why Numpy?\n",
        " convenience & speed\n",
        " \n",
        "Numpy is much faster than the standard python ways to do computations.\n",
        " \n",
        "Vectorised code typically does not contain explicit looping and indexing etc. (all of this happens behind the scenes, in precompiled C-code), and thus it is much more concise.\n",
        "\n",
        "Also, many Numpy operations are implemented in C which is basically being executed behind the scenes, avoiding the general cost of loops in Python, pointer indirection and per-element dynamic type checking. The speed boost depends on which operations you're performing.\n",
        " \n",
        " NumPy arrays are more compact than lists, i.e. they take much lesser storage space than lists"
      ],
      "id": "ieFqGOBDSWOB"
    },
    {
      "cell_type": "markdown",
      "metadata": {
        "id": "ERM80WVFSWOC"
      },
      "source": [
        "## 1. Variable Declarartion\n",
        "\n",
        "Reference:-https://www.youtube.com/watch?v=Y_nVWb9bcHY"
      ],
      "id": "ERM80WVFSWOC"
    },
    {
      "cell_type": "markdown",
      "metadata": {
        "id": "C-i_hyUhSWOC"
      },
      "source": [
        "<p style='text-align: right;'> 5 points</p>"
      ],
      "id": "C-i_hyUhSWOC"
    },
    {
      "cell_type": "code",
      "metadata": {
        "id": "Lo9T3Bo6SWOC"
      },
      "source": [
        "# Import numpy using alias np\n",
        "\n",
        "import numpy as np"
      ],
      "id": "Lo9T3Bo6SWOC",
      "execution_count": 2,
      "outputs": []
    },
    {
      "cell_type": "code",
      "metadata": {
        "id": "OXb5OTGSSWOD"
      },
      "source": [
        "# create a numpy array 'a' with elements 1,2,3\n",
        "# create a two dimensional array 'b' with elements(1,2,3) and (4,5,6)\n",
        "a = np.array([1,2,3])\n",
        "b = np.array([[1,2,3],[4,5,6]])"
      ],
      "id": "OXb5OTGSSWOD",
      "execution_count": null,
      "outputs": []
    },
    {
      "cell_type": "code",
      "metadata": {
        "id": "F1IfYGEDSWOD",
        "colab": {
          "base_uri": "https://localhost:8080/"
        },
        "outputId": "bfd1eca3-a177-4da2-9579-a33f76aafdbf"
      },
      "source": [
        "# print the values of a and b\n",
        "print(a)\n",
        "print(b)"
      ],
      "id": "F1IfYGEDSWOD",
      "execution_count": null,
      "outputs": [
        {
          "output_type": "stream",
          "text": [
            "[1 2 3]\n",
            "[[1 2 3]\n",
            " [4 5 6]]\n"
          ],
          "name": "stdout"
        }
      ]
    },
    {
      "cell_type": "markdown",
      "metadata": {
        "id": "9Tf97-Q2SWOE"
      },
      "source": [
        "Print shape of both a and b"
      ],
      "id": "9Tf97-Q2SWOE"
    },
    {
      "cell_type": "code",
      "metadata": {
        "id": "DOFaNvKiSWOE",
        "colab": {
          "base_uri": "https://localhost:8080/"
        },
        "outputId": "f6b56fa8-0f58-4183-ecd2-179bad3de6d7"
      },
      "source": [
        "# your code here\n",
        "print(a.shape)\n",
        "print(b.shape)\n"
      ],
      "id": "DOFaNvKiSWOE",
      "execution_count": null,
      "outputs": [
        {
          "output_type": "stream",
          "text": [
            "(3,)\n",
            "(2, 3)\n"
          ],
          "name": "stdout"
        }
      ]
    },
    {
      "cell_type": "markdown",
      "metadata": {
        "id": "epLeVaMvSWOE"
      },
      "source": [
        "Print the data types of a and b"
      ],
      "id": "epLeVaMvSWOE"
    },
    {
      "cell_type": "code",
      "metadata": {
        "id": "x7kOdjxnSWOE",
        "colab": {
          "base_uri": "https://localhost:8080/"
        },
        "outputId": "e21f9bad-11df-47cf-92b4-2b7f4da2264c"
      },
      "source": [
        "print(a.dtype)\n",
        "print(b.dtype)"
      ],
      "id": "x7kOdjxnSWOE",
      "execution_count": null,
      "outputs": [
        {
          "output_type": "stream",
          "text": [
            "int64\n",
            "int64\n"
          ],
          "name": "stdout"
        }
      ]
    },
    {
      "cell_type": "markdown",
      "metadata": {
        "id": "hB3guK7nSWOF"
      },
      "source": [
        "## 2. Add, remove elements and Memory Sharing\n",
        "\n",
        "Reference:- https://www.youtube.com/watch?v=dEnCfapUbEw<br>\n",
        "            https://www.youtube.com/watch?v=17vysCjwjxc"
      ],
      "id": "hB3guK7nSWOF"
    },
    {
      "cell_type": "markdown",
      "metadata": {
        "id": "KEMsKc5QSWOF"
      },
      "source": [
        "<p style='text-align: right;'> 10 points</p>\n"
      ],
      "id": "KEMsKc5QSWOF"
    },
    {
      "cell_type": "markdown",
      "metadata": {
        "id": "iq-qMAE3SWOF"
      },
      "source": [
        "Declare x = np.array([ 5,10, 20, 12, 3])"
      ],
      "id": "iq-qMAE3SWOF"
    },
    {
      "cell_type": "code",
      "metadata": {
        "id": "BSopvdheSWOF"
      },
      "source": [
        "# declare x \n",
        "x = np.array([ 5,10, 20, 12, 3])\n"
      ],
      "id": "BSopvdheSWOF",
      "execution_count": null,
      "outputs": []
    },
    {
      "cell_type": "markdown",
      "metadata": {
        "id": "aY7KR7KsSWOF"
      },
      "source": [
        "Add a new element 1 at the end of x"
      ],
      "id": "aY7KR7KsSWOF"
    },
    {
      "cell_type": "code",
      "metadata": {
        "id": "2tfWNnNjSWOF",
        "colab": {
          "base_uri": "https://localhost:8080/"
        },
        "outputId": "4b1be4a2-e919-49d0-9b3f-57c4164b0481"
      },
      "source": [
        "# your code here\n",
        "x = np.append(x,[1])\n",
        "\n",
        "print(x) # check if 1 is added"
      ],
      "id": "2tfWNnNjSWOF",
      "execution_count": null,
      "outputs": [
        {
          "output_type": "stream",
          "text": [
            "[ 5 10 20 12  3  1]\n"
          ],
          "name": "stdout"
        }
      ]
    },
    {
      "cell_type": "markdown",
      "metadata": {
        "id": "3DND_QDzSWOG"
      },
      "source": [
        "Delete the second element of x \n"
      ],
      "id": "3DND_QDzSWOG"
    },
    {
      "cell_type": "code",
      "metadata": {
        "id": "ohz4xOs-SWOG",
        "colab": {
          "base_uri": "https://localhost:8080/"
        },
        "outputId": "05dc96d8-9863-4b47-fde6-0d5ff29a7a47"
      },
      "source": [
        "# your code here \n",
        "x = np.delete(x,1)\n",
        "print(x) # check if the second element has been deleted"
      ],
      "id": "ohz4xOs-SWOG",
      "execution_count": null,
      "outputs": [
        {
          "output_type": "stream",
          "text": [
            "[ 5 20 12  3  1]\n"
          ],
          "name": "stdout"
        }
      ]
    },
    {
      "cell_type": "markdown",
      "metadata": {
        "id": "xrJy6hwkSWOG"
      },
      "source": [
        "Set y = x\n"
      ],
      "id": "xrJy6hwkSWOG"
    },
    {
      "cell_type": "code",
      "metadata": {
        "id": "ellUvpjQSWOG"
      },
      "source": [
        "y = x"
      ],
      "id": "ellUvpjQSWOG",
      "execution_count": null,
      "outputs": []
    },
    {
      "cell_type": "markdown",
      "metadata": {
        "id": "utVR1BPFSWOG"
      },
      "source": [
        "Set the first element y =  1\n"
      ],
      "id": "utVR1BPFSWOG"
    },
    {
      "cell_type": "code",
      "metadata": {
        "id": "W3Etxg-4SWOG",
        "colab": {
          "base_uri": "https://localhost:8080/"
        },
        "outputId": "1f8a61d0-f3f8-441f-eff4-5e18c5fa295f"
      },
      "source": [
        "y[0] = 1\n",
        "print(y)"
      ],
      "id": "W3Etxg-4SWOG",
      "execution_count": null,
      "outputs": [
        {
          "output_type": "stream",
          "text": [
            "[ 1 20 12  3  1]\n"
          ],
          "name": "stdout"
        }
      ]
    },
    {
      "cell_type": "markdown",
      "metadata": {
        "id": "9OW37aLaSWOG"
      },
      "source": [
        "Print x and y\n",
        "\n"
      ],
      "id": "9OW37aLaSWOG"
    },
    {
      "cell_type": "code",
      "metadata": {
        "id": "1oL46MJMSWOH",
        "colab": {
          "base_uri": "https://localhost:8080/"
        },
        "outputId": "673f3080-fcc6-4c8c-ba24-7fc5081aa0c8"
      },
      "source": [
        "print(x)\n",
        "print(y)\n"
      ],
      "id": "1oL46MJMSWOH",
      "execution_count": null,
      "outputs": [
        {
          "output_type": "stream",
          "text": [
            "[ 1 20 12  3  1]\n",
            "[ 1 20 12  3  1]\n"
          ],
          "name": "stdout"
        }
      ]
    },
    {
      "cell_type": "markdown",
      "metadata": {
        "id": "CIPTxgWFSWOH"
      },
      "source": [
        "<b>you modified y, OMG!! but why x is also affected? Just give a try to answer this quest below </b>"
      ],
      "id": "CIPTxgWFSWOH"
    },
    {
      "cell_type": "code",
      "metadata": {
        "id": "oPkG37XaSWOH"
      },
      "source": [
        "# write in commented form or markdown format"
      ],
      "id": "oPkG37XaSWOH",
      "execution_count": null,
      "outputs": []
    },
    {
      "cell_type": "markdown",
      "metadata": {
        "id": "_oTBIhKxSWOH"
      },
      "source": [
        "Set z = np.copy(x)\n"
      ],
      "id": "_oTBIhKxSWOH"
    },
    {
      "cell_type": "code",
      "metadata": {
        "id": "KFtUd43qSWOH"
      },
      "source": [
        "z = np.copy(x)"
      ],
      "id": "KFtUd43qSWOH",
      "execution_count": null,
      "outputs": []
    },
    {
      "cell_type": "markdown",
      "metadata": {
        "id": "ZHHOF_PpSWOH"
      },
      "source": [
        "Set the first element of y as 100\n"
      ],
      "id": "ZHHOF_PpSWOH"
    },
    {
      "cell_type": "code",
      "metadata": {
        "id": "lg2V8SQFSWOH"
      },
      "source": [
        "y[0] = 100"
      ],
      "id": "lg2V8SQFSWOH",
      "execution_count": null,
      "outputs": []
    },
    {
      "cell_type": "markdown",
      "metadata": {
        "id": "uWp9yWfiSWOH"
      },
      "source": [
        "print x and z to see if there is any change in x."
      ],
      "id": "uWp9yWfiSWOH"
    },
    {
      "cell_type": "code",
      "metadata": {
        "id": "HIzO2gYOSWOH",
        "colab": {
          "base_uri": "https://localhost:8080/"
        },
        "outputId": "5b9e8123-b2d1-47af-d14b-03124e22167a"
      },
      "source": [
        "print(x)\n",
        "print(z)"
      ],
      "id": "HIzO2gYOSWOH",
      "execution_count": null,
      "outputs": [
        {
          "output_type": "stream",
          "text": [
            "[100  20  12   3   1]\n",
            "[ 1 20 12  3  1]\n"
          ],
          "name": "stdout"
        }
      ]
    },
    {
      "cell_type": "markdown",
      "metadata": {
        "id": "AAkmdDdqSWOH"
      },
      "source": [
        "<b>Hey the above output seems so interesting!!. When used copy function the changes did not affect on x. Can you Guess why ?<b>"
      ],
      "id": "AAkmdDdqSWOH"
    },
    {
      "cell_type": "code",
      "metadata": {
        "id": "ytmnq5WtSWOH"
      },
      "source": [
        "# write here - The copy owns the data and any changes made to the copy will not affect original array, and any changes made to the original array will not affect the copy."
      ],
      "id": "ytmnq5WtSWOH",
      "execution_count": null,
      "outputs": []
    },
    {
      "cell_type": "markdown",
      "metadata": {
        "id": "yPgBLrnFSWOI"
      },
      "source": [
        "## 4. Using various Numpy Functions.\n",
        "\n",
        "Reference:- https://www.youtube.com/watch?v=HL-nfSG6F2I\n"
      ],
      "id": "yPgBLrnFSWOI"
    },
    {
      "cell_type": "markdown",
      "metadata": {
        "id": "fOJ0LS7MSWOI"
      },
      "source": [
        "<p style='text-align: right;'> 8*2 = 16 points</p>\n"
      ],
      "id": "fOJ0LS7MSWOI"
    },
    {
      "cell_type": "markdown",
      "metadata": {
        "id": "E4fdgsjtSWOI"
      },
      "source": [
        "Create a numpy array containing numbers from 1 to 12"
      ],
      "id": "E4fdgsjtSWOI"
    },
    {
      "cell_type": "code",
      "metadata": {
        "id": "F3DXMPB5SWOI",
        "colab": {
          "base_uri": "https://localhost:8080/"
        },
        "outputId": "cb1208f7-35f1-43c3-b0cc-e634674d9812"
      },
      "source": [
        "# x = #your code here \n",
        "x = np.array(range(1,13))\n",
        "print(x)"
      ],
      "id": "F3DXMPB5SWOI",
      "execution_count": null,
      "outputs": [
        {
          "output_type": "stream",
          "text": [
            "[ 1  2  3  4  5  6  7  8  9 10 11 12]\n"
          ],
          "name": "stdout"
        }
      ]
    },
    {
      "cell_type": "markdown",
      "metadata": {
        "id": "OkH7ueRXSWOI"
      },
      "source": [
        "Create a numpy array containing even numbers between 1 to 20\n",
        "\n",
        "\n"
      ],
      "id": "OkH7ueRXSWOI"
    },
    {
      "cell_type": "code",
      "metadata": {
        "id": "uJ7QgXWDSWOI",
        "colab": {
          "base_uri": "https://localhost:8080/"
        },
        "outputId": "39c41da8-3237-419d-b9ad-4ad43411e0cb"
      },
      "source": [
        "y = np.array(range(1,21))\n",
        "print(y)"
      ],
      "id": "uJ7QgXWDSWOI",
      "execution_count": null,
      "outputs": [
        {
          "output_type": "stream",
          "text": [
            "[ 1  2  3  4  5  6  7  8  9 10 11 12 13 14 15 16 17 18 19 20]\n"
          ],
          "name": "stdout"
        }
      ]
    },
    {
      "cell_type": "markdown",
      "metadata": {
        "id": "yAqZCZXTSWOI"
      },
      "source": [
        "Create an array of 2 rows and 2 columns containing all zeros.\n",
        "\n",
        "\n"
      ],
      "id": "yAqZCZXTSWOI"
    },
    {
      "cell_type": "code",
      "metadata": {
        "id": "I9cFX4vISWOI",
        "colab": {
          "base_uri": "https://localhost:8080/"
        },
        "outputId": "65f9f677-7b74-4bf2-b86e-c057109d52c3"
      },
      "source": [
        "np.zeros((2,2))"
      ],
      "id": "I9cFX4vISWOI",
      "execution_count": null,
      "outputs": [
        {
          "output_type": "execute_result",
          "data": {
            "text/plain": [
              "array([[0., 0.],\n",
              "       [0., 0.]])"
            ]
          },
          "metadata": {
            "tags": []
          },
          "execution_count": 38
        }
      ]
    },
    {
      "cell_type": "markdown",
      "metadata": {
        "id": "8sHg-qqSSWOI"
      },
      "source": [
        "Create a matrix containing 3 rows and 2 columns where all the values are 1.\n",
        "\n",
        "\n"
      ],
      "id": "8sHg-qqSSWOI"
    },
    {
      "cell_type": "code",
      "metadata": {
        "id": "4nnolJ8ISWOI",
        "colab": {
          "base_uri": "https://localhost:8080/"
        },
        "outputId": "a0363783-47bf-4db0-94d3-033d9968391b"
      },
      "source": [
        "np.ones((3,2))"
      ],
      "id": "4nnolJ8ISWOI",
      "execution_count": null,
      "outputs": [
        {
          "output_type": "execute_result",
          "data": {
            "text/plain": [
              "array([[1., 1.],\n",
              "       [1., 1.],\n",
              "       [1., 1.]])"
            ]
          },
          "metadata": {
            "tags": []
          },
          "execution_count": 39
        }
      ]
    },
    {
      "cell_type": "markdown",
      "metadata": {
        "id": "dF9f7EUNSWOJ"
      },
      "source": [
        "Create a matrix of size 5x5 where all are diagonal elements are 1, rest being 0."
      ],
      "id": "dF9f7EUNSWOJ"
    },
    {
      "cell_type": "code",
      "metadata": {
        "id": "FMvyqIM8SWOJ",
        "colab": {
          "base_uri": "https://localhost:8080/"
        },
        "outputId": "adacdb7f-2884-41e6-a5ab-f2bbf9263444"
      },
      "source": [
        "np.diag([1,1,1,1,1])"
      ],
      "id": "FMvyqIM8SWOJ",
      "execution_count": null,
      "outputs": [
        {
          "output_type": "execute_result",
          "data": {
            "text/plain": [
              "array([[1, 0, 0, 0, 0],\n",
              "       [0, 1, 0, 0, 0],\n",
              "       [0, 0, 1, 0, 0],\n",
              "       [0, 0, 0, 1, 0],\n",
              "       [0, 0, 0, 0, 1]])"
            ]
          },
          "metadata": {
            "tags": []
          },
          "execution_count": 40
        }
      ]
    },
    {
      "cell_type": "markdown",
      "metadata": {
        "id": "jT5IIBQOSWOJ"
      },
      "source": [
        "Create a matrix of size 4x2 where all the elements are 4\n",
        "\n",
        "\n"
      ],
      "id": "jT5IIBQOSWOJ"
    },
    {
      "cell_type": "code",
      "metadata": {
        "colab": {
          "base_uri": "https://localhost:8080/"
        },
        "id": "cm-VODO4pzC9",
        "outputId": "eb61969a-5c3f-436c-a35b-6bb727eb2fe5"
      },
      "source": [
        "All_fours = np.ones((4,2))*4\n",
        "print(All_fours.astype(np.int32))"
      ],
      "id": "cm-VODO4pzC9",
      "execution_count": null,
      "outputs": [
        {
          "output_type": "stream",
          "text": [
            "[[4 4]\n",
            " [4 4]\n",
            " [4 4]\n",
            " [4 4]]\n"
          ],
          "name": "stdout"
        }
      ]
    },
    {
      "cell_type": "markdown",
      "metadata": {
        "id": "l6ePELShSWOJ"
      },
      "source": [
        "Create a matrix where diagonal elements are [1 , 2, 3, 4, 5] and rest are zero\n",
        "\n",
        "\n"
      ],
      "id": "l6ePELShSWOJ"
    },
    {
      "cell_type": "code",
      "metadata": {
        "id": "hQlsHGLRSWOJ",
        "colab": {
          "base_uri": "https://localhost:8080/"
        },
        "outputId": "8fa34238-c9a7-4678-c536-f8e8c92540c7"
      },
      "source": [
        "np.diag([1,2,3,4,5])"
      ],
      "id": "hQlsHGLRSWOJ",
      "execution_count": null,
      "outputs": [
        {
          "output_type": "execute_result",
          "data": {
            "text/plain": [
              "array([[1, 0, 0, 0, 0],\n",
              "       [0, 2, 0, 0, 0],\n",
              "       [0, 0, 3, 0, 0],\n",
              "       [0, 0, 0, 4, 0],\n",
              "       [0, 0, 0, 0, 5]])"
            ]
          },
          "metadata": {
            "tags": []
          },
          "execution_count": 55
        }
      ]
    },
    {
      "cell_type": "markdown",
      "metadata": {
        "id": "Z_eNn67uSWOJ"
      },
      "source": [
        "Create a matrix of size 3x3 which contains random numbers from 0 to 1.\n",
        "\n",
        "\n"
      ],
      "id": "Z_eNn67uSWOJ"
    },
    {
      "cell_type": "code",
      "metadata": {
        "id": "YED-cMWrSWOJ",
        "colab": {
          "base_uri": "https://localhost:8080/"
        },
        "outputId": "82a1f662-f54f-4354-faf9-fe6f87f9a4de"
      },
      "source": [
        "np.random.rand(3,3)"
      ],
      "id": "YED-cMWrSWOJ",
      "execution_count": null,
      "outputs": [
        {
          "output_type": "execute_result",
          "data": {
            "text/plain": [
              "array([[0.51089456, 0.64244511, 0.83868397],\n",
              "       [0.49794751, 0.91875485, 0.73064323],\n",
              "       [0.34697277, 0.70260078, 0.8100607 ]])"
            ]
          },
          "metadata": {
            "tags": []
          },
          "execution_count": 64
        }
      ]
    },
    {
      "cell_type": "markdown",
      "metadata": {
        "id": "be-OlUyaSWOJ"
      },
      "source": [
        "Create a numpy array of shape (50,) such that it contains evenly spaced numbers, from 1 to 20."
      ],
      "id": "be-OlUyaSWOJ"
    },
    {
      "cell_type": "code",
      "metadata": {
        "colab": {
          "base_uri": "https://localhost:8080/"
        },
        "id": "cEBSE8fgtBf2",
        "outputId": "fc8eb142-a547-413b-8d26-0f09d1cd0d46"
      },
      "source": [
        "np.linspace(1,20,50)"
      ],
      "id": "cEBSE8fgtBf2",
      "execution_count": null,
      "outputs": [
        {
          "output_type": "execute_result",
          "data": {
            "text/plain": [
              "array([ 1.        ,  1.3877551 ,  1.7755102 ,  2.16326531,  2.55102041,\n",
              "        2.93877551,  3.32653061,  3.71428571,  4.10204082,  4.48979592,\n",
              "        4.87755102,  5.26530612,  5.65306122,  6.04081633,  6.42857143,\n",
              "        6.81632653,  7.20408163,  7.59183673,  7.97959184,  8.36734694,\n",
              "        8.75510204,  9.14285714,  9.53061224,  9.91836735, 10.30612245,\n",
              "       10.69387755, 11.08163265, 11.46938776, 11.85714286, 12.24489796,\n",
              "       12.63265306, 13.02040816, 13.40816327, 13.79591837, 14.18367347,\n",
              "       14.57142857, 14.95918367, 15.34693878, 15.73469388, 16.12244898,\n",
              "       16.51020408, 16.89795918, 17.28571429, 17.67346939, 18.06122449,\n",
              "       18.44897959, 18.83673469, 19.2244898 , 19.6122449 , 20.        ])"
            ]
          },
          "metadata": {
            "tags": []
          },
          "execution_count": 67
        }
      ]
    },
    {
      "cell_type": "markdown",
      "metadata": {
        "id": "WgtA_596SWOJ"
      },
      "source": [
        "## 5. Reshaping\n",
        "\n",
        "Reference:-https://www.youtube.com/watch?v=sGCuryS8zjc"
      ],
      "id": "WgtA_596SWOJ"
    },
    {
      "cell_type": "markdown",
      "metadata": {
        "id": "8JrudG-OSWOK"
      },
      "source": [
        "<p style='text-align: right;'> 4+1 = 5 points</p>\n"
      ],
      "id": "8JrudG-OSWOK"
    },
    {
      "cell_type": "markdown",
      "metadata": {
        "id": "KFJGt401SWOK"
      },
      "source": [
        "Use np.arange to create  a numpy array with values between 0 to 23"
      ],
      "id": "KFJGt401SWOK"
    },
    {
      "cell_type": "code",
      "metadata": {
        "id": "68_PQMLhSWOK",
        "colab": {
          "base_uri": "https://localhost:8080/"
        },
        "outputId": "030a7309-a8fd-44d0-9d00-42af70111e87"
      },
      "source": [
        "a = np.arange(0,24)\n",
        "\n",
        "print(a)"
      ],
      "id": "68_PQMLhSWOK",
      "execution_count": null,
      "outputs": [
        {
          "output_type": "stream",
          "text": [
            "[ 0  1  2  3  4  5  6  7  8  9 10 11 12 13 14 15 16 17 18 19 20 21 22 23]\n"
          ],
          "name": "stdout"
        }
      ]
    },
    {
      "cell_type": "code",
      "metadata": {
        "id": "rutZXqrgSWOK",
        "colab": {
          "base_uri": "https://localhost:8080/"
        },
        "outputId": "af95d38e-ced9-4116-ba52-964fa3f01c7b"
      },
      "source": [
        "# print the shape of a\n",
        "a.shape\n"
      ],
      "id": "rutZXqrgSWOK",
      "execution_count": null,
      "outputs": [
        {
          "output_type": "execute_result",
          "data": {
            "text/plain": [
              "(24,)"
            ]
          },
          "metadata": {
            "tags": []
          },
          "execution_count": 69
        }
      ]
    },
    {
      "cell_type": "markdown",
      "metadata": {
        "id": "yWof93oOSWOK"
      },
      "source": [
        "Using a suitable method, reshape a to have a dimension of (3,8). Print b and its shape\n"
      ],
      "id": "yWof93oOSWOK"
    },
    {
      "cell_type": "code",
      "metadata": {
        "id": "mf-Lhf32SWOK",
        "colab": {
          "base_uri": "https://localhost:8080/"
        },
        "outputId": "5c4f1af9-c86f-4389-a36c-5bd7829a6cab"
      },
      "source": [
        "b = a.reshape(3,8)\n",
        "print(b)\n",
        "print(b.shape)\n",
        "\n"
      ],
      "id": "mf-Lhf32SWOK",
      "execution_count": null,
      "outputs": [
        {
          "output_type": "stream",
          "text": [
            "[[ 0  1  2  3  4  5  6  7]\n",
            " [ 8  9 10 11 12 13 14 15]\n",
            " [16 17 18 19 20 21 22 23]]\n",
            "(3, 8)\n"
          ],
          "name": "stdout"
        }
      ]
    },
    {
      "cell_type": "markdown",
      "metadata": {
        "id": "bpv6_fORSWOK"
      },
      "source": [
        "Create another numpy array c  = a.reshape(2,-1)"
      ],
      "id": "bpv6_fORSWOK"
    },
    {
      "cell_type": "code",
      "metadata": {
        "id": "dl2Te2lOSWOK"
      },
      "source": [
        "c = a.reshape(2,-1)"
      ],
      "id": "dl2Te2lOSWOK",
      "execution_count": null,
      "outputs": []
    },
    {
      "cell_type": "code",
      "metadata": {
        "id": "EBlXv2KOSWOK",
        "colab": {
          "base_uri": "https://localhost:8080/"
        },
        "outputId": "b41bbf14-8e72-49ea-de99-7deeed948b7b"
      },
      "source": [
        "#print c\n",
        "c"
      ],
      "id": "EBlXv2KOSWOK",
      "execution_count": null,
      "outputs": [
        {
          "output_type": "execute_result",
          "data": {
            "text/plain": [
              "array([[ 0,  1,  2,  3,  4,  5,  6,  7,  8,  9, 10, 11],\n",
              "       [12, 13, 14, 15, 16, 17, 18, 19, 20, 21, 22, 23]])"
            ]
          },
          "metadata": {
            "tags": []
          },
          "execution_count": 73
        }
      ]
    },
    {
      "cell_type": "markdown",
      "metadata": {
        "id": "VHj6vhE4SWOK"
      },
      "source": [
        "Print the shape of c."
      ],
      "id": "VHj6vhE4SWOK"
    },
    {
      "cell_type": "code",
      "metadata": {
        "id": "umf-FBnjSWOL",
        "colab": {
          "base_uri": "https://localhost:8080/"
        },
        "outputId": "bc0af762-2c57-46e9-935f-b4899225b86b"
      },
      "source": [
        "c.shape"
      ],
      "id": "umf-FBnjSWOL",
      "execution_count": null,
      "outputs": [
        {
          "output_type": "execute_result",
          "data": {
            "text/plain": [
              "(2, 12)"
            ]
          },
          "metadata": {
            "tags": []
          },
          "execution_count": 74
        }
      ]
    },
    {
      "cell_type": "markdown",
      "metadata": {
        "id": "_7gY7V1uSWOL"
      },
      "source": [
        "<b>Hey check above, what role -1 has played in reshape function. Don't worry</b>\n",
        "<b> ok let me tell you this fun fact</b>\n",
        "\n",
        "When using a -1, the dimension corresponding to the -1 will be the product of the dimensions of the original array divided by the product of the dimensions given to reshape so as to maintain the same number of elements"
      ],
      "id": "_7gY7V1uSWOL"
    },
    {
      "cell_type": "markdown",
      "metadata": {
        "id": "TUKBsMr1SWOL"
      },
      "source": [
        "________"
      ],
      "id": "TUKBsMr1SWOL"
    },
    {
      "cell_type": "markdown",
      "metadata": {
        "id": "IogwEn0vSWOL"
      },
      "source": [
        "## 6. Accessing numpy arrays\n",
        "\n",
        "Reference:-https://www.youtube.com/watch?v=y7kcnPy-NtQ\n"
      ],
      "id": "IogwEn0vSWOL"
    },
    {
      "cell_type": "markdown",
      "metadata": {
        "id": "K2G-LU3OSWOL"
      },
      "source": [
        "<p style='text-align: right;'> 6 points</p>\n"
      ],
      "id": "K2G-LU3OSWOL"
    },
    {
      "cell_type": "markdown",
      "metadata": {
        "id": "uOFxxqopSWOL"
      },
      "source": [
        "### Create an array, a = np.array([2,4,6,8,10,12,14,16])\n",
        "\n",
        "\n"
      ],
      "id": "uOFxxqopSWOL"
    },
    {
      "cell_type": "code",
      "metadata": {
        "id": "DxG862oISWOL"
      },
      "source": [
        "a = np.array([2,4,6,8,10,12,14,16])"
      ],
      "id": "DxG862oISWOL",
      "execution_count": 3,
      "outputs": []
    },
    {
      "cell_type": "code",
      "metadata": {
        "id": "hzVM35FdSWOL",
        "outputId": "61b98aca-3421-4099-a940-a9613d4d3eea"
      },
      "source": [
        "# print a\n",
        "a"
      ],
      "id": "hzVM35FdSWOL",
      "execution_count": null,
      "outputs": [
        {
          "output_type": "execute_result",
          "data": {
            "text/plain": [
              "array([ 2,  4,  6,  8, 10, 12, 14, 16])"
            ]
          },
          "metadata": {
            "tags": []
          },
          "execution_count": 2
        }
      ]
    },
    {
      "cell_type": "markdown",
      "metadata": {
        "id": "F44FbqlnSWOL"
      },
      "source": [
        "<b>Using indexing and slicing, select the following mentioned subsets - </b>"
      ],
      "id": "F44FbqlnSWOL"
    },
    {
      "cell_type": "code",
      "metadata": {
        "id": "edBnS1mYSWOL",
        "colab": {
          "base_uri": "https://localhost:8080/"
        },
        "outputId": "54bddd53-edab-4da0-9f32-bb4297e4b44b"
      },
      "source": [
        "# [4]\n",
        "a[1]\n"
      ],
      "id": "edBnS1mYSWOL",
      "execution_count": 5,
      "outputs": [
        {
          "output_type": "execute_result",
          "data": {
            "text/plain": [
              "4"
            ]
          },
          "metadata": {
            "tags": []
          },
          "execution_count": 5
        }
      ]
    },
    {
      "cell_type": "code",
      "metadata": {
        "colab": {
          "base_uri": "https://localhost:8080/"
        },
        "id": "RUSkVdbSgj96",
        "outputId": "287bf497-29f6-4b2b-e6ca-8842454fa078"
      },
      "source": [
        "a[1:6:2]"
      ],
      "id": "RUSkVdbSgj96",
      "execution_count": 8,
      "outputs": [
        {
          "output_type": "execute_result",
          "data": {
            "text/plain": [
              "array([ 4,  8, 12])"
            ]
          },
          "metadata": {
            "tags": []
          },
          "execution_count": 8
        }
      ]
    },
    {
      "cell_type": "code",
      "metadata": {
        "id": "wffCWC_7SWOM",
        "colab": {
          "base_uri": "https://localhost:8080/"
        },
        "outputId": "cacd728e-c399-46b8-9d30-b984249ef01a"
      },
      "source": [
        "#[4, 8, 12]\n",
        "a[0:6:2]"
      ],
      "id": "wffCWC_7SWOM",
      "execution_count": 9,
      "outputs": [
        {
          "output_type": "execute_result",
          "data": {
            "text/plain": [
              "array([ 2,  6, 10])"
            ]
          },
          "metadata": {
            "tags": []
          },
          "execution_count": 9
        }
      ]
    },
    {
      "cell_type": "code",
      "metadata": {
        "id": "UW_ilvvMSWOM",
        "colab": {
          "base_uri": "https://localhost:8080/"
        },
        "outputId": "213fc25b-6d34-43a0-8f65-e654da00295c"
      },
      "source": [
        "# [10, 12, 14, 16]\n",
        "a[4:]"
      ],
      "id": "UW_ilvvMSWOM",
      "execution_count": 14,
      "outputs": [
        {
          "output_type": "execute_result",
          "data": {
            "text/plain": [
              "array([10, 12, 14, 16])"
            ]
          },
          "metadata": {
            "tags": []
          },
          "execution_count": 14
        }
      ]
    },
    {
      "cell_type": "code",
      "metadata": {
        "id": "qOIoxS2dSWON",
        "colab": {
          "base_uri": "https://localhost:8080/"
        },
        "outputId": "026fe3c4-5f07-4b73-b983-e5116e5c7f25"
      },
      "source": [
        "# [14, 16]\n",
        "a[-3:]"
      ],
      "id": "qOIoxS2dSWON",
      "execution_count": 22,
      "outputs": [
        {
          "output_type": "execute_result",
          "data": {
            "text/plain": [
              "array([12, 14, 16])"
            ]
          },
          "metadata": {
            "tags": []
          },
          "execution_count": 22
        }
      ]
    },
    {
      "cell_type": "code",
      "metadata": {
        "id": "xS2D4k3kSWON",
        "colab": {
          "base_uri": "https://localhost:8080/"
        },
        "outputId": "df387540-9c1a-4e75-f06f-2164e0362206"
      },
      "source": [
        "# [2, 6, 10, 14]\n",
        "a[0:7:2]"
      ],
      "id": "xS2D4k3kSWON",
      "execution_count": 26,
      "outputs": [
        {
          "output_type": "execute_result",
          "data": {
            "text/plain": [
              "array([ 2,  6, 10, 14])"
            ]
          },
          "metadata": {
            "tags": []
          },
          "execution_count": 26
        }
      ]
    },
    {
      "cell_type": "markdown",
      "metadata": {
        "id": "AmVusL7eSWON"
      },
      "source": [
        "## 7. Transposing\n",
        "\n",
        "Reference:-https://www.youtube.com/watch?v=oNjX7nzFzrc"
      ],
      "id": "AmVusL7eSWON"
    },
    {
      "cell_type": "markdown",
      "metadata": {
        "id": "S8CvY0RHSWON"
      },
      "source": [
        "<p style='text-align: right;'> 4 points</p>\n"
      ],
      "id": "S8CvY0RHSWON"
    },
    {
      "cell_type": "markdown",
      "metadata": {
        "id": "tpocLxgESWON"
      },
      "source": [
        "Create an array a = np.array([ [1, 2, 3], [4, 5, 6], [7,8,9], [10,11,12] ] )\n"
      ],
      "id": "tpocLxgESWON"
    },
    {
      "cell_type": "code",
      "metadata": {
        "id": "W37XRe4kSWON"
      },
      "source": [
        "a = np.array([ [1, 2, 3], [4, 5, 6], [7,8,9], [10,11,12] ] )"
      ],
      "id": "W37XRe4kSWON",
      "execution_count": 27,
      "outputs": []
    },
    {
      "cell_type": "markdown",
      "metadata": {
        "id": "KmpGupqSSWON"
      },
      "source": [
        "What is the shape of a?"
      ],
      "id": "KmpGupqSSWON"
    },
    {
      "cell_type": "code",
      "metadata": {
        "id": "2WGdXG21SWON",
        "colab": {
          "base_uri": "https://localhost:8080/"
        },
        "outputId": "053dad79-65a4-4ba9-b3ad-7a3177bb931c"
      },
      "source": [
        "a.shape"
      ],
      "id": "2WGdXG21SWON",
      "execution_count": 28,
      "outputs": [
        {
          "output_type": "execute_result",
          "data": {
            "text/plain": [
              "(4, 3)"
            ]
          },
          "metadata": {
            "tags": []
          },
          "execution_count": 28
        }
      ]
    },
    {
      "cell_type": "markdown",
      "metadata": {
        "id": "XN0eBL0dSWON"
      },
      "source": [
        "### Create another array b which is transpose of a"
      ],
      "id": "XN0eBL0dSWON"
    },
    {
      "cell_type": "code",
      "metadata": {
        "id": "KDK062tTSWON"
      },
      "source": [
        "b = a.transpose()"
      ],
      "id": "KDK062tTSWON",
      "execution_count": 34,
      "outputs": []
    },
    {
      "cell_type": "markdown",
      "metadata": {
        "id": "6-undzUeSWON"
      },
      "source": [
        "Print b and its shape"
      ],
      "id": "6-undzUeSWON"
    },
    {
      "cell_type": "code",
      "metadata": {
        "id": "A0G1sELiSWOO",
        "colab": {
          "base_uri": "https://localhost:8080/"
        },
        "outputId": "efa87bdc-14dd-4693-c282-8d6267f23ff3"
      },
      "source": [
        "print(b)\n",
        "print(b.shape)"
      ],
      "id": "A0G1sELiSWOO",
      "execution_count": 35,
      "outputs": [
        {
          "output_type": "stream",
          "text": [
            "[[ 1  4  7 10]\n",
            " [ 2  5  8 11]\n",
            " [ 3  6  9 12]]\n",
            "(3, 4)\n"
          ],
          "name": "stdout"
        }
      ]
    },
    {
      "cell_type": "markdown",
      "metadata": {
        "id": "KLRfAU46SWOO"
      },
      "source": [
        "## 8. Mathematical Operations\n",
        "\n",
        "Reference:-https://www.youtube.com/watch?v=17vysCjwjxc"
      ],
      "id": "KLRfAU46SWOO"
    },
    {
      "cell_type": "markdown",
      "metadata": {
        "id": "VApF9heUSWOO"
      },
      "source": [
        "<p style='text-align: right;'> 8 points</p>\n"
      ],
      "id": "VApF9heUSWOO"
    },
    {
      "cell_type": "markdown",
      "metadata": {
        "id": "GcQsUIeBSWOO"
      },
      "source": [
        "### Complete the following tasks given in comment using numpy function."
      ],
      "id": "GcQsUIeBSWOO"
    },
    {
      "cell_type": "code",
      "metadata": {
        "id": "GxwrZvWXSWOO",
        "colab": {
          "base_uri": "https://localhost:8080/"
        },
        "outputId": "e7b36f53-e00d-4d4a-c02f-8908db574a8f"
      },
      "source": [
        "# complete your tasks here\n",
        "import numpy as np\n",
        "a = np.arange(10)\n",
        "print(a)\n",
        "\n"
      ],
      "id": "GxwrZvWXSWOO",
      "execution_count": 3,
      "outputs": [
        {
          "output_type": "stream",
          "text": [
            "[0 1 2 3 4 5 6 7 8 9]\n"
          ],
          "name": "stdout"
        }
      ]
    },
    {
      "cell_type": "code",
      "metadata": {
        "id": "aegnP381SWOO",
        "colab": {
          "base_uri": "https://localhost:8080/"
        },
        "outputId": "4d4053b8-da12-47a3-aee6-b25b8d1c6c5a"
      },
      "source": [
        "# Find sin value of a\n",
        "np.sin(a)\n"
      ],
      "id": "aegnP381SWOO",
      "execution_count": 5,
      "outputs": [
        {
          "output_type": "execute_result",
          "data": {
            "text/plain": [
              "array([ 0.        ,  0.84147098,  0.90929743,  0.14112001, -0.7568025 ,\n",
              "       -0.95892427, -0.2794155 ,  0.6569866 ,  0.98935825,  0.41211849])"
            ]
          },
          "metadata": {
            "tags": []
          },
          "execution_count": 5
        }
      ]
    },
    {
      "cell_type": "code",
      "metadata": {
        "id": "-55RPoQKSWOO",
        "colab": {
          "base_uri": "https://localhost:8080/"
        },
        "outputId": "b97b8900-06d0-4e2d-cbd7-fea3fcc5b39e"
      },
      "source": [
        "# Find cos value a\n",
        "np.cos(a)"
      ],
      "id": "-55RPoQKSWOO",
      "execution_count": 6,
      "outputs": [
        {
          "output_type": "execute_result",
          "data": {
            "text/plain": [
              "array([ 1.        ,  0.54030231, -0.41614684, -0.9899925 , -0.65364362,\n",
              "        0.28366219,  0.96017029,  0.75390225, -0.14550003, -0.91113026])"
            ]
          },
          "metadata": {
            "tags": []
          },
          "execution_count": 6
        }
      ]
    },
    {
      "cell_type": "code",
      "metadata": {
        "id": "7AnAi2gSSWOO",
        "colab": {
          "base_uri": "https://localhost:8080/"
        },
        "outputId": "09d4cda5-eee4-4c06-9e98-6c702e36188e"
      },
      "source": [
        "# Find exponential of all the values in a.\n",
        "\n",
        "np.exp(a)"
      ],
      "id": "7AnAi2gSSWOO",
      "execution_count": 7,
      "outputs": [
        {
          "output_type": "execute_result",
          "data": {
            "text/plain": [
              "array([1.00000000e+00, 2.71828183e+00, 7.38905610e+00, 2.00855369e+01,\n",
              "       5.45981500e+01, 1.48413159e+02, 4.03428793e+02, 1.09663316e+03,\n",
              "       2.98095799e+03, 8.10308393e+03])"
            ]
          },
          "metadata": {
            "tags": []
          },
          "execution_count": 7
        }
      ]
    },
    {
      "cell_type": "code",
      "metadata": {
        "id": "tdztKHB0SWOO",
        "colab": {
          "base_uri": "https://localhost:8080/"
        },
        "outputId": "9a7ee23a-a7c2-41a5-edfa-e404d14ad413"
      },
      "source": [
        "# Find the sum of all the values in a.\n",
        "np.sum(a, axis = None)\n"
      ],
      "id": "tdztKHB0SWOO",
      "execution_count": 8,
      "outputs": [
        {
          "output_type": "execute_result",
          "data": {
            "text/plain": [
              "45"
            ]
          },
          "metadata": {
            "tags": []
          },
          "execution_count": 8
        }
      ]
    },
    {
      "cell_type": "code",
      "metadata": {
        "id": "C5huet7ISWOO",
        "colab": {
          "base_uri": "https://localhost:8080/"
        },
        "outputId": "0cd2bc00-42f0-477b-fff8-26cc1079f8cb"
      },
      "source": [
        "# Find the median value in a.\n",
        "np.median(a)\n"
      ],
      "id": "C5huet7ISWOO",
      "execution_count": 9,
      "outputs": [
        {
          "output_type": "execute_result",
          "data": {
            "text/plain": [
              "4.5"
            ]
          },
          "metadata": {
            "tags": []
          },
          "execution_count": 9
        }
      ]
    },
    {
      "cell_type": "code",
      "metadata": {
        "id": "LofLw2QTSWOP",
        "colab": {
          "base_uri": "https://localhost:8080/"
        },
        "outputId": "d112a9b4-dad3-478c-e78a-fabbf32d2924"
      },
      "source": [
        "#Find the max value of a\n",
        "np.max(a)\n"
      ],
      "id": "LofLw2QTSWOP",
      "execution_count": 10,
      "outputs": [
        {
          "output_type": "execute_result",
          "data": {
            "text/plain": [
              "9"
            ]
          },
          "metadata": {
            "tags": []
          },
          "execution_count": 10
        }
      ]
    },
    {
      "cell_type": "code",
      "metadata": {
        "id": "5-xFPjQkSWOP",
        "colab": {
          "base_uri": "https://localhost:8080/"
        },
        "outputId": "409ee0b6-b952-4f01-9d57-0baeaaaf08b0"
      },
      "source": [
        "#Find the min value of a\n",
        "np.min(a)\n"
      ],
      "id": "5-xFPjQkSWOP",
      "execution_count": 11,
      "outputs": [
        {
          "output_type": "execute_result",
          "data": {
            "text/plain": [
              "0"
            ]
          },
          "metadata": {
            "tags": []
          },
          "execution_count": 11
        }
      ]
    },
    {
      "cell_type": "code",
      "metadata": {
        "id": "jQUFfKumSWOP",
        "colab": {
          "base_uri": "https://localhost:8080/"
        },
        "outputId": "26a83bd4-815a-4f35-d094-d8e7a851c7c4"
      },
      "source": [
        "# Find the index of the maximum element in a\n",
        "np.where(a == np.max(a))\n"
      ],
      "id": "jQUFfKumSWOP",
      "execution_count": 19,
      "outputs": [
        {
          "output_type": "execute_result",
          "data": {
            "text/plain": [
              "(array([9]),)"
            ]
          },
          "metadata": {
            "tags": []
          },
          "execution_count": 19
        }
      ]
    },
    {
      "cell_type": "markdown",
      "metadata": {
        "id": "klrqGOR4SWOP"
      },
      "source": [
        "## 9. Hstack and vstack\n",
        "\n",
        "Reference: https://www.youtube.com/watch?v=ksqPbrS-b78"
      ],
      "id": "klrqGOR4SWOP"
    },
    {
      "cell_type": "markdown",
      "metadata": {
        "id": "EUa4BjRdSWOP"
      },
      "source": [
        "<p style='text-align: right;'> 1 + 1 + 2 + 2 = 6 points</p>\n"
      ],
      "id": "EUa4BjRdSWOP"
    },
    {
      "cell_type": "markdown",
      "metadata": {
        "id": "tUWPiRjDSWOP"
      },
      "source": [
        "Create a = np.array( [ [1, 2, 3], [ 4, 5, 6], [7 ,8, 9] ]) and print a."
      ],
      "id": "tUWPiRjDSWOP"
    },
    {
      "cell_type": "code",
      "metadata": {
        "id": "uzZal11ESWOP",
        "colab": {
          "base_uri": "https://localhost:8080/"
        },
        "outputId": "4a1a44a3-e208-4e3f-cfde-ff885af80c78"
      },
      "source": [
        "a = np.array( [ [1, 2, 3], [ 4, 5, 6], [7 ,8, 9] ]) \n",
        "print(a)"
      ],
      "id": "uzZal11ESWOP",
      "execution_count": 22,
      "outputs": [
        {
          "output_type": "stream",
          "text": [
            "[[1 2 3]\n",
            " [4 5 6]\n",
            " [7 8 9]]\n"
          ],
          "name": "stdout"
        }
      ]
    },
    {
      "cell_type": "markdown",
      "metadata": {
        "id": "sljZguKHSWOP"
      },
      "source": [
        "Create b = np.array( [ [10, 11, 12] , [13,14,15], [16, 17, 18] ]) and print b\n"
      ],
      "id": "sljZguKHSWOP"
    },
    {
      "cell_type": "code",
      "metadata": {
        "id": "yG25YIeSSWOP",
        "colab": {
          "base_uri": "https://localhost:8080/"
        },
        "outputId": "f7d27392-0672-4fb7-bb7c-eb1caeeac68b"
      },
      "source": [
        "b = np.array( [ [10, 11, 12] , [13,14,15], [16, 17, 18] ]) \n",
        "print(b)"
      ],
      "id": "yG25YIeSSWOP",
      "execution_count": 23,
      "outputs": [
        {
          "output_type": "stream",
          "text": [
            "[[10 11 12]\n",
            " [13 14 15]\n",
            " [16 17 18]]\n"
          ],
          "name": "stdout"
        }
      ]
    },
    {
      "cell_type": "markdown",
      "metadata": {
        "id": "sqFsK83KSWOP"
      },
      "source": [
        "Create a new array c stacking a and b horizontally, print the values and shape of this array."
      ],
      "id": "sqFsK83KSWOP"
    },
    {
      "cell_type": "code",
      "metadata": {
        "id": "YJ-pyQPaSWOQ",
        "colab": {
          "base_uri": "https://localhost:8080/"
        },
        "outputId": "5bf2398c-c614-4ca8-cfe5-620ed217e7bc"
      },
      "source": [
        "c = np.hstack((a,b))\n",
        "print(c.shape)\n",
        "print(c)"
      ],
      "id": "YJ-pyQPaSWOQ",
      "execution_count": 24,
      "outputs": [
        {
          "output_type": "stream",
          "text": [
            "(3, 6)\n",
            "[[ 1  2  3 10 11 12]\n",
            " [ 4  5  6 13 14 15]\n",
            " [ 7  8  9 16 17 18]]\n"
          ],
          "name": "stdout"
        }
      ]
    },
    {
      "cell_type": "markdown",
      "metadata": {
        "id": "P0IyLJMXSWOQ"
      },
      "source": [
        "Create a new array d stacking a and b vertically, print the values and shape of this array."
      ],
      "id": "P0IyLJMXSWOQ"
    },
    {
      "cell_type": "code",
      "metadata": {
        "id": "y8GyH4DkSWOQ",
        "colab": {
          "base_uri": "https://localhost:8080/"
        },
        "outputId": "bfc58bc2-3ab4-4d7a-a918-56af8a0d13e9"
      },
      "source": [
        "d = np.vstack((a,b))\n",
        "print(d)\n",
        "print(d.shape)"
      ],
      "id": "y8GyH4DkSWOQ",
      "execution_count": 26,
      "outputs": [
        {
          "output_type": "stream",
          "text": [
            "[[ 1  2  3]\n",
            " [ 4  5  6]\n",
            " [ 7  8  9]\n",
            " [10 11 12]\n",
            " [13 14 15]\n",
            " [16 17 18]]\n",
            "(6, 3)\n"
          ],
          "name": "stdout"
        }
      ]
    },
    {
      "cell_type": "markdown",
      "metadata": {
        "id": "s-6JfmBfSWOQ"
      },
      "source": [
        "____________\n",
        "\n",
        "# Woohoo!!! you completed the 3rd milestone challenge too! Congratulations. \n",
        "\n",
        "\n",
        "\n",
        "____________"
      ],
      "id": "s-6JfmBfSWOQ"
    },
    {
      "cell_type": "markdown",
      "metadata": {
        "id": "CG6h_jBBkqhy"
      },
      "source": [
        "# FeedBack\n",
        "We hope you’ve enjoyed this course so far. We’re committed to help you use \"AI for All\" course to its full potential, so that you have a great learning experience. And that’s why we need your help in form of a feedback here.\n",
        "\n",
        "**Please fill this feedback form**\n",
        "https://docs.google.com/forms/d/e/1FAIpQLSfjBmH0yJSSA34IhSVx4h2eDMgOAeG4Dk-yHid__NMTk3Hq5g/viewform"
      ],
      "id": "CG6h_jBBkqhy"
    },
    {
      "cell_type": "code",
      "metadata": {
        "id": "J6FmXn0PAh2R"
      },
      "source": [
        ""
      ],
      "id": "J6FmXn0PAh2R",
      "execution_count": null,
      "outputs": []
    }
  ]
}