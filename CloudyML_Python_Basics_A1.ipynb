{
  "nbformat": 4,
  "nbformat_minor": 0,
  "metadata": {
    "colab": {
      "name": "CloudyML_Python Basics.ipynb",
      "provenance": []
    },
    "kernelspec": {
      "display_name": "Python 3",
      "language": "python",
      "name": "python3"
    },
    "language_info": {
      "codemirror_mode": {
        "name": "ipython",
        "version": 3
      },
      "file_extension": ".py",
      "mimetype": "text/x-python",
      "name": "python",
      "nbconvert_exporter": "python",
      "pygments_lexer": "ipython3",
      "version": "3.7.4"
    }
  },
  "cells": [
    {
      "cell_type": "markdown",
      "metadata": {
        "id": "KjKXGcSxeNXM"
      },
      "source": [
        "# <center> Python basics</center>"
      ]
    },
    {
      "cell_type": "markdown",
      "metadata": {
        "id": "9p1Ufa7ceNXQ"
      },
      "source": [
        "## Variable declaration"
      ]
    },
    {
      "cell_type": "markdown",
      "metadata": {
        "id": "4sR5efaCeNXQ"
      },
      "source": [
        "Covers the topic of variable declaration and type of variables\n",
        "\n",
        "reference:- https://youtu.be/RVYY7zMiPbg"
      ]
    },
    {
      "cell_type": "markdown",
      "metadata": {
        "id": "KE7co6gleNXQ"
      },
      "source": [
        "<p style='text-align: right;'> 1+1+1+1+1 = 5 points</p>\n"
      ]
    },
    {
      "cell_type": "code",
      "metadata": {
        "id": "vO08gwqneNXR"
      },
      "source": [
        "# declare two variables, a = 5, b = 'city'\n",
        "a = 5\n",
        "b = \"city\""
      ],
      "execution_count": null,
      "outputs": []
    },
    {
      "cell_type": "code",
      "metadata": {
        "id": "scAjfXbYeNXR",
        "colab": {
          "base_uri": "https://localhost:8080/"
        },
        "outputId": "00071731-4d82-4d32-e889-3873a775985d"
      },
      "source": [
        "# print type of a\n",
        "print(type(a))"
      ],
      "execution_count": null,
      "outputs": [
        {
          "output_type": "stream",
          "text": [
            "<class 'int'>\n"
          ],
          "name": "stdout"
        }
      ]
    },
    {
      "cell_type": "code",
      "metadata": {
        "id": "QjRcLLnieNXR",
        "colab": {
          "base_uri": "https://localhost:8080/"
        },
        "outputId": "f9d32ee8-49b2-45ac-85b1-1f40177705c8"
      },
      "source": [
        "# print type of b\n",
        "\n",
        "print(type(b))"
      ],
      "execution_count": null,
      "outputs": [
        {
          "output_type": "stream",
          "text": [
            "<class 'str'>\n"
          ],
          "name": "stdout"
        }
      ]
    },
    {
      "cell_type": "code",
      "metadata": {
        "id": "Qmbw_6M-eNXS"
      },
      "source": [
        "# swap the values of a and b\n",
        "\n",
        "x = a\n",
        "a = b\n",
        "b = x"
      ],
      "execution_count": null,
      "outputs": []
    },
    {
      "cell_type": "code",
      "metadata": {
        "id": "YopoVVCAeNXS",
        "colab": {
          "base_uri": "https://localhost:8080/"
        },
        "outputId": "0e37a23b-0899-4a1f-fbc5-2f6f1821cec6"
      },
      "source": [
        "# run this to confirm \n",
        "print('a = ' + str(a) + ' , b = ' + str(b))"
      ],
      "execution_count": null,
      "outputs": [
        {
          "output_type": "stream",
          "text": [
            "a = city , b = 5\n"
          ],
          "name": "stdout"
        }
      ]
    },
    {
      "cell_type": "markdown",
      "metadata": {
        "id": "a_v4KypaeNXS"
      },
      "source": [
        "## Arithmetic Operations"
      ]
    },
    {
      "cell_type": "markdown",
      "metadata": {
        "id": "oimyvbWbeNXS"
      },
      "source": [
        "Simple mathematical operations and using math module to apply mathematical functions"
      ]
    },
    {
      "cell_type": "markdown",
      "metadata": {
        "id": "MXIsatRMeNXS"
      },
      "source": [
        "- Mathematical operations\n",
        "\n",
        "reference:- https://youtu.be/0-hzxfkpHy8"
      ]
    },
    {
      "cell_type": "markdown",
      "metadata": {
        "id": "KrbCKjEfeNXS"
      },
      "source": [
        "<p style='text-align: right;'> 1 + 7 = 8 points </p>\n"
      ]
    },
    {
      "cell_type": "code",
      "metadata": {
        "colab": {
          "base_uri": "https://localhost:8080/"
        },
        "id": "2v8qg_9deNXT",
        "outputId": "5e5bc846-b4a7-47bf-c33d-49397192c558"
      },
      "source": [
        "# declare two variables, a = 24, b = 3\n",
        "\n",
        "a = 24\n",
        "b = 3\n",
        "print('a = {}, b = {}'.format(a,b))"
      ],
      "execution_count": 17,
      "outputs": [
        {
          "output_type": "stream",
          "text": [
            "a = 24, b = 3\n"
          ],
          "name": "stdout"
        }
      ]
    },
    {
      "cell_type": "markdown",
      "metadata": {
        "id": "72RJqXFDeNXT"
      },
      "source": [
        "## Math Functions"
      ]
    },
    {
      "cell_type": "markdown",
      "metadata": {
        "id": "9inWZMVBeNXT"
      },
      "source": [
        "Math module contains various mathematical functions. \n",
        "\n",
        "Reference:- https://youtu.be/gktjNyV0xks"
      ]
    },
    {
      "cell_type": "markdown",
      "metadata": {
        "id": "760Q04pmeNXT"
      },
      "source": [
        "<p style='text-align: right;'> 1 + 4 = 5 points </p>\n"
      ]
    },
    {
      "cell_type": "code",
      "metadata": {
        "id": "96VQV_7xeNXT",
        "colab": {
          "base_uri": "https://localhost:8080/"
        },
        "outputId": "e59a4c26-8853-408e-82cb-3c0e25a0446f"
      },
      "source": [
        "import math\n",
        "# declare a variable a = 2\n",
        "a =  2\n",
        "print('a = ',a)"
      ],
      "execution_count": 4,
      "outputs": [
        {
          "output_type": "stream",
          "text": [
            "a =  2\n"
          ],
          "name": "stdout"
        }
      ]
    },
    {
      "cell_type": "code",
      "metadata": {
        "id": "MP7p4aqXeNXT"
      },
      "source": [
        "# declare a variable x = 2 and y=5.32167\n",
        "\n",
        "x=2\n",
        "y=5.32167"
      ],
      "execution_count": 5,
      "outputs": []
    },
    {
      "cell_type": "code",
      "metadata": {
        "id": "e-83j1adeNXT",
        "colab": {
          "base_uri": "https://localhost:8080/"
        },
        "outputId": "80b3dd7a-da5a-4ed1-901b-6b7f734aea64"
      },
      "source": [
        "# Print the maximum value between x and y\n",
        "print(min(x,y))\n"
      ],
      "execution_count": null,
      "outputs": [
        {
          "output_type": "stream",
          "text": [
            "2\n"
          ],
          "name": "stdout"
        }
      ]
    },
    {
      "cell_type": "code",
      "metadata": {
        "id": "L7k75CdJeNXU",
        "colab": {
          "base_uri": "https://localhost:8080/"
        },
        "outputId": "a4691bdc-8057-42de-f8dd-f6cf1a703531"
      },
      "source": [
        "# Round value of y upto 2 decimal places\n",
        "\n",
        "round(y,2)"
      ],
      "execution_count": 6,
      "outputs": [
        {
          "output_type": "execute_result",
          "data": {
            "text/plain": [
              "5.32"
            ]
          },
          "metadata": {
            "tags": []
          },
          "execution_count": 6
        }
      ]
    },
    {
      "cell_type": "code",
      "metadata": {
        "id": "mqnxWyVPeNXU"
      },
      "source": [
        "# Print square and cube of x and store in a and b variable\n",
        "a = x**2\n",
        "b = x**3\n"
      ],
      "execution_count": 7,
      "outputs": []
    },
    {
      "cell_type": "code",
      "metadata": {
        "colab": {
          "base_uri": "https://localhost:8080/"
        },
        "id": "OsWOv23GOecN",
        "outputId": "42d3107f-e920-4cb1-e0b4-3013574920e9"
      },
      "source": [
        "print(a)\n",
        "print(b)"
      ],
      "execution_count": 8,
      "outputs": [
        {
          "output_type": "stream",
          "text": [
            "4\n",
            "8\n"
          ],
          "name": "stdout"
        }
      ]
    },
    {
      "cell_type": "code",
      "metadata": {
        "id": "wIckQ1nueNXU"
      },
      "source": [
        "#print log of x and store it in variable c\n",
        "\n",
        "c = math.log(x,10)"
      ],
      "execution_count": 10,
      "outputs": []
    },
    {
      "cell_type": "code",
      "metadata": {
        "id": "81OO8rLZeNXU",
        "colab": {
          "base_uri": "https://localhost:8080/"
        },
        "outputId": "8913e84f-96e7-48ef-b070-19f4a78048d6"
      },
      "source": [
        "#print minimum value between x,y,a, b and c\n",
        "print(min(x,y,a,b,c))"
      ],
      "execution_count": 12,
      "outputs": [
        {
          "output_type": "stream",
          "text": [
            "0.30102999566398114\n"
          ],
          "name": "stdout"
        }
      ]
    },
    {
      "cell_type": "code",
      "metadata": {
        "id": "IVoJv4qNeNXU",
        "colab": {
          "base_uri": "https://localhost:8080/"
        },
        "outputId": "f5dc444d-4284-44ba-f8b8-a61e770a3a9c"
      },
      "source": [
        "#print the largest integer not greater than c.\n",
        "math.floor(c)"
      ],
      "execution_count": 13,
      "outputs": [
        {
          "output_type": "execute_result",
          "data": {
            "text/plain": [
              "0"
            ]
          },
          "metadata": {
            "tags": []
          },
          "execution_count": 13
        }
      ]
    },
    {
      "cell_type": "code",
      "metadata": {
        "id": "P7-6VgAMeNXU",
        "colab": {
          "base_uri": "https://localhost:8080/"
        },
        "outputId": "fb8b19be-9f95-4b0e-bda8-509202f42355"
      },
      "source": [
        "#print the smallest integer not less than c.\n",
        "math.ceil(c)"
      ],
      "execution_count": 14,
      "outputs": [
        {
          "output_type": "execute_result",
          "data": {
            "text/plain": [
              "1"
            ]
          },
          "metadata": {
            "tags": []
          },
          "execution_count": 14
        }
      ]
    },
    {
      "cell_type": "code",
      "metadata": {
        "colab": {
          "base_uri": "https://localhost:8080/"
        },
        "id": "5ZDI9lYXeNXT",
        "outputId": "fa96347b-45cf-49ba-bee8-5f45bdee8d5b"
      },
      "source": [
        "# calculate and print all the possible numeriacl operations on a and b (There are total 7 operations)\n",
        "\n",
        "print(\"a + b = \", a+b)\n",
        "print(\"a - b = \", a-b)\n",
        "print(\"a * b = \", a*b)\n",
        "print(\"a / b = \", a/b)\n",
        "print(\"a % b = \", a%b)\n",
        "print(\"a // b = \", a//b)\n",
        "print(\"a ^ b = \", a**b)"
      ],
      "execution_count": null,
      "outputs": [
        {
          "output_type": "stream",
          "text": [
            "a + b =  12\n",
            "a - b =  -4\n",
            "a * b =  32\n",
            "a / b =  0.5\n",
            "a % b =  4\n",
            "a // b =  0\n",
            "a ^ b =  65536\n"
          ],
          "name": "stdout"
        }
      ]
    },
    {
      "cell_type": "markdown",
      "metadata": {
        "id": "CpK_SvIbeNXV"
      },
      "source": [
        "## Logical opeations\n",
        "\n",
        "Reference:- https://youtu.be/9w992l9TFIs"
      ]
    },
    {
      "cell_type": "markdown",
      "metadata": {
        "id": "GX4Z0AnteNXV"
      },
      "source": [
        "<p style='text-align: right;'> 1 + 1 + 1 + 6 = 9 points </p>\n"
      ]
    },
    {
      "cell_type": "code",
      "metadata": {
        "id": "wYpbM_fveNXV",
        "colab": {
          "base_uri": "https://localhost:8080/"
        },
        "outputId": "fcc70beb-844c-4402-e5c4-b5bd5569a270"
      },
      "source": [
        "# declare two variables, a = True, b = False\n",
        "\n",
        "a = True\n",
        "b = False\n",
        "\n",
        "print(a)\n",
        "print(b)"
      ],
      "execution_count": null,
      "outputs": [
        {
          "output_type": "stream",
          "text": [
            "True\n",
            "False\n"
          ],
          "name": "stdout"
        }
      ]
    },
    {
      "cell_type": "code",
      "metadata": {
        "id": "vgpEU8_neNXV",
        "colab": {
          "base_uri": "https://localhost:8080/"
        },
        "outputId": "d8ecd8de-c6e6-4bec-855b-956817f72bb6"
      },
      "source": [
        "# print type of a and type of b\n",
        "\n",
        "print(\"type of a is \", type(a))\n",
        "print(\"type of b is \", type(b))"
      ],
      "execution_count": null,
      "outputs": [
        {
          "output_type": "stream",
          "text": [
            "type of a is  <class 'bool'>\n",
            "type of b is  <class 'bool'>\n"
          ],
          "name": "stdout"
        }
      ]
    },
    {
      "cell_type": "code",
      "metadata": {
        "id": "D2rgf--9eNXV",
        "colab": {
          "base_uri": "https://localhost:8080/"
        },
        "outputId": "7f9b4e4b-1d6f-4ded-bad8-00fab8aa8471"
      },
      "source": [
        "# print int(a) and int(b)\n",
        "print(\"int of a is \", int(a))\n",
        "print(\"int of b is \", int(b))\n"
      ],
      "execution_count": null,
      "outputs": [
        {
          "output_type": "stream",
          "text": [
            "int of a is  1\n",
            "int of b is  0\n"
          ],
          "name": "stdout"
        }
      ]
    },
    {
      "cell_type": "code",
      "metadata": {
        "id": "ah900wkaeNXV",
        "colab": {
          "base_uri": "https://localhost:8080/"
        },
        "outputId": "1eff6bbd-0efe-4fef-9cb1-de139c560312"
      },
      "source": [
        "# Find and print the values of not a, not b, a and b, a or b, a and not b\n",
        "\n",
        "print(\"not a = \", not(a))\n",
        "print(\"not b = \",not(b))\n",
        "print(\"a and b = \", a & b)\n",
        "print(\"a or b = \", a or b)\n",
        "print(\"a and not b = \", a & (not b))"
      ],
      "execution_count": null,
      "outputs": [
        {
          "output_type": "stream",
          "text": [
            "not a =  False\n",
            "not b =  True\n",
            "a and b =  False\n",
            "a or b =  True\n",
            "a and not b =  True\n"
          ],
          "name": "stdout"
        }
      ]
    },
    {
      "cell_type": "markdown",
      "metadata": {
        "id": "l4JVbYR8eNXV"
      },
      "source": [
        "## List Comprehensions\n",
        "\n",
        "Reference:- https://youtu.be/17gTGqHG5xQ"
      ]
    },
    {
      "cell_type": "markdown",
      "metadata": {
        "id": "0CIutYHieNXV"
      },
      "source": [
        "<p style='text-align: right;'> 10 + 10 + 10= 30 points </p>\n"
      ]
    },
    {
      "cell_type": "code",
      "metadata": {
        "id": "anJ88T28eNXW",
        "colab": {
          "base_uri": "https://localhost:8080/"
        },
        "outputId": "954217c3-b5a6-4e15-cff1-8d93129568d0"
      },
      "source": [
        "# Using list comprehension, create a list containing numbers from 1 to 20.\n",
        "\n",
        "l1 = [x for x in range(1,21)]\n",
        "\n",
        "print(l1)"
      ],
      "execution_count": null,
      "outputs": [
        {
          "output_type": "stream",
          "text": [
            "[1, 2, 3, 4, 5, 6, 7, 8, 9, 10, 11, 12, 13, 14, 15, 16, 17, 18, 19, 20]\n"
          ],
          "name": "stdout"
        }
      ]
    },
    {
      "cell_type": "code",
      "metadata": {
        "id": "7lZ1y452eNXW",
        "colab": {
          "base_uri": "https://localhost:8080/"
        },
        "outputId": "db509bf4-5624-47ff-cd51-305be07a1123"
      },
      "source": [
        "# Using list comprehension, create a list containing numbers from 1 to 20 that are even\n",
        "\n",
        "l2 =  [ x for x in range(1,21) if x%2 == 0]\n",
        "\n",
        "print(l2)"
      ],
      "execution_count": null,
      "outputs": [
        {
          "output_type": "stream",
          "text": [
            "[2, 4, 6, 8, 10, 12, 14, 16, 18, 20]\n"
          ],
          "name": "stdout"
        }
      ]
    },
    {
      "cell_type": "markdown",
      "metadata": {
        "id": "bD4TcJvreNXW"
      },
      "source": [
        "Create a list of all the fruits you like. Using list comprehension, create another list which contains the length of fruits corresponding fruits\n",
        "- Eg. fruits = [‘apple’,’kiwi’,’orange’], then output would be - [5,4,6]\n"
      ]
    },
    {
      "cell_type": "code",
      "metadata": {
        "id": "flZPD3o5eNXW",
        "colab": {
          "base_uri": "https://localhost:8080/"
        },
        "outputId": "d327dc3b-9083-4e82-bbc5-e226f5cee0bf"
      },
      "source": [
        "fruits = ['apple','kiwi','orange']\n",
        "len_fruits = [len(x) for x in fruits]\n",
        "\n",
        "print(fruits)\n",
        "print(len_fruits)"
      ],
      "execution_count": null,
      "outputs": [
        {
          "output_type": "stream",
          "text": [
            "['apple', 'kiwi', 'orange']\n",
            "[5, 4, 6]\n"
          ],
          "name": "stdout"
        }
      ]
    },
    {
      "cell_type": "markdown",
      "metadata": {
        "id": "q07oOsRCeNXW"
      },
      "source": [
        "The above output is shown if fruits = ['apple','kiwi,'orange'], it can vary for different values of fruits"
      ]
    },
    {
      "cell_type": "markdown",
      "metadata": {
        "id": "IDDz4_e0eNXW"
      },
      "source": [
        "## String value and operators"
      ]
    },
    {
      "cell_type": "markdown",
      "metadata": {
        "id": "qps_eW_PeNXW"
      },
      "source": [
        "<p style='text-align: right;'> 1 + 1 + 1 + 1 + 1 = 5 points </p>\n"
      ]
    },
    {
      "cell_type": "markdown",
      "metadata": {
        "id": "6Ipf08Q7eNXW"
      },
      "source": [
        "### Characters in strings\n",
        "\n",
        "Reference:-  https://youtu.be/LnQDWIMaJlA"
      ]
    },
    {
      "cell_type": "code",
      "metadata": {
        "id": "OoTi1ofVeNXW"
      },
      "source": [
        "# declare the variables x and y\n",
        "\n",
        "x =  'cat'\n",
        "y = 'dog'"
      ],
      "execution_count": null,
      "outputs": []
    },
    {
      "cell_type": "code",
      "metadata": {
        "id": "XAIFbrDTeNXX",
        "colab": {
          "base_uri": "https://localhost:8080/"
        },
        "outputId": "d27bfaae-60f9-4201-b2a7-19fcea97d1b1"
      },
      "source": [
        "#Print both the strings\n",
        "print(x)\n",
        "print(y)"
      ],
      "execution_count": null,
      "outputs": [
        {
          "output_type": "stream",
          "text": [
            "cat\n",
            "dog\n"
          ],
          "name": "stdout"
        }
      ]
    },
    {
      "cell_type": "code",
      "metadata": {
        "id": "FWK03roMeNXX",
        "colab": {
          "base_uri": "https://localhost:8080/"
        },
        "outputId": "969a118d-6352-45be-de31-14b6e4044e39"
      },
      "source": [
        "#Print first character of both x and y. \n",
        "print(\"First ch of x = \", x[0])\n",
        "print(\"First ch of y = \",y[0])"
      ],
      "execution_count": null,
      "outputs": [
        {
          "output_type": "stream",
          "text": [
            "First ch of x =  c\n",
            "First ch of y =  d\n"
          ],
          "name": "stdout"
        }
      ]
    },
    {
      "cell_type": "code",
      "metadata": {
        "id": "h_KwSiO0eNXX",
        "colab": {
          "base_uri": "https://localhost:8080/"
        },
        "outputId": "5a50fb53-3f58-415d-bb00-475b40b3e497"
      },
      "source": [
        "#Print last character of both x and y.\n",
        "print(\"Last ch of x = \",x[-1])\n",
        "print(\"Last ch of y = \",y[-1])"
      ],
      "execution_count": null,
      "outputs": [
        {
          "output_type": "stream",
          "text": [
            "Last ch of x =  t\n",
            "Last ch of y =  g\n"
          ],
          "name": "stdout"
        }
      ]
    },
    {
      "cell_type": "code",
      "metadata": {
        "id": "0wkKYH5deNXX",
        "colab": {
          "base_uri": "https://localhost:8080/"
        },
        "outputId": "14c29647-2559-40d0-bdc2-af70151de0fc"
      },
      "source": [
        "#Print len of both x and y\n",
        "print(\"Length of x is \",len(x))\n",
        "print(\"Length of y is \",len(y))"
      ],
      "execution_count": null,
      "outputs": [
        {
          "output_type": "stream",
          "text": [
            "Length of x is  3\n",
            "Length of y is  3\n"
          ],
          "name": "stdout"
        }
      ]
    },
    {
      "cell_type": "code",
      "metadata": {
        "id": "7MTxU6BDeNXX",
        "colab": {
          "base_uri": "https://localhost:8080/"
        },
        "outputId": "22bec3f2-6b8d-4871-e31b-ece16f7603ff"
      },
      "source": [
        "#concatenate both x and y and store it in variable z and print z\n",
        "z = x+y\n",
        "print(z)"
      ],
      "execution_count": null,
      "outputs": [
        {
          "output_type": "stream",
          "text": [
            "catdog\n"
          ],
          "name": "stdout"
        }
      ]
    },
    {
      "cell_type": "code",
      "metadata": {
        "id": "hF-zdXhceNXX",
        "colab": {
          "base_uri": "https://localhost:8080/"
        },
        "outputId": "e4cf82ee-6637-4a2c-856a-906a79699ecc"
      },
      "source": [
        "#check if x is part of z \n",
        "print( x in z)"
      ],
      "execution_count": null,
      "outputs": [
        {
          "output_type": "stream",
          "text": [
            "True\n"
          ],
          "name": "stdout"
        }
      ]
    },
    {
      "cell_type": "markdown",
      "metadata": {
        "id": "clm-IjeGeNXX"
      },
      "source": [
        "### String slicing"
      ]
    },
    {
      "cell_type": "markdown",
      "metadata": {
        "id": "mewIf8iTeNXX"
      },
      "source": [
        "<p style='text-align: right;'> 2 points </p>"
      ]
    },
    {
      "cell_type": "code",
      "metadata": {
        "id": "bsCJMXk6eNXX",
        "colab": {
          "base_uri": "https://localhost:8080/"
        },
        "outputId": "350ebf1a-846a-4dcf-a0bb-11ee25c496b2"
      },
      "source": [
        "#Create variable a = “pineapple”\n",
        "a = \"pineapple\"\n",
        "\n",
        "print(a)"
      ],
      "execution_count": null,
      "outputs": [
        {
          "output_type": "stream",
          "text": [
            "pineapple\n"
          ],
          "name": "stdout"
        }
      ]
    },
    {
      "cell_type": "code",
      "metadata": {
        "id": "Gx1aw_kieNXY",
        "colab": {
          "base_uri": "https://localhost:8080/"
        },
        "outputId": "6f0cfd3d-b28e-48c6-faa5-a66dbb69477d"
      },
      "source": [
        "# Using index slicing, print the words ‘pine’ and “apple”.\n",
        "# HINT - a[:]\n",
        "\n",
        "print(a[:4])\n",
        "print(a[4:])"
      ],
      "execution_count": null,
      "outputs": [
        {
          "output_type": "stream",
          "text": [
            "pine\n",
            "apple\n"
          ],
          "name": "stdout"
        }
      ]
    },
    {
      "cell_type": "code",
      "metadata": {
        "id": "k-rs1GYmeNXY",
        "colab": {
          "base_uri": "https://localhost:8080/",
          "height": 35
        },
        "outputId": "649eabee-fd16-4f04-8011-e617484e33d0"
      },
      "source": [
        "#Convert a into upper case\n",
        "a.upper()\n"
      ],
      "execution_count": null,
      "outputs": [
        {
          "output_type": "execute_result",
          "data": {
            "application/vnd.google.colaboratory.intrinsic+json": {
              "type": "string"
            },
            "text/plain": [
              "'PINEAPPLE'"
            ]
          },
          "metadata": {
            "tags": []
          },
          "execution_count": 33
        }
      ]
    },
    {
      "cell_type": "markdown",
      "metadata": {
        "id": "Z8XcOd5-eNXY"
      },
      "source": [
        "## Sentences"
      ]
    },
    {
      "cell_type": "markdown",
      "metadata": {
        "id": "ReZ5tbFAeNXY"
      },
      "source": [
        "<p style='text-align: right;'> 1+1+1+1+1+1 = 6 points </p>\n"
      ]
    },
    {
      "cell_type": "code",
      "metadata": {
        "id": "dL4G-RTteNXY",
        "colab": {
          "base_uri": "https://localhost:8080/"
        },
        "outputId": "ad89249f-2065-4b53-e87e-eee2e8a2a8f8"
      },
      "source": [
        "# Declare a sentence of ‘I am flying to London’\n",
        "sent = 'I am flying to London'\n",
        "\n",
        "print(sent)"
      ],
      "execution_count": null,
      "outputs": [
        {
          "output_type": "stream",
          "text": [
            "I am flying to London\n"
          ],
          "name": "stdout"
        }
      ]
    },
    {
      "cell_type": "code",
      "metadata": {
        "id": "LA-HL-kaeNXY",
        "colab": {
          "base_uri": "https://localhost:8080/"
        },
        "outputId": "26fed1ff-beaa-49b1-a798-024259b48c18"
      },
      "source": [
        "#Print len of the sentence\n",
        "\n",
        "print(\"Len of sentence is \", len(sent))"
      ],
      "execution_count": null,
      "outputs": [
        {
          "output_type": "stream",
          "text": [
            "Len of sentence is  21\n"
          ],
          "name": "stdout"
        }
      ]
    },
    {
      "cell_type": "code",
      "metadata": {
        "id": "fe-uTW_9eNXY",
        "colab": {
          "base_uri": "https://localhost:8080/"
        },
        "outputId": "f338fd14-7312-42aa-b40f-295d8ebc7028"
      },
      "source": [
        "#Using list comprehension, print the word London\n",
        "q = sent[15:21]\n",
        "print(q)"
      ],
      "execution_count": null,
      "outputs": [
        {
          "output_type": "stream",
          "text": [
            "London\n"
          ],
          "name": "stdout"
        }
      ]
    },
    {
      "cell_type": "code",
      "metadata": {
        "id": "HIekhMtXeNXY",
        "colab": {
          "base_uri": "https://localhost:8080/"
        },
        "outputId": "3dc1e0dc-fc0a-47fa-ab5b-4f85a8d96724"
      },
      "source": [
        "# Use .split to get list of individual words in the sentence\n",
        "\n",
        "sent.split( )"
      ],
      "execution_count": null,
      "outputs": [
        {
          "output_type": "execute_result",
          "data": {
            "text/plain": [
              "['I', 'am', 'flying', 'to', 'London']"
            ]
          },
          "metadata": {
            "tags": []
          },
          "execution_count": 39
        }
      ]
    },
    {
      "cell_type": "code",
      "metadata": {
        "id": "pZdbgHX3eNXZ",
        "colab": {
          "base_uri": "https://localhost:8080/",
          "height": 35
        },
        "outputId": "714c0b57-42c5-49b7-ebff-af7412857cbb"
      },
      "source": [
        "# Convert sentence in lower case \n",
        "sent.lower()\n"
      ],
      "execution_count": null,
      "outputs": [
        {
          "output_type": "execute_result",
          "data": {
            "application/vnd.google.colaboratory.intrinsic+json": {
              "type": "string"
            },
            "text/plain": [
              "'i am flying to london'"
            ]
          },
          "metadata": {
            "tags": []
          },
          "execution_count": 40
        }
      ]
    },
    {
      "cell_type": "code",
      "metadata": {
        "id": "J2zWMRxTeNXZ",
        "colab": {
          "base_uri": "https://localhost:8080/",
          "height": 35
        },
        "outputId": "3b933d25-b76a-4466-aef6-1e983993d994"
      },
      "source": [
        "# Convert sentence in upper case .\n",
        "\n",
        "sent.upper()"
      ],
      "execution_count": null,
      "outputs": [
        {
          "output_type": "execute_result",
          "data": {
            "application/vnd.google.colaboratory.intrinsic+json": {
              "type": "string"
            },
            "text/plain": [
              "'I AM FLYING TO LONDON'"
            ]
          },
          "metadata": {
            "tags": []
          },
          "execution_count": 41
        }
      ]
    },
    {
      "cell_type": "markdown",
      "metadata": {
        "id": "OIX_zec1eNXZ"
      },
      "source": [
        "## Functions"
      ]
    },
    {
      "cell_type": "markdown",
      "metadata": {
        "id": "L0vLAhsKeNXZ"
      },
      "source": [
        "### Declare a function which  takes input as x, and returns the square of x. \n",
        "Reference:- https://youtu.be/Rpq9MC67M08"
      ]
    },
    {
      "cell_type": "markdown",
      "metadata": {
        "id": "arAkBy9SeNXZ"
      },
      "source": [
        "<p style='text-align: right;'> 5 + 3 = 8 points </p>\n"
      ]
    },
    {
      "cell_type": "code",
      "metadata": {
        "id": "hSiSaciReNXZ"
      },
      "source": [
        "def square(x):\n",
        "    y = x**2\n",
        "    \n",
        "    return y"
      ],
      "execution_count": null,
      "outputs": []
    },
    {
      "cell_type": "markdown",
      "metadata": {
        "id": "h-gWhymNeNXZ"
      },
      "source": [
        "Call the function to find the value of square of 9."
      ]
    },
    {
      "cell_type": "code",
      "metadata": {
        "id": "n39wXazoeNXZ",
        "colab": {
          "base_uri": "https://localhost:8080/"
        },
        "outputId": "4abe5341-f3f1-4863-a42b-f16c2a356fb6"
      },
      "source": [
        "# find the value of square of 9 using the function square\n",
        "print( \" Square of 9 is \",square(9))\n"
      ],
      "execution_count": null,
      "outputs": [
        {
          "output_type": "stream",
          "text": [
            " Square of 9 is  81\n"
          ],
          "name": "stdout"
        }
      ]
    },
    {
      "cell_type": "markdown",
      "metadata": {
        "id": "kbMd0a5OeNXZ"
      },
      "source": [
        "### Define another function which checks whether a given number if odd or even, for a given input, it should print whether the given number is odd or even. "
      ]
    },
    {
      "cell_type": "markdown",
      "metadata": {
        "id": "GlFY1uvReNXZ"
      },
      "source": [
        "<p style='text-align: right;'> 5 + 3 = 8 points </p>\n"
      ]
    },
    {
      "cell_type": "code",
      "metadata": {
        "id": "Oja7v27TeNXa"
      },
      "source": [
        "# your code here\n",
        "def check_odd_even(x):\n",
        "    if x%2 == 0:\n",
        "      print(x,\"is even\")\n",
        "    else:\n",
        "      print(x,\"is odd\")"
      ],
      "execution_count": null,
      "outputs": []
    },
    {
      "cell_type": "markdown",
      "metadata": {
        "id": "qePe7xTqeNXa"
      },
      "source": [
        "Using both the functions to check whether the square of 3,6,21 is odd or even.\n"
      ]
    },
    {
      "cell_type": "code",
      "metadata": {
        "id": "SvPD7KIReNXa",
        "colab": {
          "base_uri": "https://localhost:8080/"
        },
        "outputId": "c1af065a-fc89-4948-a323-945a97c93fd4"
      },
      "source": [
        " # your code here\n",
        "check_odd_even(3)\n",
        "check_odd_even(6)\n",
        "check_odd_even(21)\n"
      ],
      "execution_count": null,
      "outputs": [
        {
          "output_type": "stream",
          "text": [
            "3 is odd\n",
            "6 is even\n",
            "21 is odd\n"
          ],
          "name": "stdout"
        }
      ]
    },
    {
      "cell_type": "markdown",
      "metadata": {
        "id": "jq3_yMKzeNXa"
      },
      "source": [
        "# Loops and Iterations\n",
        "Reference:- https://youtu.be/6iF8Xb7Z3wQ"
      ]
    },
    {
      "cell_type": "markdown",
      "metadata": {
        "id": "PkaQt5bFeNXa"
      },
      "source": [
        "## If statement"
      ]
    },
    {
      "cell_type": "markdown",
      "metadata": {
        "id": "OvyolCD9eNXa"
      },
      "source": [
        "<p style='text-align: right;'> 1 + 2 + 3 = 6 points </p>\n"
      ]
    },
    {
      "cell_type": "code",
      "metadata": {
        "id": "TFWHRdSIeNXa",
        "colab": {
          "base_uri": "https://localhost:8080/"
        },
        "outputId": "d97e5ed5-97c1-417e-fc78-07952f0a37f9"
      },
      "source": [
        "#Declare a variable x equal to a number of your choice.\n",
        "#your code here\n",
        "x = 4\n",
        "print(x)"
      ],
      "execution_count": null,
      "outputs": [
        {
          "output_type": "stream",
          "text": [
            "4\n"
          ],
          "name": "stdout"
        }
      ]
    },
    {
      "cell_type": "code",
      "metadata": {
        "id": "5zdIP9qkeNXa",
        "colab": {
          "base_uri": "https://localhost:8080/"
        },
        "outputId": "bf0dd6bd-99fb-408f-d417-76eb61998337"
      },
      "source": [
        "#Using an if statement, print whether the number is 0, positive or negative.\n",
        "if (4 > 0):\n",
        "  print(\"4 is positive\")\n",
        "elif (4< 0):\n",
        "  print(\"4 is negative\")\n",
        "else:\n",
        "  print(0)\n"
      ],
      "execution_count": null,
      "outputs": [
        {
          "output_type": "stream",
          "text": [
            "4 is positive\n"
          ],
          "name": "stdout"
        }
      ]
    },
    {
      "cell_type": "code",
      "metadata": {
        "id": "l5LgRlqpeNXa",
        "colab": {
          "base_uri": "https://localhost:8080/"
        },
        "outputId": "be9b30e4-95ae-471e-b754-9319e678c140"
      },
      "source": [
        "# Define a function, which takes input from the user and prints whether the given input is 0,positive or negative.\n",
        "\n",
        "def check_num(x):\n",
        "    if (x > 0):\n",
        "      return(x, 'is positive')\n",
        "    elif (x < 0 ):\n",
        "      return(x, 'is negative')\n",
        "    else:\n",
        "      return(0);\n",
        "\n",
        "\n",
        "print(check_num(10))\n",
        "print(check_num(-2))\n",
        "print(check_num(0))"
      ],
      "execution_count": null,
      "outputs": [
        {
          "output_type": "stream",
          "text": [
            "(10, 'is positive')\n",
            "(-2, 'is negative')\n",
            "0\n"
          ],
          "name": "stdout"
        }
      ]
    },
    {
      "cell_type": "markdown",
      "metadata": {
        "id": "t_Wm6qQteNXa"
      },
      "source": [
        "## For loop"
      ]
    },
    {
      "cell_type": "markdown",
      "metadata": {
        "id": "5WW-_3D2eNXb"
      },
      "source": [
        "<p style='text-align: right;'> 2 points </p>\n"
      ]
    },
    {
      "cell_type": "code",
      "metadata": {
        "id": "1kfN4juZeNXb",
        "colab": {
          "base_uri": "https://localhost:8080/"
        },
        "outputId": "aebba6f6-2287-4a03-83be-443ffb064fbb"
      },
      "source": [
        "#Create a list x, such that it contains the elements - ‘India’, ‘Israel’,’Canada’.\n",
        "\n",
        "x = [\"India\",\"Israel\",\"Canada\"]\n",
        "print(x)"
      ],
      "execution_count": null,
      "outputs": [
        {
          "output_type": "stream",
          "text": [
            "['India', 'Israel', 'Canada']\n"
          ],
          "name": "stdout"
        }
      ]
    },
    {
      "cell_type": "code",
      "metadata": {
        "id": "pCpvEYO4eNXb",
        "colab": {
          "base_uri": "https://localhost:8080/"
        },
        "outputId": "49106075-03ab-4d97-8903-527be6f3efb1"
      },
      "source": [
        "#Using For loop, iterate over the list and print the elements.\n",
        "for x in x:\n",
        "  print(x)\n"
      ],
      "execution_count": null,
      "outputs": [
        {
          "output_type": "stream",
          "text": [
            "India\n",
            "Israel\n",
            "Canada\n"
          ],
          "name": "stdout"
        }
      ]
    },
    {
      "cell_type": "markdown",
      "metadata": {
        "id": "Rim9K3pceNXb"
      },
      "source": [
        "<p style='text-align: right;'> 2 points </p>\n"
      ]
    },
    {
      "cell_type": "code",
      "metadata": {
        "id": "rx3tbYM9eNXb",
        "colab": {
          "base_uri": "https://localhost:8080/"
        },
        "outputId": "abc96aad-fb93-4dee-c9ce-fcc4af61692d"
      },
      "source": [
        "# Using For loop, print the table of 2.\n",
        "num = 2\n",
        "for i in range(1,11):\n",
        "  print(num, \"*\" ,i,\" = \", num*i)"
      ],
      "execution_count": null,
      "outputs": [
        {
          "output_type": "stream",
          "text": [
            "2 * 1  =  2\n",
            "2 * 2  =  4\n",
            "2 * 3  =  6\n",
            "2 * 4  =  8\n",
            "2 * 5  =  10\n",
            "2 * 6  =  12\n",
            "2 * 7  =  14\n",
            "2 * 8  =  16\n",
            "2 * 9  =  18\n",
            "2 * 10  =  20\n"
          ],
          "name": "stdout"
        }
      ]
    },
    {
      "cell_type": "markdown",
      "metadata": {
        "id": "TYlQTnLeeNXb"
      },
      "source": [
        "For a given list, x = [21, ‘hello,’cream’, 20,19,’village’], using for loop to iterate over the items and using - if statement print the items that are of type int"
      ]
    },
    {
      "cell_type": "code",
      "metadata": {
        "id": "zPb6Xn4PeNXb",
        "colab": {
          "base_uri": "https://localhost:8080/"
        },
        "outputId": "f00ba59b-e028-462e-b6b5-092c6848aa91"
      },
      "source": [
        "#code here\n",
        "x = [21, \"hello\",\"cream\", 20,19,\"village\"]\n",
        "\n",
        "for x in x:\n",
        "  if type(x)!=int:\n",
        "    continue\n",
        "  print(x)"
      ],
      "execution_count": null,
      "outputs": [
        {
          "output_type": "stream",
          "text": [
            "21\n",
            "20\n",
            "19\n"
          ],
          "name": "stdout"
        }
      ]
    },
    {
      "cell_type": "markdown",
      "metadata": {
        "id": "KBkudqyteNXb"
      },
      "source": [
        "Using For loop, create the following pattern. "
      ]
    },
    {
      "cell_type": "markdown",
      "metadata": {
        "id": "zp2ASyFFeNXb"
      },
      "source": [
        "<p style='text-align: right;'> 10 points </p>\n"
      ]
    },
    {
      "cell_type": "code",
      "metadata": {
        "id": "SUuCztSneNXb",
        "outputId": "9fb248f7-d433-420d-9dd3-9eb902ff5d43"
      },
      "source": [
        "# print the following pattern"
      ],
      "execution_count": null,
      "outputs": [
        {
          "output_type": "stream",
          "text": [
            "* \r\n",
            "* * \r\n",
            "* * * \r\n",
            "* * * * \r\n",
            "* * * * * \r\n"
          ],
          "name": "stdout"
        }
      ]
    },
    {
      "cell_type": "code",
      "metadata": {
        "id": "1f5mhGWWeNXc",
        "colab": {
          "base_uri": "https://localhost:8080/"
        },
        "outputId": "46b24c0e-3265-4230-a9b2-64787db15fe4"
      },
      "source": [
        "#your code here\n",
        "\n",
        "def pattern(n):\n",
        "     \n",
        "    for i in range(0, n):\n",
        "      for j in range(0, i+1):\n",
        "         \n",
        "            print(\"* \",end=\"\")\n",
        "      \n",
        "      print(\"\\r\")\n",
        " \n",
        "# Driver Code\n",
        "n = 5\n",
        "pattern(n)"
      ],
      "execution_count": 2,
      "outputs": [
        {
          "output_type": "stream",
          "text": [
            "* \r\n",
            "* * \r\n",
            "* * * \r\n",
            "* * * * \r\n",
            "* * * * * \r\n"
          ],
          "name": "stdout"
        }
      ]
    },
    {
      "cell_type": "markdown",
      "metadata": {
        "id": "jE2Yqu-1eNXc"
      },
      "source": [
        "## While loop"
      ]
    },
    {
      "cell_type": "markdown",
      "metadata": {
        "id": "7F80GCJxeNXc"
      },
      "source": [
        "- Using while loop make a function that prints all the values between 1 to n. "
      ]
    },
    {
      "cell_type": "markdown",
      "metadata": {
        "id": "eYnlKrJeeNXc"
      },
      "source": [
        "<p style='text-align: right;'> 10 points </p>\n"
      ]
    },
    {
      "cell_type": "code",
      "metadata": {
        "id": "hmhgUZ9ReNXc"
      },
      "source": [
        "def counter(n):\n",
        "  i=1\n",
        "  while(i < n+1):\n",
        "    print(i)\n",
        "    i = i+1\n",
        "    "
      ],
      "execution_count": 3,
      "outputs": []
    },
    {
      "cell_type": "code",
      "metadata": {
        "id": "SHWDY_QyeNXc",
        "colab": {
          "base_uri": "https://localhost:8080/"
        },
        "outputId": "0d903a0f-6fa4-4ea0-81ed-b9b6af7f97ef"
      },
      "source": [
        "counter(10) #this should print numbers from 1 to 10"
      ],
      "execution_count": 4,
      "outputs": [
        {
          "output_type": "stream",
          "text": [
            "1\n",
            "2\n",
            "3\n",
            "4\n",
            "5\n",
            "6\n",
            "7\n",
            "8\n",
            "9\n",
            "10\n"
          ],
          "name": "stdout"
        }
      ]
    },
    {
      "cell_type": "markdown",
      "metadata": {
        "id": "6VhKFcUUeNXc"
      },
      "source": [
        "### Write the code for the following, what is the output obtained?\n",
        "- Set a variable flag = True, num = 5\n",
        "- Run a while loop till flag = True\n",
        "- Inside the while loop - \n",
        "    - Increment the value of num by 5\n",
        "    - If value of num is greater then 50, set flag to be False"
      ]
    },
    {
      "cell_type": "code",
      "metadata": {
        "id": "tbaduSb4eNXc",
        "colab": {
          "base_uri": "https://localhost:8080/"
        },
        "outputId": "42acd065-a967-4dd9-dcd1-c3507ec781c8"
      },
      "source": [
        "# your code here\n",
        "flag = True\n",
        "num = 5\n",
        "\n",
        "while (flag == True):\n",
        "  print(num)\n",
        "  num = num+5\n",
        "  if num>50:\n",
        "    flag = False"
      ],
      "execution_count": 16,
      "outputs": [
        {
          "output_type": "stream",
          "text": [
            "5\n",
            "10\n",
            "15\n",
            "20\n",
            "25\n",
            "30\n",
            "35\n",
            "40\n",
            "45\n",
            "50\n"
          ],
          "name": "stdout"
        }
      ]
    },
    {
      "cell_type": "markdown",
      "metadata": {
        "id": "ceWwq4PgeNXd"
      },
      "source": [
        "----------------------------------------------------------------------"
      ]
    },
    {
      "cell_type": "markdown",
      "metadata": {
        "id": "52T19XOpeNXd"
      },
      "source": [
        "# Smile, you completed the first milestone :)!! "
      ]
    },
    {
      "cell_type": "markdown",
      "metadata": {
        "id": "CG6h_jBBkqhy"
      },
      "source": [
        "# FeedBack\n",
        "We hope you’ve enjoyed this course so far. We’re committed to help you use \"AI for All\" course to its full potential, so that you have a great learning experience. And that’s why we need your help in form of a feedback here.\n",
        "\n",
        "**Please fill this feedback form**\n",
        "https://docs.google.com/forms/d/e/1FAIpQLSfjBmH0yJSSA34IhSVx4h2eDMgOAeG4Dk-yHid__NMTk3Hq5g/viewform"
      ]
    },
    {
      "cell_type": "code",
      "metadata": {
        "id": "SPf1zBKuv13T"
      },
      "source": [
        ""
      ],
      "execution_count": null,
      "outputs": []
    }
  ]
}